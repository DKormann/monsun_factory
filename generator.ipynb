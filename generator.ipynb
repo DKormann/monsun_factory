{
 "cells": [
  {
   "cell_type": "markdown",
   "metadata": {},
   "source": [
    "## imports"
   ]
  },
  {
   "cell_type": "code",
   "execution_count": 1,
   "metadata": {},
   "outputs": [],
   "source": [
    "%load_ext autoreload\n",
    "%autoreload 2"
   ]
  },
  {
   "cell_type": "code",
   "execution_count": 2,
   "metadata": {},
   "outputs": [],
   "source": [
    "import random\n",
    "import json\n",
    "import math"
   ]
  },
  {
   "cell_type": "code",
   "execution_count": 3,
   "metadata": {},
   "outputs": [],
   "source": [
    "from importlib import reload\n",
    "import lib"
   ]
  },
  {
   "cell_type": "code",
   "execution_count": 4,
   "metadata": {},
   "outputs": [],
   "source": [
    "from lib.local_database import Database, Collection, Question, db\n",
    "from lib.local_database import randint"
   ]
  },
  {
   "cell_type": "code",
   "execution_count": 5,
   "metadata": {},
   "outputs": [],
   "source": [
    "from lib.html_viewer import view_questions as view\n",
    "from lib.html_viewer import view_components as view_comp\n",
    "from lib.html_viewer import extract_vectorimage as extract\n",
    "from lib.html_viewer import svg_to_component as compose\n",
    "from lib.html_viewer import tabl,trow,telm,underline,inpt,mini_red\n",
    "from lib.html_viewer import h3,p,empty,span,div,mkrow,mktabl"
   ]
  },
  {
   "cell_type": "code",
   "execution_count": 6,
   "metadata": {},
   "outputs": [],
   "source": [
    "from lib.svg_generator import diagram"
   ]
  },
  {
   "cell_type": "markdown",
   "metadata": {},
   "source": [
    "## setup"
   ]
  },
  {
   "cell_type": "code",
   "execution_count": 7,
   "metadata": {},
   "outputs": [
    {
     "data": {
      "text/plain": [
       "<Collection math_C 32 types>"
      ]
     },
     "execution_count": 7,
     "metadata": {},
     "output_type": "execute_result"
    }
   ],
   "source": [
    "random.seed(22)\n",
    "collection:Collection = db.get_collection(\"math\",\"C\")\n",
    "collection"
   ]
  },
  {
   "cell_type": "code",
   "execution_count": 9,
   "metadata": {},
   "outputs": [
    {
     "data": {
      "text/plain": [
       "<Collection math_C 32 types>"
      ]
     },
     "execution_count": 9,
     "metadata": {},
     "output_type": "execute_result"
    }
   ],
   "source": [
    "collection"
   ]
  },
  {
   "attachments": {},
   "cell_type": "markdown",
   "metadata": {},
   "source": [
    "## examples"
   ]
  },
  {
   "cell_type": "code",
   "execution_count": 9,
   "metadata": {},
   "outputs": [
    {
     "name": "stdout",
     "output_type": "stream",
     "text": [
      "view file:///Users/peergynt/fun/svelte/monsun/factory/views/index.html in browser\n"
     ]
    }
   ],
   "source": [
    "view_comp(h3('hello'),p('bye'))"
   ]
  },
  {
   "cell_type": "code",
   "execution_count": 10,
   "metadata": {},
   "outputs": [
    {
     "name": "stdout",
     "output_type": "stream",
     "text": [
      "view file:///Users/peergynt/fun/svelte/monsun/factory/views/index.html in browser\n"
     ]
    }
   ],
   "source": [
    "example1 = Question.standart(\"was ist 1 + {}<br> <input> <p></p>\",\"2\",[1],\"\")\n",
    "example2 = Question.standart(\"was ist 1 + {}<br> <input> <p></p>\",\"3\",[2],\"\")\n",
    "example3 = Question.multiple_choice('was ist 3 * 3',[9],[1,2,3],'')\n",
    "view(example1,example2,example3)"
   ]
  },
  {
   "attachments": {},
   "cell_type": "markdown",
   "metadata": {},
   "source": [
    "# generate"
   ]
  },
  {
   "cell_type": "code",
   "execution_count": 11,
   "metadata": {},
   "outputs": [
    {
     "data": {
      "text/plain": [
       "[]"
      ]
     },
     "execution_count": 11,
     "metadata": {},
     "output_type": "execute_result"
    }
   ],
   "source": [
    "collection.series_names"
   ]
  },
  {
   "attachments": {},
   "cell_type": "markdown",
   "metadata": {},
   "source": [
    "### Wertetafel"
   ]
  },
  {
   "cell_type": "code",
   "execution_count": 58,
   "metadata": {},
   "outputs": [
    {
     "name": "stdout",
     "output_type": "stream",
     "text": [
      "view file:///Users/peergynt/fun/svelte/monsun/factory/views/index.html in browser\n"
     ]
    }
   ],
   "source": [
    "tip = '''\n",
    "<p> in einem Zahlensystem kannst du immer 10 zu einer größeren einheit bündeln </p>\n",
    "<br></br>\n",
    "<p>10 Einer (E) -> 1 Zehner (Z)</p>\n",
    "<p>10 Zehner (E) -> 1 Hunderter (Z)</p>\n",
    "<p>10 Hunderter (E) -> 1 Tausender (Z)</p>\n",
    "<p>10 Tausender (E) -> 1 Zehntausender (Z)</p>\n",
    "<p>10 Zehntausender (E) -> 1 Hunderttausender (Z)</p>\n",
    "<br></br>\n",
    "<p>Zahlen kannst du zerlegen und in eine Stellenwerttafel eintragen:</p>\n",
    "<br></br>\n",
    "0M 5HT 6ZT 3T 4H 8Z 1E =\n",
    "<br></br>\n",
    "0 + 500000 + 60000 + 3000 + 400 + 80 + 1 = 563481\n",
    "<br></br>\n",
    "<table style=\"margin:auto;border: 1px solid black\">\n",
    "<tr>\n",
    "    <th>Stelle</th><th>M.</th><th>H.T.</th><th>Z.T.</th><th>T.</th><th>H.</th><th>Z.</th><th>E.</th>\n",
    "</tr>\n",
    "<tr>\n",
    "    <th>Ziffer</th>\n",
    "    <th><input style = \"width:2em\" readonly value = \"0\"></th>\n",
    "    <th><input style = \"width:2em\" readonly value = \"5\"></th>\n",
    "    <th><input style = \"width:2em\" readonly value = \"6\"></th>\n",
    "    <th><input style = \"width:2em\" readonly value = \"3\"></th>\n",
    "    <th><input style = \"width:2em\" readonly value = \"4\"></th>\n",
    "    <th><input style = \"width:2em\" readonly value = \"8\"></th>\n",
    "    <th><input style = \"width:2em\" readonly value = \"1\"></th>\n",
    "</tr>\n",
    "</table>\n",
    "'''\n",
    "\n",
    "view_comp(tip)"
   ]
  },
  {
   "cell_type": "code",
   "execution_count": 59,
   "metadata": {},
   "outputs": [
    {
     "name": "stdout",
     "output_type": "stream",
     "text": [
      "view file:///Users/peergynt/fun/svelte/monsun/factory/views/index.html in browser\n"
     ]
    }
   ],
   "source": [
    "\n",
    "comp = '''\n",
    "<p>Zerlege die zahlen und trage sie in die Stellenwerttafel ein</p>\n",
    "<p>{} = <input style=\"width:3.7em\"> + <input style=\"width:3em\"> + <input style=\"width:2.5em\">+ <input style=\"width:1.9em\"> + <input style=\"width:1.3em\"> + <input style=\"width:.7em\"></p>\n",
    "<br>\n",
    "<table style=\"margin:auto;border: 1px solid black\">\n",
    "<tr>\n",
    "    <th>Stelle</th><th>M.</th><th>H.T.</th><th>Z.T.</th><th>T.</th><th>H.</th><th>Z.</th><th>E.</th>\n",
    "</tr>\n",
    "<tr>\n",
    "    <th>Ziffer</th>\n",
    "    <th><input style = \"width:2em\"></th>\n",
    "    <th><input style = \"width:2em\"></th>\n",
    "    <th><input style = \"width:2em\"></th>\n",
    "    <th><input style = \"width:2em\"></th>\n",
    "    <th><input style = \"width:2em\"></th>\n",
    "    <th><input style = \"width:2em\"></th>\n",
    "    <th><input style = \"width:2em\"></th>\n",
    "</tr>\n",
    "</table>\n",
    "'''\n",
    "\n",
    "view_comp(comp)"
   ]
  },
  {
   "cell_type": "code",
   "execution_count": 63,
   "metadata": {},
   "outputs": [],
   "source": [
    "keys= [randint(6) for _ in range(10)]\n",
    "titles = [*map (lambda k: comp.format(str(k)),keys)]\n",
    "def solve(key):\n",
    "    sols = []\n",
    "    stw  = [0]\n",
    "    for i in range(6,0,-1):\n",
    "        s = key%10**i\n",
    "        s = s // 10 **(i-1)\n",
    "        sols.append(str(s*10**(i-1)))\n",
    "        stw.append(str(s))\n",
    "    return json.dumps(sols+stw)\n",
    "solve(20938)\n",
    "solutions = [*map (lambda k: solve(k),keys)]"
   ]
  },
  {
   "cell_type": "code",
   "execution_count": 64,
   "metadata": {},
   "outputs": [
    {
     "data": {
      "text/plain": [
       "'[\"200000\", \"30000\", \"8000\", \"100\", \"90\", \"4\", 0, \"2\", \"3\", \"8\", \"1\", \"9\", \"4\"]'"
      ]
     },
     "execution_count": 64,
     "metadata": {},
     "output_type": "execute_result"
    }
   ],
   "source": [
    "solve(238194)"
   ]
  },
  {
   "cell_type": "code",
   "execution_count": 65,
   "metadata": {},
   "outputs": [
    {
     "name": "stdout",
     "output_type": "stream",
     "text": [
      "view file:///Users/peergynt/fun/svelte/monsun/factory/views/index.html in browser\n"
     ]
    }
   ],
   "source": [
    "q = [*map (lambda p:Question.standart(p[0],p[1],[],tip),zip(titles,solutions)) ]\n",
    "view(*q)"
   ]
  },
  {
   "cell_type": "code",
   "execution_count": 67,
   "metadata": {},
   "outputs": [],
   "source": [
    "collection.add_series(q,5,\"Wertetafel\",replace = True)"
   ]
  },
  {
   "cell_type": "code",
   "execution_count": 68,
   "metadata": {},
   "outputs": [
    {
     "name": "stdout",
     "output_type": "stream",
     "text": [
      "math_C\n",
      "sname: Wertetafel rstep: 0.5\n",
      "sname: Große Nachbarzahlen rstep: 0.5\n",
      "sname: Zahlen vergleichen rstep: 0.09999999999999964\n",
      "sname: zahlenstrahl rstep: 1.0\n",
      "sname: zahlenreihe rstep: 0.7142857142857153\n",
      "sname: Runden rstep: 0.4800000000000004\n",
      "sname: überschlag rstep: 0.25\n",
      "sname: schriftliche addition rstep: 0.29999999999999716\n",
      "sname: schriftliche addition ergänzen rstep: 0.20000000000000284\n",
      "sname: schriftliche subtraktion rstep: 0.29999999999999716\n",
      "sname: schriftliche subtraktion ergänzen rstep: 0.20000000000000284\n",
      "sname: große multiplikation rstep: 0.028571428571424917\n",
      "sname: große division rstep: 0.057142857142864045\n",
      "sname: schriftliche multiplikation rstep: 0.29999999999999716\n",
      "sname: schriftliche multiplikation zweistellig rstep: 0.20000000000000284\n",
      "sname: runden bei mulitiplikation rstep: 0.09999999999999432\n",
      "sname: schrifltiche division rstep: 0.30000000000001137\n",
      "sname: runden bei division rstep: 0.12000000000000455\n",
      "sname: schriftliche division mit rest rstep: 0.19999999999998863\n",
      "sname: teilbarkeit rstep: 0.25\n",
      "sname: zeitangaben vergleichen rstep: 1.0\n",
      "sname: zeitangaben umwandeln rstep: 0.1666666666666572\n",
      "sname: geldangaben vergleichen rstep: 0.4444444444444571\n",
      "sname: längenangaben schätzen rstep: 0.5\n",
      "sname: längen umwandeln rstep: 0.4166666666666572\n",
      "sname: diagram lesen rstep: 0.8000000000000114\n",
      "sname: fläche bestimmen rstep: 1.0\n",
      "sname: fläche bestimmen 2 rstep: 0.22222222222222854\n",
      "sname: umfang bestimmen rstep: 0.5\n",
      "sname: achsensymmetrie rstep: 0.25\n",
      "sname: rotations symmetrie rstep: 0.30000000000001137\n",
      "sname: perspektivische ansichten rstep: 0.2608695652174049\n"
     ]
    }
   ],
   "source": [
    "db.save()"
   ]
  },
  {
   "attachments": {},
   "cell_type": "markdown",
   "metadata": {},
   "source": [
    "### große nachbarzahlen"
   ]
  },
  {
   "cell_type": "code",
   "execution_count": 10,
   "metadata": {},
   "outputs": [
    {
     "name": "stdout",
     "output_type": "stream",
     "text": [
      "view file:///Users/peergynt/fun/svelte/monsun/factory/views/index.html in browser\n"
     ]
    }
   ],
   "source": [
    "tip = '''\n",
    "<p>den Nachbartausender, Nachbarzehntausender, oder Nachbarhunderttausender einer zahl erhälst du wenn du bis zum nächsten ganzen Tausender, Zehntausender oder Hunderttausender vor - oder zurückggehst.</p>\n",
    "<table style=\"margin:auto\">\n",
    "<tr><th>Nachbartausender:</th><th> 328000 <- 328845 -> 329000</th></tr>\n",
    "<tr><th>Nachbarzehntausender:</th><th> 320000 <- 328845 -> 330000</th></tr>\n",
    "<tr><th>Nachbarhunderttausender:</th><th> 300000 <- 328845 -> 400000</th></tr>\n",
    "</table>\n",
    "'''\n",
    "view_comp(tip)"
   ]
  },
  {
   "cell_type": "code",
   "execution_count": 11,
   "metadata": {},
   "outputs": [
    {
     "name": "stdout",
     "output_type": "stream",
     "text": [
      "view file:///Users/peergynt/fun/svelte/monsun/factory/views/index.html in browser\n"
     ]
    }
   ],
   "source": [
    "comp = '''\n",
    "\n",
    "<h3>Ergänze die fehlenden {}<h3>\n",
    "<table style=\"margin:auto;border: 1px solid black\">\n",
    "<tr><th>{}</th><th><input style = \"width:4em\"></th><th><input style = \"width:4em\"></th><th><input style = \"width:4em\"></th></tr>\n",
    "<tr><th>Zahl</th><th>{}</th><th>{}</th><th>{}</th></tr>\n",
    "<tr><th>{}</th><th><input style = \"width:4em\"></th><th><input style = \"width:4em\"></th><th><input style = \"width:4em\"></th></tr>\n",
    "</table>\n",
    "'''\n",
    "view_comp(comp)"
   ]
  },
  {
   "cell_type": "code",
   "execution_count": 21,
   "metadata": {},
   "outputs": [],
   "source": [
    "args = [\n",
    "    [\"Nachbartausender\",\"T\",3],\n",
    "    [\"Nachbartausender\",\"T\",3],\n",
    "    [\"Nachbarzehntausender\",\"ZT\",4],\n",
    "    [\"Nachbarzehntausender\",\"ZT\",4],\n",
    "    [\"Nachbarhunderttausender\",\"HT\",5],\n",
    "    [\"Nachbarhunderttausender\",\"HT\",5],\n",
    "]"
   ]
  },
  {
   "cell_type": "code",
   "execution_count": 22,
   "metadata": {},
   "outputs": [],
   "source": [
    "def solve(n):\n",
    "    num = random.randint(1e5,1e6-1)\n",
    "    l = num // 10**n *10**n\n",
    "    u = l + 10**n\n",
    "    return l,num,u\n",
    "\n",
    "def gen (arg):\n",
    "    lang = arg[0]\n",
    "    kurz = arg[1]\n",
    "    exp = arg[2]\n",
    "    a = solve(exp)\n",
    "    b = solve(exp)\n",
    "    c = solve(exp)\n",
    "\n",
    "    return Question.standart(comp.format(lang,kurz,a[1],b[1],c[1],kurz),f\"[{a[0]},{b[0]},{c[0]},{a[2]},{b[2]},{c[2]}]\",[],tip)\n"
   ]
  },
  {
   "cell_type": "code",
   "execution_count": 23,
   "metadata": {},
   "outputs": [
    {
     "name": "stdout",
     "output_type": "stream",
     "text": [
      "view file:///Users/peergynt/fun/svelte/monsun/factory/views/index.html in browser\n"
     ]
    }
   ],
   "source": [
    "q = [*map (gen,args)]\n",
    "view(*q)"
   ]
  },
  {
   "cell_type": "code",
   "execution_count": 24,
   "metadata": {},
   "outputs": [],
   "source": [
    "collection.add_series(q,3,\"Große Nachbarzahlen\")"
   ]
  },
  {
   "attachments": {},
   "cell_type": "markdown",
   "metadata": {},
   "source": [
    "### Zahlen vergleichen"
   ]
  },
  {
   "cell_type": "code",
   "execution_count": 25,
   "metadata": {},
   "outputs": [
    {
     "name": "stdout",
     "output_type": "stream",
     "text": [
      "view file:///Users/peergynt/fun/svelte/monsun/factory/views/index.html in browser\n"
     ]
    }
   ],
   "source": [
    "comp = '''\n",
    "<h3> < > oder = ? setze das passende zeichen ein.</h3>\n",
    "{} <input style=\"width:.9em\"> {}\n",
    "<p></p>\n",
    "'''\n",
    "view_comp(comp)"
   ]
  },
  {
   "cell_type": "code",
   "execution_count": 26,
   "metadata": {},
   "outputs": [],
   "source": [
    "def gen ():\n",
    "\n",
    "    a = random.randint(1e5,1e6-1)\n",
    "    b = random.randint(1e5,1e6-1)\n",
    "    if random.random() < 0.3:\n",
    "        # make even\n",
    "        b = a\n",
    "\n",
    "    if a > b:\n",
    "        cmp = \">\"\n",
    "    elif a<b:\n",
    "        cmp = \"<\"\n",
    "    else:\n",
    "        cmp = \"=\"\n",
    "    \n",
    "    return Question.standart(comp,[cmp],[a,b],\"\")"
   ]
  },
  {
   "cell_type": "code",
   "execution_count": 27,
   "metadata": {},
   "outputs": [
    {
     "name": "stdout",
     "output_type": "stream",
     "text": [
      "view file:///Users/peergynt/fun/svelte/monsun/factory/views/index.html in browser\n"
     ]
    }
   ],
   "source": [
    "q = gen()\n",
    "view(q)"
   ]
  },
  {
   "cell_type": "code",
   "execution_count": 28,
   "metadata": {},
   "outputs": [],
   "source": [
    "q = [gen() for _ in range(50)]"
   ]
  },
  {
   "cell_type": "code",
   "execution_count": 29,
   "metadata": {},
   "outputs": [
    {
     "name": "stdout",
     "output_type": "stream",
     "text": [
      "view file:///Users/peergynt/fun/svelte/monsun/factory/views/index.html in browser\n"
     ]
    }
   ],
   "source": [
    "view(*q)"
   ]
  },
  {
   "cell_type": "code",
   "execution_count": 30,
   "metadata": {},
   "outputs": [],
   "source": [
    "collection.add_series(q,5,\"Zahlen vergleichen\")"
   ]
  },
  {
   "cell_type": "markdown",
   "metadata": {},
   "source": [
    "### zahlenstrahl"
   ]
  },
  {
   "cell_type": "code",
   "execution_count": 31,
   "metadata": {},
   "outputs": [],
   "source": [
    "svg = extract(\"./vector_files/zahlenstrahl_x40x_1.svg\")"
   ]
  },
  {
   "cell_type": "code",
   "execution_count": 32,
   "metadata": {},
   "outputs": [
    {
     "name": "stdout",
     "output_type": "stream",
     "text": [
      "view file:///Users/peergynt/fun/svelte/monsun/factory/views/index.html in browser\n"
     ]
    }
   ],
   "source": [
    "tit= '<h3>trage die zahlen ein, die auf dem zahlenstrahl markiert sind.</h3>'\n",
    "inp = '''\n",
    "\n",
    "<input style = \"position:absolute;top:40%;left:7%;width:4em\" readonly value = 9000>\n",
    "<input style = \"position:absolute;top:40%;left:26%;width:4em\">\n",
    "<input style = \"position:absolute;top:40%;left:45%;width:4em\" readonly value = 25000>\n",
    "<input style = \"position:absolute;top:40%;left:59%;width:4em\">\n",
    "<input style = \"position:absolute;top:40%;left:80%;width:4em\">\n",
    "'''\n",
    "comp = svg +inp\n",
    "comp  = compose(comp)\n",
    "comp = tit + comp\n",
    "\n",
    "view_comp(comp)"
   ]
  },
  {
   "cell_type": "code",
   "execution_count": 81,
   "metadata": {},
   "outputs": [],
   "source": [
    "q1 = Question.standart(comp,json.dumps([17000,31000,40000]))"
   ]
  },
  {
   "cell_type": "code",
   "execution_count": 82,
   "metadata": {},
   "outputs": [
    {
     "name": "stdout",
     "output_type": "stream",
     "text": [
      "view file:///Users/peergynt/fun/svelte/monsun/factory/views/index.html in browser\n"
     ]
    }
   ],
   "source": [
    "svg = extract(\"./vector_files/zahlenstrahl_x40x_2.svg\")\n",
    "\n",
    "tit= '<h3>trage die zahlen ein, die auf dem zahlenstrahl markiert sind.</h3>'\n",
    "inp = '''\n",
    "\n",
    "<input style = \"position:absolute;top:40%;left:11%;width:4em\" readonly value = 210000>\n",
    "<input style = \"position:absolute;top:40%;left:30%;width:4em\">\n",
    "<input style = \"position:absolute;top:40%;left:49%;width:4em\" readonly value = 370000>\n",
    "<input style = \"position:absolute;top:40%;left:63%;width:4em\">\n",
    "<input style = \"position:absolute;top:40%;left:85%;width:4em\">\n",
    "'''\n",
    "comp = svg +inp\n",
    "comp  =compose(comp)\n",
    "comp = tit + comp\n",
    "view_comp(comp)"
   ]
  },
  {
   "cell_type": "code",
   "execution_count": 83,
   "metadata": {},
   "outputs": [],
   "source": [
    "q2 = Question.standart(comp,json.dumps([290000,43000,520000]))"
   ]
  },
  {
   "cell_type": "code",
   "execution_count": 84,
   "metadata": {},
   "outputs": [
    {
     "name": "stdout",
     "output_type": "stream",
     "text": [
      "view file:///Users/peergynt/fun/svelte/monsun/factory/views/index.html in browser\n"
     ]
    }
   ],
   "source": [
    "view(q1,q2)"
   ]
  },
  {
   "cell_type": "code",
   "execution_count": 85,
   "metadata": {},
   "outputs": [
    {
     "name": "stdout",
     "output_type": "stream",
     "text": [
      "ERROR: series allready exists. If you want to replace it call with replace = True\n"
     ]
    }
   ],
   "source": [
    "collection.add_series([q1,q2],2,\"zahlenstrahl\")"
   ]
  },
  {
   "attachments": {},
   "cell_type": "markdown",
   "metadata": {},
   "source": [
    "### reihe"
   ]
  },
  {
   "cell_type": "code",
   "execution_count": 86,
   "metadata": {},
   "outputs": [],
   "source": [
    "svg = extract(\"./vector_files/bubble_reihe_6.svg\")"
   ]
  },
  {
   "cell_type": "code",
   "execution_count": 87,
   "metadata": {},
   "outputs": [
    {
     "name": "stdout",
     "output_type": "stream",
     "text": [
      "view file:///Users/peergynt/fun/svelte/monsun/factory/views/index.html in browser\n"
     ]
    }
   ],
   "source": [
    "tip = f'''\n",
    "<h3> bei einer zahlenreihe gibt immer eine bestimmte Regel die zahlen vor. </h3>\n",
    "'''+compose(\n",
    "    svg+'''\n",
    "    <input style = \"width:2em;left:5%;top:45%;position:absolute\" readonly value = \"-5\">\n",
    "    <input style = \"width:2em;left:15%;top:45%;position:absolute\" readonly value = \"•2\">\n",
    "    <input style = \"width:2em;left:25.5%;top:45%;position:absolute\" readonly value = \"-5\">\n",
    "    <input style = \"width:2em;left:35.8%;top:45%;position:absolute\" readonly value = \"•2\">\n",
    "    <input style = \"width:2em;left:45.9%;top:45%;position:absolute\" readonly value = \"-5\">\n",
    "    <input style = \"width:2em;left:56.3%;top:45%;position:absolute\" readonly value = \"•2\">\n",
    "\n",
    "    <input style = \"width:3em;left:0%;top:63%;position:absolute\" readonly value = \"11\">\n",
    "    <input style = \"width:3em;left:10%;top:63%;position:absolute\" readonly value = \"6\">\n",
    "    <input style = \"width:3em;left:20.5%;top:63%;position:absolute\" readonly value = \"12\">\n",
    "    <input style = \"width:3em;left:30.8%;top:63%;position:absolute\" readonly value = \"7\">\n",
    "    <input style = \"width:3em;left:40.9%;top:63%;position:absolute\" readonly value = \"14\">\n",
    "    <input style = \"width:3em;left:50.3%;top:63%;position:absolute\" readonly value = \"9\">\n",
    "    <input style = \"width:3em;left:59.3%;top:63%;position:absolute\" readonly value = \"18\">\n",
    "    <h3 style=\"top:70%;position:absolute\">  Regel : -5 •2</h3>\n",
    "    ''')\n",
    "\n",
    "view_comp(tip)"
   ]
  },
  {
   "cell_type": "code",
   "execution_count": 88,
   "metadata": {},
   "outputs": [],
   "source": [
    "params=[\n",
    "    [9,[\"+1\"]],\n",
    "    [5,[\"*2\",\"-4\"]],\n",
    "    [8,[\"*2\",\"-6\"]],\n",
    "    [0,[\"+1\",\"+2\",\"+3\",\"+4\",\"+5\",\"+6\",\"+7\"]],\n",
    "    [20,[\"-5\",\"+10\"]],\n",
    "    [20,[\"-7\",\"+9\"]],\n",
    "    [16,[\"+1\",\"+2\",\"+3\",\"+4\",\"+5\",\"+6\",\"+7\"]],\n",
    "]"
   ]
  },
  {
   "cell_type": "code",
   "execution_count": 89,
   "metadata": {},
   "outputs": [],
   "source": [
    "def gen(p):\n",
    "    start = p[0]\n",
    "    rules = p[1]\n",
    "    chain = [str(start)]\n",
    "    rule_chain = []\n",
    "    for i in range(6):\n",
    "        chain.append(str(eval(chain[-1]+rules[i%len(rules)])))\n",
    "        rule_chain.append(rules[i%len(rules)])\n",
    "    return chain,rule_chain"
   ]
  },
  {
   "cell_type": "code",
   "execution_count": 90,
   "metadata": {},
   "outputs": [],
   "source": [
    "chains = [*map(gen,params)]"
   ]
  },
  {
   "cell_type": "code",
   "execution_count": 91,
   "metadata": {},
   "outputs": [],
   "source": [
    "svg = extract(\"./vector_files/bubble_reihe_6.svg\")"
   ]
  },
  {
   "cell_type": "code",
   "execution_count": 92,
   "metadata": {},
   "outputs": [
    {
     "name": "stdout",
     "output_type": "stream",
     "text": [
      "view file:///Users/peergynt/fun/svelte/monsun/factory/views/index.html in browser\n"
     ]
    }
   ],
   "source": [
    "comp = f'''\n",
    "<h3> finde die regel raus und setze die reihe fort. </h3>\n",
    "'''+compose(\n",
    "    svg+'''\n",
    "    <input style = \"width:2em;left:5%;top:45%;position:absolute\" >\n",
    "    <input style = \"width:2em;left:15%;top:45%;position:absolute\" >\n",
    "    <input style = \"width:2em;left:25.5%;top:45%;position:absolute\" >\n",
    "    <input style = \"width:2em;left:35.8%;top:45%;position:absolute\" >\n",
    "    <input style = \"width:2em;left:45.9%;top:45%;position:absolute\" >\n",
    "    <input style = \"width:2em;left:56.3%;top:45%;position:absolute\" >\n",
    "\n",
    "    <input style = \"width:3em;left:0%;top:63%;position:absolute\" readonly value = \"{}\">\n",
    "    <input style = \"width:3em;left:10%;top:63%;position:absolute\" readonly value = \"{}\">\n",
    "    <input style = \"width:3em;left:20.5%;top:63%;position:absolute\" readonly value = \"{}\">\n",
    "    <input style = \"width:3em;left:30.8%;top:63%;position:absolute\" >\n",
    "    <input style = \"width:3em;left:40.9%;top:63%;position:absolute\" >\n",
    "    <input style = \"width:3em;left:50.3%;top:63%;position:absolute\" >\n",
    "    <input style = \"width:3em;left:59.3%;top:63%;position:absolute\" >\n",
    "    ''')\n",
    "view_comp(comp)"
   ]
  },
  {
   "cell_type": "code",
   "execution_count": 93,
   "metadata": {},
   "outputs": [],
   "source": [
    "q = [*map(lambda p: Question.standart(comp.format(*p[0][:3]),json.dumps(p[1]+p[0][3:]),[],tip),chains)]"
   ]
  },
  {
   "cell_type": "code",
   "execution_count": 94,
   "metadata": {},
   "outputs": [
    {
     "name": "stdout",
     "output_type": "stream",
     "text": [
      "view file:///Users/peergynt/fun/svelte/monsun/factory/views/index.html in browser\n"
     ]
    }
   ],
   "source": [
    "view(*q)"
   ]
  },
  {
   "cell_type": "code",
   "execution_count": 95,
   "metadata": {},
   "outputs": [
    {
     "name": "stdout",
     "output_type": "stream",
     "text": [
      "ERROR: series allready exists. If you want to replace it call with replace = True\n"
     ]
    }
   ],
   "source": [
    "collection.add_series(q,5,\"zahlenreihe\")"
   ]
  },
  {
   "cell_type": "code",
   "execution_count": 96,
   "metadata": {},
   "outputs": [
    {
     "data": {
      "text/plain": [
       "<Collection math_C 32 types>"
      ]
     },
     "execution_count": 96,
     "metadata": {},
     "output_type": "execute_result"
    }
   ],
   "source": [
    "collection"
   ]
  },
  {
   "cell_type": "markdown",
   "metadata": {},
   "source": [
    "### runden"
   ]
  },
  {
   "cell_type": "code",
   "execution_count": 97,
   "metadata": {},
   "outputs": [
    {
     "name": "stdout",
     "output_type": "stream",
     "text": [
      "view file:///Users/peergynt/fun/svelte/monsun/factory/views/index.html in browser\n"
     ]
    }
   ],
   "source": [
    "tip = '''<p> zahlen kannst du runden. Achte dabei auf die zu rundende ziffer </p>\n",
    "<p><span style=\"font-weight:bold\"> 1,2,3,4 </span> rundest du ab.<span style=\"font-weight:bold\"> 5,6,7,8,9 </span> rundest du auf.</p>\n",
    "<p>247382 gerundet auf den Zehner: <span style=\"font-weight:bold\">247380</span></p>\n",
    "<p>247382 gerundet auf den Hunderter: <span style=\"font-weight:bold\">247400</span></p>\n",
    "<p>247382 gerundet auf den Tausender: <span style=\"font-weight:bold\">247000</span></p>\n",
    "<p>247382 gerundet auf den Zehntausender: <span style=\"font-weight:bold\">250000</span></p>\n",
    "<p>247382 gerundet auf den Hunderttausender: <span style=\"font-weight:bold\">200000</span></p>\n",
    "\n",
    "'''\n",
    "\n",
    "view_comp(tip)"
   ]
  },
  {
   "cell_type": "code",
   "execution_count": 98,
   "metadata": {},
   "outputs": [],
   "source": [
    "title = \"runde {} auf den {}\""
   ]
  },
  {
   "cell_type": "code",
   "execution_count": 99,
   "metadata": {},
   "outputs": [],
   "source": [
    "nums = [random.randint(1e5,1e6-1) for _ in range(5)]\n",
    "params = [[str(round(num,-1)),[str(num),\"Zehner\"]] for num in nums]\n",
    "nums = [random.randint(1e5,1e6-1) for _ in range(5)]\n",
    "params += [[str(round(num,-2)),[str(num),\"Hunderter\"]] for num in nums]\n",
    "nums = [random.randint(1e5,1e6-1) for _ in range(5)]\n",
    "params += [[str(round(num,-3)),[str(num),\"Tausender\"]] for num in nums]\n",
    "nums = [random.randint(1e5,1e6-1) for _ in range(5)]\n",
    "params += [[str(round(num,-4)),[str(num),\"Zehntausender\"]] for num in nums]\n",
    "nums = [random.randint(1e5,1e6-1) for _ in range(5)]\n",
    "params += [[str(round(num,-5)),[str(num),\"Hunderttausender\"]] for num in nums]"
   ]
  },
  {
   "cell_type": "code",
   "execution_count": 100,
   "metadata": {},
   "outputs": [],
   "source": [
    "questions = [*map (lambda p: Question.standart(title,p[0],p[1],tip),params)]"
   ]
  },
  {
   "cell_type": "code",
   "execution_count": 101,
   "metadata": {},
   "outputs": [
    {
     "name": "stdout",
     "output_type": "stream",
     "text": [
      "view file:///Users/peergynt/fun/svelte/monsun/factory/views/index.html in browser\n"
     ]
    }
   ],
   "source": [
    "view(*questions)"
   ]
  },
  {
   "cell_type": "code",
   "execution_count": 102,
   "metadata": {},
   "outputs": [
    {
     "name": "stdout",
     "output_type": "stream",
     "text": [
      "ERROR: series allready exists. If you want to replace it call with replace = True\n"
     ]
    }
   ],
   "source": [
    "collection.add_series(questions,12,\"Runden\")"
   ]
  },
  {
   "cell_type": "markdown",
   "metadata": {},
   "source": [
    "### überschlag bei addition und subtraktion"
   ]
  },
  {
   "cell_type": "code",
   "execution_count": 103,
   "metadata": {},
   "outputs": [
    {
     "name": "stdout",
     "output_type": "stream",
     "text": [
      "view file:///Users/peergynt/fun/svelte/monsun/factory/views/index.html in browser\n"
     ]
    }
   ],
   "source": [
    "tip = '''\n",
    "<p>Bei der <span style=\"font-weight:bold\">Überschlagsrechnung</span> rechnest du mit gerundeten zahlen. \n",
    "Das kann dir helfen um dein Ergebnis zu\n",
    "überprüfen oder wenn du schnell ein Ergebnis brauchst.</p>\n",
    "<p>\n",
    "23847 + 53349 = ?\n",
    "</p>\n",
    "\n",
    "<p> auf den Tausender gerundet: 24000 + 53000 = 77000</p>\n",
    "<p> auf den Zehntausender gerundet: 20000 + 50000 = 70000</p>\n",
    "'''\n",
    "view_comp(tip)"
   ]
  },
  {
   "cell_type": "code",
   "execution_count": 104,
   "metadata": {},
   "outputs": [],
   "source": [
    "comp = '''\n",
    "<p>Finde das richtige Ergebnis mittels Überschlag</p>\n",
    "<p>{}</p>\n",
    "'''"
   ]
  },
  {
   "cell_type": "code",
   "execution_count": 105,
   "metadata": {},
   "outputs": [],
   "source": [
    "def gen():\n",
    "    a,b = random.randint(1e5,1e6-1),random.randint(1e5,1e6-1)\n",
    "    op = \"\"\n",
    "    if random.random() > 0.5:\n",
    "        op = \"+\"\n",
    "        res = a+b\n",
    "        if res > 1000000:return gen()\n",
    "    else:\n",
    "        op = \"-\"\n",
    "        res = a+b\n",
    "        if res > 1000000:return gen()\n",
    "        c = a\n",
    "        a = res \n",
    "        res = c\n",
    "\n",
    "\n",
    "    op2 = \"-\" if random.random() > 0.5 else \"+\"\n",
    "    wrong = eval (str(res) +op2+str(random.randint(200000,300000)))\n",
    "    if wrong >1000000 or wrong <0 :return gen()\n",
    "    ex = f\"{a} {op} {b} = {res}\"\n",
    "    wex = f\"{a} {op} {b} = {wrong}\"\n",
    "\n",
    "    title = comp.format(f\"{a} {op} {b} = ?\")\n",
    "\n",
    "    return Question.multiple_choice(title,[res],[wrong],tip)"
   ]
  },
  {
   "cell_type": "code",
   "execution_count": 106,
   "metadata": {},
   "outputs": [],
   "source": [
    "q = [gen() for _ in range(20)]"
   ]
  },
  {
   "cell_type": "code",
   "execution_count": 107,
   "metadata": {},
   "outputs": [
    {
     "name": "stdout",
     "output_type": "stream",
     "text": [
      "view file:///Users/peergynt/fun/svelte/monsun/factory/views/index.html in browser\n"
     ]
    }
   ],
   "source": [
    "view(*q)"
   ]
  },
  {
   "cell_type": "code",
   "execution_count": 108,
   "metadata": {},
   "outputs": [
    {
     "name": "stdout",
     "output_type": "stream",
     "text": [
      "ERROR: series allready exists. If you want to replace it call with replace = True\n"
     ]
    }
   ],
   "source": [
    "collection.add_series(q,5,'überschlag')"
   ]
  },
  {
   "attachments": {},
   "cell_type": "markdown",
   "metadata": {},
   "source": [
    "### schriftlich addieren"
   ]
  },
  {
   "cell_type": "code",
   "execution_count": 109,
   "metadata": {},
   "outputs": [
    {
     "name": "stdout",
     "output_type": "stream",
     "text": [
      "view file:///Users/peergynt/fun/svelte/monsun/factory/views/index.html in browser\n"
     ]
    }
   ],
   "source": [
    "tip='''\n",
    "\n",
    "<p> Beim <span>schriftlichen Addieren</span> rechnest du jede Ziffer einzelnd zusammen. Du fängst mit den Einern an. Is das Ergebnis von zwei Ziffern \n",
    "größer als 9 schreibst du einen <span class = mini>Übertrag 1</span> für die nächste Spalte</p>\n",
    "'''+tabl(9,7,'''<div class = row> <div> </div><div> </div><div> </div><div> </div><div> </div><div> </div><div> </div><div> </div><div> </div> </div>\n",
    "    <div class = row> <div> </div><div> </div><div> </div><div></div><div> </div><div> </div><div> </div><div> </div><div> </div> </div>\n",
    "    <div class = row> <div> </div><div> </div><div> </div><div>5</div><div>3</div><div>8</div><div>3</div><div>2</div><div> </div> </div>\n",
    "    <div class = row> <div> </div><div>+</div><div> </div><div>6</div><div>4</div><div>6</div><div>1</div><div>9</div><div> </div> </div>\n",
    "    <div class = \"row mini \"> <div> </div><div> </div><div>1</div><div> </div><div>1</div><div> </div><div>1</div><div> </div><div> </div> </div>\n",
    "    <div class = underline></div>\n",
    "    <div class = row> <div> </div><div> </div><div>1</div><div>1</div><div>8</div><div>4</div><div>5</div><div>1</div><div> </div> </div>\n",
    "    <div class = row> <div> </div><div> </div><div> </div><div> </div><div> </div><div> </div><div> </div><div> </div><div> </div> </div>\n",
    "''')+'<br></br>'\n",
    "\n",
    "view_comp(tip)"
   ]
  },
  {
   "cell_type": "code",
   "execution_count": 110,
   "metadata": {},
   "outputs": [],
   "source": [
    "empty = telm(\" \")\n",
    "rows = trow(empty*9)*2\n",
    "rows += trow(empty*3+telm(\"{}\")*5+empty)\n",
    "rows += trow(empty+telm('+')+empty+telm(\"{}\")*5+empty)\n",
    "rows += mini_red(empty*2 +\"<div><input></div>\"*6+empty)\n",
    "rows +=\"<div class = underline></div>\\n\"\n",
    "rows += trow(empty*2 +\"<div><input></div>\"*6+empty)\n",
    "rows += trow(empty*9)"
   ]
  },
  {
   "cell_type": "code",
   "execution_count": 111,
   "metadata": {},
   "outputs": [
    {
     "name": "stdout",
     "output_type": "stream",
     "text": [
      "view file:///Users/peergynt/fun/svelte/monsun/factory/views/index.html in browser\n"
     ]
    }
   ],
   "source": [
    "comp = \"<h3>addiere schriftlich<h3>\"+tabl(9,7,rows)\n",
    "view_comp(comp)"
   ]
  },
  {
   "cell_type": "code",
   "execution_count": 112,
   "metadata": {},
   "outputs": [],
   "source": [
    "def solve (a,b):\n",
    "    res = a+b\n",
    "    a = str(a)\n",
    "    b = str(b)\n",
    "    res = list(str(res))\n",
    "    n = len(a)\n",
    "    u = [\" \"]\n",
    "\n",
    "    for i in range(n-1,-1,-1):\n",
    "        if eval(a[i]+\"+\"+b[i]) > 9 or (eval(a[i]+\"+\"+b[i])>8 and u[-1]==\"1\"):\n",
    "            u.append(\"1\")\n",
    "        else:\n",
    "            u.append(\" \")\n",
    "    u.reverse()\n",
    "    if len(res) == len(a):\n",
    "        res = [' '] + res\n",
    "    \n",
    "    return list(a+b),json.dumps(list(u+res))"
   ]
  },
  {
   "cell_type": "code",
   "execution_count": 113,
   "metadata": {},
   "outputs": [],
   "source": [
    "params = [solve(a,b) for [a,b] in [[random.randint(1e4,1e5),random.randint(1e4,1e5)]for _ in range(50)]]"
   ]
  },
  {
   "cell_type": "code",
   "execution_count": 114,
   "metadata": {},
   "outputs": [],
   "source": [
    "q = [*map(lambda p: Question.standart(comp,p[1],p[0],tip,''),params)]"
   ]
  },
  {
   "cell_type": "code",
   "execution_count": 115,
   "metadata": {},
   "outputs": [
    {
     "name": "stdout",
     "output_type": "stream",
     "text": [
      "view file:///Users/peergynt/fun/svelte/monsun/factory/views/index.html in browser\n"
     ]
    }
   ],
   "source": [
    "view(*q)"
   ]
  },
  {
   "cell_type": "code",
   "execution_count": 68,
   "metadata": {},
   "outputs": [],
   "source": [
    "collection.add_series(q,15,\"schriftliche addition\")"
   ]
  },
  {
   "attachments": {},
   "cell_type": "markdown",
   "metadata": {},
   "source": [
    "### addieren ergänzen"
   ]
  },
  {
   "cell_type": "code",
   "execution_count": 116,
   "metadata": {},
   "outputs": [],
   "source": [
    "def sol (a,b):\n",
    "    res = a+b\n",
    "    a = str(a)\n",
    "    b = str(b)\n",
    "    res = list(str(res))\n",
    "    n = len(a)\n",
    "    u = [\" \"]\n",
    "\n",
    "    for i in range(n-1,-1,-1):\n",
    "        if eval(a[i]+\"+\"+b[i]) > 9 or (eval(a[i]+\"+\"+b[i])>8 and u[-1]==\"1\"):\n",
    "            u.append(\"1\")\n",
    "        else:\n",
    "            u.append(\" \")\n",
    "    u.reverse()\n",
    "    if len(res) == len(a):\n",
    "        res = [' '] + res\n",
    "    \n",
    "    \n",
    "    return list(a),list(b),list(u),list(res)"
   ]
  },
  {
   "cell_type": "code",
   "execution_count": 117,
   "metadata": {},
   "outputs": [],
   "source": [
    "params = [sol(a,b) for [a,b] in [[random.randint(1e4,1e5),random.randint(1e4,1e5)]for _ in range(50)]]"
   ]
  },
  {
   "cell_type": "code",
   "execution_count": 118,
   "metadata": {},
   "outputs": [
    {
     "name": "stdout",
     "output_type": "stream",
     "text": [
      "view file:///Users/peergynt/fun/svelte/monsun/factory/views/index.html in browser\n"
     ]
    }
   ],
   "source": [
    "empty = telm(\" \")\n",
    "rows = trow(empty*9)*2\n",
    "rows += trow(empty*3+telm(\"{}\")*5+empty)\n",
    "rows += trow(empty+telm('+')+empty+telm(\"{}\")*5+empty)\n",
    "rows += mini_red(empty*2 +\"<div><input></div>\"*6+empty)\n",
    "rows +=\"<div class = underline></div>\\n\"\n",
    "rows += trow(empty*2 +telm('{}')*6+empty)\n",
    "rows += trow(empty*9)\n",
    "comp = \"<h3>ergänze die fehlenden ziffern<h3>\"+tabl(9,7,rows)\n",
    "view_comp(comp)"
   ]
  },
  {
   "cell_type": "code",
   "execution_count": 119,
   "metadata": {},
   "outputs": [],
   "source": [
    "params = [sol(a,b) for [a,b] in [[random.randint(1e4,1e5),random.randint(1e4,1e5)]for _ in range(50)]]\n",
    "\n",
    "\n",
    "def gen(p):\n",
    "    s = [[],[],[],[]]\n",
    "    for i in range(5):\n",
    "        si = i+1\n",
    "        d = random.choice([0,1,3])\n",
    "        if d == 3:\n",
    "            s[3].append(p[3][si])\n",
    "            p[3][si] = \"<input>\"\n",
    "        else:\n",
    "            s[d].append(p[d][i])\n",
    "            p[d][i] = \"<input>\"\n",
    "    s = s[0] + s[1] + p[2] + s[3]\n",
    "    p = p[0] + p[1] + p[3]\n",
    "    return json.dumps(s),p\n",
    "\n",
    "params = [*map(gen,params)]"
   ]
  },
  {
   "cell_type": "code",
   "execution_count": 120,
   "metadata": {},
   "outputs": [],
   "source": [
    "q = [*map(lambda p:Question.standart(comp,p[0],p[1],tip,''),params)]"
   ]
  },
  {
   "cell_type": "code",
   "execution_count": 121,
   "metadata": {},
   "outputs": [
    {
     "name": "stdout",
     "output_type": "stream",
     "text": [
      "view file:///Users/peergynt/fun/svelte/monsun/factory/views/index.html in browser\n"
     ]
    }
   ],
   "source": [
    "view(*q)"
   ]
  },
  {
   "cell_type": "code",
   "execution_count": 122,
   "metadata": {},
   "outputs": [
    {
     "name": "stdout",
     "output_type": "stream",
     "text": [
      "ERROR: series allready exists. If you want to replace it call with replace = True\n"
     ]
    }
   ],
   "source": [
    "collection.add_series(q,10,\"schriftliche addition ergänzen\")"
   ]
  },
  {
   "attachments": {},
   "cell_type": "markdown",
   "metadata": {},
   "source": [
    "### schriftlich subtrahieren"
   ]
  },
  {
   "cell_type": "code",
   "execution_count": 123,
   "metadata": {},
   "outputs": [
    {
     "data": {
      "text/plain": [
       "<module 'lib.html_viewer' from '/Users/peergynt/fun/svelte/monsun/factory/lib/html_viewer.py'>"
      ]
     },
     "execution_count": 123,
     "metadata": {},
     "output_type": "execute_result"
    }
   ],
   "source": [
    "reload(lib.html_viewer)"
   ]
  },
  {
   "cell_type": "code",
   "execution_count": 124,
   "metadata": {},
   "outputs": [
    {
     "name": "stdout",
     "output_type": "stream",
     "text": [
      "view file:///Users/peergynt/fun/svelte/monsun/factory/views/index.html in browser\n"
     ]
    }
   ],
   "source": [
    "tip = '''\n",
    "<h3>Beim schriftlichen Subtrahieren rechnet man Schritt für Schritt.</h3>\n",
    "\n",
    "1. Du ziehst immer die obere zahl von der unteren ab. \n",
    "\n",
    "\n",
    "'''+ tabl(9,7,\n",
    "    trow(empty*9)\n",
    "    +trow(empty*9)\n",
    "    +trow         (empty * 3 + telm(8) + telm(3) + telm(4) + telm(6) + empty+empty)\n",
    "    +trow(empty * 2+telm('-') + telm(3) + telm(3) + telm(3) + telm(3) + empty+empty)\n",
    "    +mini_red(empty*3+telm(' ')+telm(' ')+telm(' ')+empty+empty*2)\n",
    "    +underline\n",
    "    +trow      (empty*3 +telm(5)+telm(0)+telm(1)+telm(3)+empty*2)\n",
    "    +trow(empty*9)\n",
    ")+'''\n",
    "\n",
    "\n",
    "2. Wenn die untere zahl größer ist als die obere schreibst du einen <span class = \"mini\"> übertrag 1</span>\n",
    "dann stellst du dir vor, dass die obere zahl genau 10 größer ist. Dafür ist dann die nächste zahl die du abziehen musst eins größer.\n",
    "\n",
    "'''+ tabl(9,7,\n",
    "    trow(empty*9)\n",
    "    +trow(empty*9)\n",
    "    +trow(empty * 3 + telm(8) + telm(1) + telm(3) + telm(0) + empty+empty)\n",
    "    +trow(empty * 2+telm('-') + telm(3) + telm(3) + telm(4) + telm(5) + empty+empty)\n",
    "    +mini_red(empty*3+telm('1')+telm(1)+telm(1)+empty+empty*2)\n",
    "    +underline\n",
    "    +trow(empty*3 +telm('4')+telm('7')+telm('8')+telm('5')+empty*2)\n",
    "    +trow(empty*9)\n",
    ")\n",
    "tip = tip + ''\n",
    "view_comp(tip)"
   ]
  },
  {
   "cell_type": "code",
   "execution_count": 125,
   "metadata": {},
   "outputs": [
    {
     "name": "stdout",
     "output_type": "stream",
     "text": [
      "view file:///Users/peergynt/fun/svelte/monsun/factory/views/index.html in browser\n"
     ]
    }
   ],
   "source": [
    "comp  ='''<h3>subtrahiere schriftlich</h3>\n",
    "'''+tabl(9,7,\n",
    "    trow(empty*9)\n",
    "    +trow(empty*9)\n",
    "    +trow(empty * 3 + telm('{}')*4 + empty+empty)\n",
    "    +trow(empty * 2+telm('-') + telm('{}')*4 + empty+empty)\n",
    "    +mini_red(empty*3+inpt*4+empty*2)\n",
    "    +underline\n",
    "    +trow(empty*3 +inpt * 4+empty*2)\n",
    "    +trow(empty*9)\n",
    ")\n",
    "view_comp(comp)"
   ]
  },
  {
   "cell_type": "code",
   "execution_count": 126,
   "metadata": {},
   "outputs": [],
   "source": [
    "def gen ():\n",
    "    b = random.randint(1e3,1e4)\n",
    "    res = random.randint(1e3,1e4)\n",
    "    a = b+ res\n",
    "    if a >= 1e4:\n",
    "        return gen()\n",
    "    a = str(a)\n",
    "    b = str(b)\n",
    "    res = str(res)\n",
    "    u=[' ']\n",
    "    for i in range(4-1,-1,-1):\n",
    "        if b[i] > a[i] or (b[i] == a[i] and u[-1]!=' '):\n",
    "            u.append('1')\n",
    "        else:\n",
    "            u.append(' ')\n",
    "    u = u[:-1]\n",
    "    u.reverse()\n",
    "\n",
    "    p = list(a) + list(b)\n",
    "    sol = u+list(res)\n",
    "    sol = json.dumps(sol)\n",
    "    return Question.standart(comp,sol,p,tip,'')\n",
    "q =gen()"
   ]
  },
  {
   "cell_type": "code",
   "execution_count": 127,
   "metadata": {},
   "outputs": [],
   "source": [
    "q = [gen() for _ in range(50)]"
   ]
  },
  {
   "cell_type": "code",
   "execution_count": 128,
   "metadata": {},
   "outputs": [
    {
     "name": "stdout",
     "output_type": "stream",
     "text": [
      "view file:///Users/peergynt/fun/svelte/monsun/factory/views/index.html in browser\n"
     ]
    }
   ],
   "source": [
    "view(*q)"
   ]
  },
  {
   "cell_type": "code",
   "execution_count": 82,
   "metadata": {},
   "outputs": [],
   "source": [
    "collection.add_series(q,15,\"schriftliche subtraktion\")"
   ]
  },
  {
   "attachments": {},
   "cell_type": "markdown",
   "metadata": {},
   "source": [
    "### schr sub erg"
   ]
  },
  {
   "cell_type": "code",
   "execution_count": 129,
   "metadata": {},
   "outputs": [
    {
     "name": "stdout",
     "output_type": "stream",
     "text": [
      "view file:///Users/peergynt/fun/svelte/monsun/factory/views/index.html in browser\n"
     ]
    }
   ],
   "source": [
    "comp  ='''<h3>ergänze die fehlenden zahlen</h3>\n",
    "'''+tabl(9,7,\n",
    "    trow(empty*9)\n",
    "    +trow(empty*9)\n",
    "    +trow(empty * 3 + telm('{}')*4 + empty+empty)\n",
    "    +trow(empty * 2+telm('-') + telm('{}')*4 + empty+empty)\n",
    "    +mini_red(empty*3+inpt*4+empty*2)\n",
    "    +underline\n",
    "    +trow(empty*3 +telm('{}') * 4+empty*2)\n",
    "    +trow(empty*9)\n",
    ")\n",
    "view_comp(comp)"
   ]
  },
  {
   "cell_type": "code",
   "execution_count": 130,
   "metadata": {},
   "outputs": [],
   "source": [
    "\n",
    "def gen ():\n",
    "    b = random.randint(1e3,1e4)\n",
    "    res = random.randint(1e3,1e4)\n",
    "    a = b+ res\n",
    "    if a >= 1e4:\n",
    "        return gen()\n",
    "    a = str(a)\n",
    "    b = str(b)\n",
    "    res = str(res)\n",
    "    u=[' ']\n",
    "    for i in range(4-1,-1,-1):\n",
    "        if b[i] > a[i] or (b[i] == a[i] and u[-1]!=' '):\n",
    "            u.append('1')\n",
    "        else:\n",
    "            u.append(' ')\n",
    "    u = u[:-1]\n",
    "    u.reverse()\n",
    "\n",
    "    p = [list(a),list(b),list(res)]\n",
    "\n",
    "    s = [[],[],[]]\n",
    "\n",
    "    for i in range(4):\n",
    "        d = random.choice([0,1,2])\n",
    "        s[d].append(p[d][i])\n",
    "        p[d][i] = \"<input>\"\n",
    "\n",
    "    s = s[0] + s[1] + u + s[2]\n",
    "    p = p[0] + p[1] + p[2]\n",
    "    s = json.dumps(s)\n",
    "    return Question.standart(comp,s,p,tip,'')"
   ]
  },
  {
   "cell_type": "code",
   "execution_count": 131,
   "metadata": {},
   "outputs": [],
   "source": [
    "q = [gen() for _ in range(50)]"
   ]
  },
  {
   "cell_type": "code",
   "execution_count": 132,
   "metadata": {},
   "outputs": [
    {
     "name": "stdout",
     "output_type": "stream",
     "text": [
      "view file:///Users/peergynt/fun/svelte/monsun/factory/views/index.html in browser\n"
     ]
    }
   ],
   "source": [
    "view(*q)"
   ]
  },
  {
   "cell_type": "code",
   "execution_count": 87,
   "metadata": {},
   "outputs": [],
   "source": [
    "collection.add_series(q,10,'schriftliche subtraktion ergänzen')"
   ]
  },
  {
   "attachments": {},
   "cell_type": "markdown",
   "metadata": {},
   "source": [
    "### multiplizieren mit zehner und hunderter"
   ]
  },
  {
   "cell_type": "code",
   "execution_count": 133,
   "metadata": {},
   "outputs": [
    {
     "name": "stdout",
     "output_type": "stream",
     "text": [
      "view file:///Users/peergynt/fun/svelte/monsun/factory/views/index.html in browser\n"
     ]
    }
   ],
   "source": [
    "tip = '''<p>Beim <span>multiplizieren mit großen zahlen</p> musst du die nullen von der linken seite auf die rechte rüberschreiben nullen überschreiben:</p>\n",
    "\n",
    "<p>4<span>0</span> • 2<span></span> = 8<span>0</span></p>\n",
    "<p>4<span></span> • 2<span>0</span> = 8<span>0</span></p>\n",
    "<p>4<span>0</span> • 2<span>0</span> = 8<span>00</span></p>\n",
    "<p>4<span>00</span> • 2<span>0</span> = 8<span>000</span></p>\n",
    "'''\n",
    "view_comp(tip)"
   ]
  },
  {
   "cell_type": "code",
   "execution_count": 134,
   "metadata": {},
   "outputs": [],
   "source": [
    "comp = '{} • {} = <input style=\"width:5em\">'"
   ]
  },
  {
   "cell_type": "code",
   "execution_count": 135,
   "metadata": {},
   "outputs": [],
   "source": [
    "def gen(pre:int, post:int):\n",
    "\n",
    "    # a : b = c\n",
    "\n",
    "    a = random.randint(1,10) * pre\n",
    "    b = random.randint(1,10) * post\n",
    "    c = a * b\n",
    "\n",
    "    return Question.standart(comp,json.dumps([c]),[str(a),str(b)],tip,\"\")"
   ]
  },
  {
   "cell_type": "code",
   "execution_count": 136,
   "metadata": {},
   "outputs": [],
   "source": [
    "q = [gen(10,1) for _ in range(25)]\n",
    "q += [gen(1,10) for _ in range(25)]\n",
    "q += [gen(100,1) for _ in range(25)]\n",
    "q += [gen(1,100) for _ in range(25)]\n",
    "q += [gen(10,10) for _ in range(25)]\n",
    "q += [gen(100,10) for _ in range(25)]\n",
    "q += [gen(10,100) for _ in range(25)]"
   ]
  },
  {
   "cell_type": "code",
   "execution_count": 137,
   "metadata": {},
   "outputs": [
    {
     "name": "stdout",
     "output_type": "stream",
     "text": [
      "view file:///Users/peergynt/fun/svelte/monsun/factory/views/index.html in browser\n"
     ]
    }
   ],
   "source": [
    "view(*q)"
   ]
  },
  {
   "cell_type": "code",
   "execution_count": 93,
   "metadata": {},
   "outputs": [],
   "source": [
    "collection.add_series(q,5,'große multiplikation')"
   ]
  },
  {
   "attachments": {},
   "cell_type": "markdown",
   "metadata": {},
   "source": [
    "### dividieren mit zehner und hunderterzahlen"
   ]
  },
  {
   "cell_type": "code",
   "execution_count": 138,
   "metadata": {},
   "outputs": [
    {
     "name": "stdout",
     "output_type": "stream",
     "text": [
      "view file:///Users/peergynt/fun/svelte/monsun/factory/views/index.html in browser\n"
     ]
    }
   ],
   "source": [
    "tip = '''\n",
    "<p>Beim <span>dividieren mit großen zahlen</span> musst du nullen streichen:</p>\n",
    "\n",
    "<p>4<span>0</span> : 2 = ?</p>\n",
    "\n",
    "<p>du streichst bei der ersten zahl die null und dann fügst du sie bei der zweiten zahl wieder hinzu:</p>\n",
    "<p>4<span>0</span> : 2 = 2<span>0</p>\n",
    "<p>4<span>00</span> : 2 = 2<span>00</p>\n",
    "<p>4<span>000</span> : 2 = 2<span>000</p>\n",
    "<p>wenn beide zahlen eine null haben dann streichst du beide nullen</p>\n",
    "<p>4<span>0</span> : 2<span>0</span> = 4 : 2 = 2</p>\n",
    "<p></p>\n",
    "'''\n",
    "\n",
    "view_comp(tip)"
   ]
  },
  {
   "cell_type": "code",
   "execution_count": 139,
   "metadata": {},
   "outputs": [],
   "source": [
    "comp = '{} : {} = <input style=\"width:5em\">'"
   ]
  },
  {
   "cell_type": "code",
   "execution_count": 140,
   "metadata": {},
   "outputs": [],
   "source": [
    "def gen(pre:int, post:int):\n",
    "\n",
    "    # a : b = c\n",
    "\n",
    "    a = random.randint(1,10) * pre\n",
    "    b = random.randint(1,10) * post\n",
    "    c = a * b\n",
    "\n",
    "    return Question.standart(comp,json.dumps([b]),[str(c),str(a)],tip,\"\")"
   ]
  },
  {
   "cell_type": "code",
   "execution_count": 141,
   "metadata": {},
   "outputs": [],
   "source": [
    "q = [gen(10,1) for _ in range(25)]\n",
    "q += [gen(1,10) for _ in range(25)]\n",
    "q += [gen(100,1) for _ in range(25)]\n",
    "q += [gen(1,100) for _ in range(25)]\n",
    "q += [gen(10,10) for _ in range(25)]\n",
    "q += [gen(100,10) for _ in range(25)]\n",
    "q += [gen(10,100) for _ in range(25)]"
   ]
  },
  {
   "cell_type": "code",
   "execution_count": 142,
   "metadata": {},
   "outputs": [
    {
     "name": "stdout",
     "output_type": "stream",
     "text": [
      "view file:///Users/peergynt/fun/svelte/monsun/factory/views/index.html in browser\n"
     ]
    }
   ],
   "source": [
    "view(*q)"
   ]
  },
  {
   "cell_type": "code",
   "execution_count": 143,
   "metadata": {},
   "outputs": [
    {
     "name": "stdout",
     "output_type": "stream",
     "text": [
      "ERROR: series allready exists. If you want to replace it call with replace = True\n"
     ]
    }
   ],
   "source": [
    "collection.add_series(q,10,'große division')"
   ]
  },
  {
   "cell_type": "markdown",
   "metadata": {},
   "source": [
    "### schr mult"
   ]
  },
  {
   "cell_type": "code",
   "execution_count": 144,
   "metadata": {},
   "outputs": [
    {
     "name": "stdout",
     "output_type": "stream",
     "text": [
      "view file:///Users/peergynt/fun/svelte/monsun/factory/views/index.html in browser\n"
     ]
    }
   ],
   "source": [
    "tip = '''\n",
    "<p>beim <span>schriftlichen multiplizieren</span> rechnest du schritt für schritt </p>\n",
    "<p>zuerst multiplizierst du die Einer dann die Zahner und dann die Hunderter.</p>\n",
    "<p>ist ein Teilergebnis größer als 10, schreibst du die Einer auf</p>\n",
    "<p>Du schreibst die Zehner als <span class = mini>Übertrag</span> auf</p>\n",
    "'''+tabl(7,5,\n",
    "    mkrow(\"       \")+\n",
    "    mkrow(\" 352•3 \")+\n",
    "    underline+\n",
    "    mkrow(\"       \")+\n",
    "    mkrow(\"       \",\"mini\")+\n",
    "    mkrow(\"       \")\n",
    "    )+\"<p>2 • 3 = 6 schreibe 6.</p>\"+tabl(7,5,\n",
    "    mkrow(\"       \")+\n",
    "    mkrow(\" 352•3 \")+\n",
    "    underline+\n",
    "    mkrow(\"     6 \")+\n",
    "    mkrow(\"       \",\"mini\")+\n",
    "    mkrow(\"       \")\n",
    "    )+\"<p>5 • 3 = 15 schreibe 5. <span class=mini>übertrag 1</span></p>\"+tabl(7,5,\n",
    "    mkrow(\"       \")+\n",
    "    mkrow(\" 352•3 \")+\n",
    "    underline+\n",
    "    mkrow(\"    56 \")+\n",
    "    mkrow(\"   1   \",\"mini\")+\n",
    "    mkrow(\"       \")\n",
    "    )+\"<p><span class=mini>1</span> + 3 • 3 = 10 schreibe 0. <span class=mini>übertrag 1</span></p>\"+tabl(7,5,\n",
    "    mkrow(\"       \")+\n",
    "    mkrow(\" 352•3 \")+\n",
    "    underline+\n",
    "    mkrow(\"  1056 \")+\n",
    "    mkrow(\"  11   \",\"mini\")+\n",
    "    mkrow(\"       \")\n",
    "    )\n",
    "\n",
    "view_comp(tip)"
   ]
  },
  {
   "cell_type": "code",
   "execution_count": 145,
   "metadata": {},
   "outputs": [
    {
     "name": "stdout",
     "output_type": "stream",
     "text": [
      "view file:///Users/peergynt/fun/svelte/monsun/factory/views/index.html in browser\n"
     ]
    }
   ],
   "source": [
    "comp = '''\n",
    "<p>multipliziere schriftlich mit übertrag</p>\n",
    "'''+tabl(7,5,\n",
    "    mkrow(\"       \")+\n",
    "    trow(telm(\" \")+telm('{}')+telm('{}')+telm('{}')+telm('•')+telm('{}')+telm(' '))+\n",
    "    underline+\n",
    "    trow(empty*2+inpt*4+empty)+\n",
    "    mini_red(empty*2+inpt*3+empty*2)+\n",
    "    mkrow(\"       \")\n",
    ")\n",
    "view_comp(comp)"
   ]
  },
  {
   "cell_type": "code",
   "execution_count": 146,
   "metadata": {},
   "outputs": [],
   "source": [
    "def gen():\n",
    "\n",
    "    # a * b = c\n",
    "\n",
    "    a_len = 3\n",
    "\n",
    "    a = random.randint(10**(a_len-1),10**a_len-1)\n",
    "    b = random.randint(1,9)\n",
    "    c = a * b\n",
    "    a = list(str(a))\n",
    "    b = [str(b)]\n",
    "    p = a+b\n",
    "    s = str(c)\n",
    "\n",
    "    # print(a)\n",
    "    # print(b)\n",
    "\n",
    "    u=[\"0\"]\n",
    "    for i in range(a_len).__reversed__():\n",
    "        com = f\"{a[i]}*{b[0]}\"\n",
    "        z = str(eval(f\"{a[i]}*{b[0]}+{u[-1]}\"))\n",
    "        if len(z) < 2:z = \"0\"+z\n",
    "        # print(z)\n",
    "        u.append(z[0])\n",
    "    u = u[1:]\n",
    "    u.reverse()\n",
    "\n",
    "    for i in range(len(u)):\n",
    "        if u[i] == \"0\":u[i] =\" \"\n",
    "\n",
    "    # print(\"u:\",u)\n",
    "\n",
    "\n",
    "    if len(s)==3:\n",
    "        s = \" \" + s\n",
    "    s = list(s)\n",
    "    s = json.dumps(s + u)\n",
    "\n",
    "    return Question.standart(comp,s,p,tip,'')"
   ]
  },
  {
   "cell_type": "code",
   "execution_count": 147,
   "metadata": {},
   "outputs": [],
   "source": [
    "q = [gen() for _ in range(50)]"
   ]
  },
  {
   "cell_type": "code",
   "execution_count": 148,
   "metadata": {},
   "outputs": [
    {
     "name": "stdout",
     "output_type": "stream",
     "text": [
      "view file:///Users/peergynt/fun/svelte/monsun/factory/views/index.html in browser\n"
     ]
    }
   ],
   "source": [
    "view(*q)"
   ]
  },
  {
   "cell_type": "code",
   "execution_count": 105,
   "metadata": {},
   "outputs": [],
   "source": [
    "collection.add_series(q,15,\"schriftliche multiplikation\")"
   ]
  },
  {
   "attachments": {},
   "cell_type": "markdown",
   "metadata": {},
   "source": [
    "### schr mul zweistellig"
   ]
  },
  {
   "cell_type": "code",
   "execution_count": 149,
   "metadata": {},
   "outputs": [
    {
     "name": "stdout",
     "output_type": "stream",
     "text": [
      "view file:///Users/peergynt/fun/svelte/monsun/factory/views/index.html in browser\n"
     ]
    }
   ],
   "source": [
    "tip = '''\n",
    "<p>Ist die zweite Zahl beim schriftlichen Multiplizieren zweistellig rechnest du zuerst mit dem Einer dann mit dem Zehner.</p>\n",
    "<p>Dann addierst du die Ergebnise</p>\n",
    "<p>483 • 2 = 1766</p>\n",
    "'''+tabl(8,7,\n",
    "    trow(empty*8)+\n",
    "    mkrow(\" 483•42 \")+\n",
    "    underline+\n",
    "    mkrow(\"    966 \")+\n",
    "    mkrow(\"        \")+\n",
    "    mini_red(empty*2+telm(' ')*4+empty*2)+\n",
    "    underline+\n",
    "    mkrow(\"        \")+\n",
    "    mkrow(\"        \")\n",
    ")+'<p>483 • 4 = 1932'+tabl(8,7,\n",
    "    trow(empty*8)+\n",
    "    mkrow(\" 483•42 \")+\n",
    "    underline+\n",
    "    mkrow(\"    966 \")+\n",
    "    mkrow(\"  1932  \")+\n",
    "    mini_red(empty*2+telm(' ')*4+empty*2)+\n",
    "    underline+\n",
    "    mkrow(\"        \")+\n",
    "    mkrow(\"        \")\n",
    ")+'<p>jetzt die teilergebnise zusammenrechnen:</p>'+tabl(8,7,\n",
    "    trow(empty*8)+\n",
    "    mkrow(\" 483•42 \")+\n",
    "    underline+\n",
    "    mkrow(\"    966 \")+\n",
    "    mkrow(\"  1932  \")+\n",
    "    mini_red(empty*2+telm(' ')*4+empty*2)+\n",
    "    underline+\n",
    "    mkrow(\"  20286 \")+\n",
    "    mkrow(\"        \")\n",
    ")\n",
    "\n",
    "view_comp(tip)"
   ]
  },
  {
   "cell_type": "code",
   "execution_count": 150,
   "metadata": {},
   "outputs": [
    {
     "name": "stdout",
     "output_type": "stream",
     "text": [
      "view file:///Users/peergynt/fun/svelte/monsun/factory/views/index.html in browser\n"
     ]
    }
   ],
   "source": [
    "comp = 'multipliziere schriftlich' + tabl(8,7,\n",
    "    trow(empty*8)+\n",
    "    mkrow(\" xxx•xx \").replace(\"x\",\"{}\")+\n",
    "    underline+\n",
    "    mkrow(\"   xxxx \").replace(\"x\",\"<input>\")+\n",
    "    mkrow(\"  xxxx  \").replace(\"x\",\"<input>\")+\n",
    "    mkrow(\"        \")+\n",
    "    underline+\n",
    "    mkrow(\" xxxxxx \").replace(\"x\",\"<input>\")+\n",
    "    mkrow(\"        \")\n",
    ")\n",
    "view_comp(comp)"
   ]
  },
  {
   "cell_type": "code",
   "execution_count": 151,
   "metadata": {},
   "outputs": [],
   "source": [
    "def gen():\n",
    "\n",
    "    a = random.randint(100,999)\n",
    "    b = random.randint(10,99)\n",
    "    \n",
    "    bz = b//10\n",
    "    be = b%10\n",
    "\n",
    "    c1 = be * a\n",
    "    c2 = bz * a\n",
    "\n",
    "    d = c1 + c2 *10\n",
    "\n",
    "    a=str(a)\n",
    "    b=str(b)\n",
    "    c1=str(c1)\n",
    "    c2=str(c2)\n",
    "\n",
    "    c1 = ' '*(4-len(c1))+c1\n",
    "    assert len(c1) == 4\n",
    "\n",
    "    d = str(d)\n",
    "    d = ' '*(6-len(d))+d\n",
    "    assert len(d) == 6\n",
    "\n",
    "    p = list(a+b)\n",
    "    r = json.dumps(list(c1+c2+d))\n",
    "    \n",
    "    return Question.standart(comp,r,p,tip)"
   ]
  },
  {
   "cell_type": "code",
   "execution_count": 152,
   "metadata": {},
   "outputs": [],
   "source": [
    "q = [gen() for _ in range(50)]"
   ]
  },
  {
   "cell_type": "code",
   "execution_count": 153,
   "metadata": {},
   "outputs": [
    {
     "name": "stdout",
     "output_type": "stream",
     "text": [
      "view file:///Users/peergynt/fun/svelte/monsun/factory/views/index.html in browser\n"
     ]
    }
   ],
   "source": [
    "view(*q)"
   ]
  },
  {
   "cell_type": "code",
   "execution_count": 111,
   "metadata": {},
   "outputs": [],
   "source": [
    "collection.add_series(q,10,\"schriftliche multiplikation zweistellig\")"
   ]
  },
  {
   "attachments": {},
   "cell_type": "markdown",
   "metadata": {},
   "source": [
    "### überschlag bei multiplikation"
   ]
  },
  {
   "cell_type": "code",
   "execution_count": 154,
   "metadata": {},
   "outputs": [
    {
     "name": "stdout",
     "output_type": "stream",
     "text": [
      "view file:///Users/peergynt/fun/svelte/monsun/factory/views/index.html in browser\n"
     ]
    }
   ],
   "source": [
    "tip = '''\n",
    "<h3>Beim Überschlag findest du herraus, wie das Ergebnis ungefähr lauten muss.</h3>\n",
    "<p>341 • 7 = ?  => 300 • 7 = 2100 </p>\n",
    "<p>341 • 27 = ?  => 300 • 30 = 90000 </p>\n",
    "<p></p>\n",
    "<h3>du rundest einfach beide Zahlen und das ergebnis ist ungefähr richtig</h3>\n",
    "'''\n",
    "view_comp(tip)"
   ]
  },
  {
   "cell_type": "code",
   "execution_count": 155,
   "metadata": {},
   "outputs": [],
   "source": [
    "comp = '''\n",
    "<h3>benutze überschlag um das richtige ergebnis zu finden</h3>\n",
    "<p> {} </p>\n",
    "'''"
   ]
  },
  {
   "cell_type": "code",
   "execution_count": 156,
   "metadata": {},
   "outputs": [],
   "source": [
    "def gen (a_size,b_size):\n",
    "\n",
    "    a = 1\n",
    "    while (a<=1):\n",
    "        a = randint(a_size)\n",
    "\n",
    "    b = randint(b_size)\n",
    "\n",
    "    r_a = round(a,1-a_size)\n",
    "    r_b = round(b,1-b_size)\n",
    "\n",
    "    r_res = r_a * r_b\n",
    "    res = a*b\n",
    "\n",
    "    diff = abs(r_res - res)\n",
    "    dir = random.choice([1,-1]) *(random.random()*2+1)\n",
    "    f_res = int(res *dir)\n",
    "    if f_res<0:\n",
    "        return gen(a_size,b_size)\n",
    "    \n",
    "\n",
    "    \n",
    "    params = [f\"{a} • {b} = {res}\",f\"{a} • {b} = {f_res}\"]\n",
    "    if random.random() >0.5:\n",
    "        params.reverse()\n",
    "\n",
    "    title = comp.format(f\"{a} • {b} = ?\")\n",
    "    \n",
    "    q = Question.multiple_choice(title,[res],[f_res],tip)\n",
    "\n",
    "    return q\n"
   ]
  },
  {
   "cell_type": "code",
   "execution_count": 157,
   "metadata": {},
   "outputs": [],
   "source": [
    "q = [gen(4,1) for _ in range(10)]\n",
    "q += [gen(5,1) for _ in range(10)]\n",
    "q += [gen(4,2) for _ in range(10)]\n",
    "q += [gen(5,2) for _ in range(10)]"
   ]
  },
  {
   "cell_type": "code",
   "execution_count": 158,
   "metadata": {},
   "outputs": [
    {
     "name": "stdout",
     "output_type": "stream",
     "text": [
      "view file:///Users/peergynt/fun/svelte/monsun/factory/views/index.html in browser\n"
     ]
    }
   ],
   "source": [
    "view(*q)"
   ]
  },
  {
   "cell_type": "code",
   "execution_count": 117,
   "metadata": {},
   "outputs": [],
   "source": [
    "collection.add_series(q,4,\"runden bei mulitiplikation\")"
   ]
  },
  {
   "cell_type": "markdown",
   "metadata": {},
   "source": [
    "### schriftliche division"
   ]
  },
  {
   "cell_type": "code",
   "execution_count": 159,
   "metadata": {},
   "outputs": [],
   "source": [
    "checkers_style_template = '''\n",
    "<style>\n",
    "    .table,.underline{{\n",
    "        width:{}em;\n",
    "        background-color:white;\n",
    "        margin:auto;\n",
    "        border:1px solid black;\n",
    "    }}\n",
    "    .row{{\n",
    "\n",
    "        height:1em;\n",
    "        display:flex;\n",
    "    }}\n",
    "    .row>div{{\n",
    "        width:1em;\n",
    "        height:1em;\n",
    "        position:relative;\n",
    "        border-bottom:1px solid black;\n",
    "        border-right:1px solid black;\n",
    "    }}\n",
    "    .underline{{\n",
    "        position:absolute;\n",
    "    }}\n",
    "    \n",
    "    div>input{{\n",
    "        all:unset;\n",
    "        width:.9em;\n",
    "        height:.8em;\n",
    "        background-color:aliceblue;\n",
    "    }}\n",
    "    .mini{{\n",
    "        color:red;\n",
    "    }}\n",
    "</style>'''\n",
    "\n",
    "def checkers_table_style(w):\n",
    "    return checkers_style_template.format(w)"
   ]
  },
  {
   "cell_type": "code",
   "execution_count": 160,
   "metadata": {},
   "outputs": [],
   "source": [
    "from lib.html_viewer import tabl"
   ]
  },
  {
   "cell_type": "code",
   "execution_count": 161,
   "metadata": {},
   "outputs": [
    {
     "name": "stdout",
     "output_type": "stream",
     "text": [
      "view file:///Users/peergynt/fun/svelte/monsun/factory/views/index.html in browser\n"
     ]
    }
   ],
   "source": [
    "tip = tabl(11,9,\n",
    "     mkrow(\"           \"),\n",
    "     mkrow(\" 652:4=163 \"),underline,\n",
    "     mkrow(\" 4         \"),\n",
    "     mkrow(\" 25        \"),\n",
    "     mkrow(\" 24        \"),underline,\n",
    "     mkrow(\"  12       \"),\n",
    "     mkrow(\"  12       \"),underline,\n",
    "     mkrow(\"   0       \"),\n",
    "     mkrow(\"           \"),\n",
    "     )\n",
    "view_comp(tip)"
   ]
  },
  {
   "cell_type": "code",
   "execution_count": 162,
   "metadata": {},
   "outputs": [
    {
     "name": "stdout",
     "output_type": "stream",
     "text": [
      "view file:///Users/peergynt/fun/svelte/monsun/factory/views/index.html in browser\n"
     ]
    }
   ],
   "source": [
    "tip = '''\t\n",
    "<h3>Beim schriftlichen dividieren berechnest du eine Stelle nach der anderen:</h3>\n",
    "<p> 1. rechne: 6:4 = 1 Rest 2 schreibe 1</p>\n",
    "<p> multipliziere 4•1 = 4 schreibe 4</p>\n",
    "'''+tabl(11,9,\n",
    "     mkrow(\"           \"),\n",
    "     mkrow(\" 652:4=1   \"),underline,\n",
    "     mkrow(\" 4         \"),\n",
    "     mkrow(\"           \"),\n",
    "     mkrow(\"           \"),underline,\n",
    "     mkrow(\"           \"),\n",
    "     mkrow(\"           \"),underline,\n",
    "     mkrow(\"           \"),\n",
    "     mkrow(\"           \"),\n",
    "     )+'''\n",
    "<p> 2. subtrahiere 6-4=2</p>\n",
    "<p> hole runter: 5</p>\n",
    "<p> rechne: 25:4 = 6 Rest 1 schreibe 6</p>\n",
    "<p> multipliziere 4•6 = 24 schreibe 24</p>\n",
    "<br>\n",
    "'''+tabl(11,9,\n",
    "     mkrow(\"           \"),\n",
    "     mkrow(\" 652:4=16  \"),underline,\n",
    "     mkrow(\" 4         \"),\n",
    "     mkrow(\" 25        \"),\n",
    "     mkrow(\" 24        \"),underline,\n",
    "     mkrow(\"           \"),\n",
    "     mkrow(\"           \"),underline,\n",
    "     mkrow(\"           \"),\n",
    "     mkrow(\"           \"),\n",
    "     )+'''\n",
    "\n",
    "<p> 3. subtrahiere 25-24=1</p>\n",
    "<p> hole runter: 2</p>\n",
    "<p> rechne: 12:4 = 3 Rest 0 schreibe 3</p>\n",
    "<p> multipliziere 4•3 = 12 schreibe 12</p>\n",
    "<p> subtrahiere 12 - 12 = 0</p>\n",
    "'''+tabl(11,9,\n",
    "     mkrow(\"           \"),\n",
    "     mkrow(\" 652:4=163 \"),underline,\n",
    "     mkrow(\" 4         \"),\n",
    "     mkrow(\" 25        \"),\n",
    "     mkrow(\" 24        \"),underline,\n",
    "     mkrow(\"  12       \"),\n",
    "     mkrow(\"  12       \"),underline,\n",
    "     mkrow(\"   0       \"),\n",
    "     mkrow(\"           \"),\n",
    "     )+checkers_table_style(11)\n",
    "view_comp(tip)"
   ]
  },
  {
   "cell_type": "code",
   "execution_count": 163,
   "metadata": {},
   "outputs": [
    {
     "name": "stdout",
     "output_type": "stream",
     "text": [
      "view file:///Users/peergynt/fun/svelte/monsun/factory/views/index.html in browser\n"
     ]
    }
   ],
   "source": [
    "comp = tabl(11,9,\n",
    "    mkrow(\"           \")+\n",
    "    mkrow(\" xxx:x=xxx \")+\n",
    "    mkrow(\" x         \")+\n",
    "    underline+\n",
    "    mkrow(\" xx        \")+\n",
    "    mkrow(\" xx        \")+\n",
    "    underline+\n",
    "    mkrow(\"  xx       \")+\n",
    "    mkrow(\"  xx       \")+\n",
    "    underline+\n",
    "    mkrow(\"   x       \")+\n",
    "    mkrow(\"           \")\n",
    ")\n",
    "\n",
    "comp = comp.replace(\"x\",\"{}\")\n",
    "\n",
    "comp = '''<h3>dividiere schriftlich</h3>'''+comp\n",
    "view_comp(comp)"
   ]
  },
  {
   "cell_type": "code",
   "execution_count": 164,
   "metadata": {},
   "outputs": [],
   "source": [
    "def gen():\n",
    "    a = randint(3)\n",
    "    b = random.randint(2,9)\n",
    "    a -= a%b\n",
    "    c = int(a/b)\n",
    "    if a < 1e2:\n",
    "        return gen()\n",
    "    a = str(a)\n",
    "    b = str(b)\n",
    "    c = str(c)\n",
    "    if len(c) < 3:\n",
    "        c = '0'+c\n",
    "\n",
    "    u = []\n",
    "    A = a \n",
    "    B = int(b)\n",
    "    next_num = int(A[0])\n",
    "    A = A[1:]\n",
    "\n",
    "    d = next_num // B\n",
    "    r = next_num % B\n",
    "    u.append(str(next_num-r))\n",
    "    u.append(str(r))\n",
    "\n",
    "    for i in range(2):\n",
    "\n",
    "        u.append(str(A[0]))\n",
    "        A = A[1:]\n",
    "        next_num = int(\"\".join(u[-2:]))\n",
    "        d = next_num // B\n",
    "        r = next_num % B\n",
    "        dif = str(next_num-r)\n",
    "        if len(dif) <2:dif  = '0'+dif\n",
    "        u = u + list(str(dif))\n",
    "        u.append(str(r))\n",
    "\n",
    "\n",
    "    u += ['x']*(10-len(u))\n",
    "\n",
    "    return Question.standart(comp,\n",
    "                    list(c)+u,\n",
    "                    list(a)+list(b)+['<input>']*13,\n",
    "                    tip)"
   ]
  },
  {
   "cell_type": "code",
   "execution_count": 165,
   "metadata": {},
   "outputs": [],
   "source": [
    "q = [gen() for _ in range(50)]"
   ]
  },
  {
   "cell_type": "code",
   "execution_count": 166,
   "metadata": {},
   "outputs": [
    {
     "name": "stdout",
     "output_type": "stream",
     "text": [
      "view file:///Users/peergynt/fun/svelte/monsun/factory/views/index.html in browser\n"
     ]
    }
   ],
   "source": [
    "view(*q)"
   ]
  },
  {
   "cell_type": "code",
   "execution_count": 126,
   "metadata": {},
   "outputs": [],
   "source": [
    "collection.add_series(q,15,'schrifltiche division')"
   ]
  },
  {
   "attachments": {},
   "cell_type": "markdown",
   "metadata": {},
   "source": [
    "### überschlag bei schriftlicher division"
   ]
  },
  {
   "cell_type": "code",
   "execution_count": 167,
   "metadata": {},
   "outputs": [
    {
     "name": "stdout",
     "output_type": "stream",
     "text": [
      "view file:///Users/peergynt/fun/svelte/monsun/factory/views/index.html in browser\n"
     ]
    }
   ],
   "source": [
    "tip = '''\n",
    "<h3>Beim Überschlag findest du herraus, wie das Ergebnis ungefähr lauten muss. Finde eine zahl die ungefähr so groß ist wie die erste und gut durch die zweite teilbar ist.</h3>\n",
    "\n",
    "<p>341 : 7 = ? => 350 : 7 = 50 </p>\n",
    "<p>2814 : 3 = ? => 2700 : 3 = 900 </p>\n",
    "<p></p>\n",
    "'''\n",
    "view_comp(tip)"
   ]
  },
  {
   "cell_type": "code",
   "execution_count": 168,
   "metadata": {},
   "outputs": [],
   "source": [
    "comp = '''\n",
    "<h3>finde das richtige Ergebnis mithilfe von Überschlag<h3>\n",
    "<p> {} </p>\n",
    "'''"
   ]
  },
  {
   "cell_type": "code",
   "execution_count": 169,
   "metadata": {},
   "outputs": [
    {
     "data": {
      "text/plain": [
       "<module 'lib.local_database' from '/Users/peergynt/fun/svelte/monsun/factory/lib/local_database.py'>"
      ]
     },
     "execution_count": 169,
     "metadata": {},
     "output_type": "execute_result"
    }
   ],
   "source": [
    "reload(lib.local_database)"
   ]
  },
  {
   "cell_type": "code",
   "execution_count": 170,
   "metadata": {},
   "outputs": [
    {
     "data": {
      "text/plain": [
       "<Q:  <h3>\n",
       "<h3>finde das richtige Ergebnis mit : [\"328\"]>"
      ]
     },
     "execution_count": 170,
     "metadata": {},
     "output_type": "execute_result"
    }
   ],
   "source": [
    "def gen(size):\n",
    "\n",
    "    a = randint(size)\n",
    "    b = random.randint(2,9)\n",
    "    a -= a%b\n",
    "    c = int(a/b)\n",
    "\n",
    "\n",
    "    c_size = int(math.log10(c))\n",
    "    r_c = round(c,-c_size)\n",
    "\n",
    "    f = c + random.choice([1,-1])*(1+random.random())*10**c_size\n",
    "    f = int(f)\n",
    "    if f < 0: return gen(size)\n",
    "\n",
    "    title = comp.format(f'{a} : {b} = ?')\n",
    "\n",
    "    return Question.multiple_choice(title,[c],[f],tip)\n",
    "gen(3)"
   ]
  },
  {
   "cell_type": "code",
   "execution_count": 171,
   "metadata": {},
   "outputs": [],
   "source": [
    "q = [gen(3) for _ in range(25)]\n",
    "q+= [gen(4) for _ in range(25)]"
   ]
  },
  {
   "cell_type": "code",
   "execution_count": 172,
   "metadata": {},
   "outputs": [
    {
     "name": "stdout",
     "output_type": "stream",
     "text": [
      "view file:///Users/peergynt/fun/svelte/monsun/factory/views/index.html in browser\n"
     ]
    }
   ],
   "source": [
    "view(*q)"
   ]
  },
  {
   "cell_type": "code",
   "execution_count": 133,
   "metadata": {},
   "outputs": [],
   "source": [
    "collection.add_series(q,6,\"runden bei division\")"
   ]
  },
  {
   "attachments": {},
   "cell_type": "markdown",
   "metadata": {},
   "source": [
    "### schriftlich dividieren mit rest"
   ]
  },
  {
   "cell_type": "code",
   "execution_count": 173,
   "metadata": {},
   "outputs": [
    {
     "name": "stdout",
     "output_type": "stream",
     "text": [
      "view file:///Users/peergynt/fun/svelte/monsun/factory/views/index.html in browser\n"
     ]
    }
   ],
   "source": [
    "comp = tabl(11,9,\n",
    "    mkrow(\"             \")+\n",
    "    mkrow(\" xxx:x=xxxRx \")+\n",
    "    mkrow(\" x           \")+\n",
    "    underline+\n",
    "    mkrow(\" xx          \")+\n",
    "    mkrow(\" xx          \")+\n",
    "    underline+\n",
    "    mkrow(\"  xx         \")+\n",
    "    mkrow(\"  xx         \")+\n",
    "    underline+\n",
    "    mkrow(\"   x         \")+\n",
    "    mkrow(\"             \")\n",
    ")\n",
    "\n",
    "comp = comp.replace(\"x\",\"{}\")\n",
    "\n",
    "comp = '''<h3>dividiere schriftlich</h3>'''+comp\n",
    "view_comp(comp+checkers_table_style(13))"
   ]
  },
  {
   "cell_type": "code",
   "execution_count": 174,
   "metadata": {},
   "outputs": [
    {
     "name": "stdout",
     "output_type": "stream",
     "text": [
      "view file:///Users/peergynt/fun/svelte/monsun/factory/views/index.html in browser\n"
     ]
    }
   ],
   "source": [
    "view_comp('''\n",
    "\n",
    "<style>\n",
    "\n",
    ".underline{\n",
    "    width:inherit\n",
    "}\n",
    "\n",
    "</style>\n",
    "''')"
   ]
  },
  {
   "cell_type": "code",
   "execution_count": 175,
   "metadata": {},
   "outputs": [
    {
     "name": "stdout",
     "output_type": "stream",
     "text": [
      "view file:///Users/peergynt/fun/svelte/monsun/factory/views/index.html in browser\n"
     ]
    }
   ],
   "source": [
    "\n",
    "def gen():\n",
    "    a = randint(3)\n",
    "    b = random.randint(2,9)\n",
    "    c = int(a/b)\n",
    "    if a < 1e2:\n",
    "        return gen()\n",
    "    a = str(a)\n",
    "    b = str(b)\n",
    "    c = str(c)\n",
    "    if len(c) < 3:\n",
    "        c = '0'+c\n",
    "\n",
    "    u = []\n",
    "    A = a \n",
    "    B = int(b)\n",
    "    next_num = int(A[0])\n",
    "    A = A[1:]\n",
    "\n",
    "    d = next_num // B\n",
    "    r = next_num % B\n",
    "    u.append(str(next_num-r))\n",
    "    u.append(str(r))\n",
    "\n",
    "    for i in range(2):\n",
    "\n",
    "        u.append(str(A[0]))\n",
    "        A = A[1:]\n",
    "        next_num = int(\"\".join(u[-2:]))\n",
    "        d = next_num // B\n",
    "        r = next_num % B\n",
    "        dif = str(next_num-r)\n",
    "        if len(dif) <2:dif  = '0'+dif\n",
    "        u = u + list(str(dif))\n",
    "        u.append(str(r))\n",
    "\n",
    "    u = [str(r)] + u\n",
    "    u += ['x']*(10-len(u))\n",
    "\n",
    "    return Question.standart(comp,\n",
    "                    list(c)+u,\n",
    "                    list(a)+list(b)+['<input>']*14,\n",
    "                    tip)\n",
    "view(gen())"
   ]
  },
  {
   "cell_type": "code",
   "execution_count": 176,
   "metadata": {},
   "outputs": [],
   "source": [
    "q = [gen() for _ in range(50)]"
   ]
  },
  {
   "cell_type": "code",
   "execution_count": 177,
   "metadata": {},
   "outputs": [
    {
     "name": "stdout",
     "output_type": "stream",
     "text": [
      "view file:///Users/peergynt/fun/svelte/monsun/factory/views/index.html in browser\n"
     ]
    }
   ],
   "source": [
    "view(*q)"
   ]
  },
  {
   "cell_type": "code",
   "execution_count": 139,
   "metadata": {},
   "outputs": [],
   "source": [
    "collection.add_series(q,10,'schriftliche division mit rest')"
   ]
  },
  {
   "attachments": {},
   "cell_type": "markdown",
   "metadata": {},
   "source": [
    "### division rest ergänzen"
   ]
  },
  {
   "cell_type": "markdown",
   "metadata": {},
   "source": [
    "### Teilbarkeit"
   ]
  },
  {
   "cell_type": "code",
   "execution_count": 178,
   "metadata": {},
   "outputs": [],
   "source": [
    "tip = '''\n",
    "<h3> Mithilfe der Teilbarkeitsregeln kannst du herausfinden ob eine Zahl durch eine andere teilbar ist.</h3>\n",
    "<p>Eine Zahl ist teilbar durch: </p>\n",
    "<p> <span>2</span>, wenn die letzte Ziffer durch 2 teilbar ist.</p>\n",
    "<p> <span>3</span>, wenn die Quersumme durch 3 teilbar ist.</p>\n",
    "<p> <span>4</span>, wenn die letzten beiden Ziffern eine Zahl bilden, die durch 4 teilbar ist.</p>\n",
    "<p> <span>5</span>, wenn die letzte Ziffer eine 0 oder 5 ist.</p>\n",
    "<p> <span>6</span>, wenn die Zahl durch 2 und durch 3 teilbar ist.</p>\n",
    "<p> <span>8</span>, wenn die letzten 3 ziffern eine Zahl bilden, die durch 8 teilbar ist.</p>\n",
    "<p> <span>9</span>, wenn die Quersumme der Zahl durch 9 teilbar ist.</p>\n",
    "<p></p>\n",
    "<p>Die <span>Quersumme</span> einer Zahl bildest du indem du alle Ziffern einer Zahl addierst:</p>\n",
    "<p>Die Quersumme von 2356 = 2 + 2 + 5 + 6 = 15<p>\n",
    "<p>Die Quersumme von 15 = 1 + 5 = 6<p>\n",
    "'''"
   ]
  },
  {
   "cell_type": "code",
   "execution_count": 179,
   "metadata": {},
   "outputs": [
    {
     "name": "stdout",
     "output_type": "stream",
     "text": [
      "view file:///Users/peergynt/fun/svelte/monsun/factory/views/index.html in browser\n"
     ]
    }
   ],
   "source": [
    "comp = '''\n",
    "<h3> {} ist durch {} </h3>\n",
    "<button>teilbar</button> <button>nicht teilbar</button>'''\n",
    "view_comp(comp)"
   ]
  },
  {
   "cell_type": "code",
   "execution_count": 180,
   "metadata": {},
   "outputs": [
    {
     "data": {
      "text/plain": [
       "<Q:  \n",
       "<h3> 8172 ist durch 9 </h3>\n",
       "<button>tei : [\"teilbar\"]>"
      ]
     },
     "execution_count": 180,
     "metadata": {},
     "output_type": "execute_result"
    }
   ],
   "source": [
    "def gen (size):\n",
    "\n",
    "    a = randint(size)\n",
    "    b = random.choice([2,3,4,5,6,8,9])\n",
    "    a -= a%b\n",
    "\n",
    "    solution = 'teilbar'\n",
    "    if random.random() > 0.5:\n",
    "        a += random.randint(1,b-1)\n",
    "        solution = 'nicht teilbar'\n",
    "    \n",
    "    return Question.standart(comp,[solution],[a,b],tip)\n",
    "\n",
    "gen(4)"
   ]
  },
  {
   "cell_type": "code",
   "execution_count": 181,
   "metadata": {},
   "outputs": [
    {
     "name": "stdout",
     "output_type": "stream",
     "text": [
      "view file:///Users/peergynt/fun/svelte/monsun/factory/views/index.html in browser\n"
     ]
    }
   ],
   "source": [
    "view(gen(4))"
   ]
  },
  {
   "cell_type": "code",
   "execution_count": 182,
   "metadata": {},
   "outputs": [],
   "source": [
    "q = [gen(3) for _ in range(20)]\n",
    "q += [gen(4) for _ in range(20)]\n",
    "q += [gen(5) for _ in range(20)]"
   ]
  },
  {
   "cell_type": "code",
   "execution_count": 145,
   "metadata": {},
   "outputs": [],
   "source": [
    "collection.add_series(q,15,\"teilbarkeit\")"
   ]
  },
  {
   "attachments": {},
   "cell_type": "markdown",
   "metadata": {},
   "source": [
    "### rechnen mit grundrechenarten"
   ]
  },
  {
   "cell_type": "code",
   "execution_count": 183,
   "metadata": {},
   "outputs": [
    {
     "name": "stdout",
     "output_type": "stream",
     "text": [
      "view file:///Users/peergynt/fun/svelte/monsun/factory/views/index.html in browser\n"
     ]
    }
   ],
   "source": [
    "tip = '''\n",
    "<h3>Zeitangaben können in verschiedenen Einheiten stehen:</h3>\n",
    "<p>Jahr (y), Monat (m), Woche w), Tag (d), Stunde (h), Minute (min) oder Sekunde (s)\n",
    "<br>\n",
    "<table>\n",
    "\t<tr>\n",
    "\t\t<td>1 Jahr hat 12 Monate</td>\n",
    "\t\t<td> 1 Jahr hat 365 oder 366 Tage </td>\n",
    "\t</tr>\n",
    "\t<tr>\n",
    "\t\t<td>1 Monat hat ungefähr 4 Wochen</td>\n",
    "\t\t<td>1 Monat hat 28 bis 31 tage </td>\n",
    "\t</tr>\n",
    "\t<tr>\n",
    "\t\t<td>1 Woche hat 7 Tage</td>\n",
    "\t</tr>\n",
    "\t<tr>\n",
    "\t\t<td>1 Tag hat 24 Stunden</td>\n",
    "\t</tr>\n",
    "\t<tr>\n",
    "\t\t<td>1 Stunde hat 60 Minuten</td>\n",
    "\t</tr>\n",
    "\t<tr>\n",
    "\t\t<td>1 Minute hat 60 Sekunden</td>\n",
    "\t</tr>\n",
    "</table>\n",
    "<style>\n",
    "    table{\n",
    "        margin:auto;\n",
    "        text-align:left;\n",
    "    }\n",
    "    td{\n",
    "        padding-left:2em;\n",
    "    }\n",
    "</style>\n",
    "\n",
    "'''\n",
    "\n",
    "view_comp(tip)"
   ]
  },
  {
   "cell_type": "code",
   "execution_count": 184,
   "metadata": {},
   "outputs": [],
   "source": [
    "q = Question.multiple_choice(\"wie viele Sekunden hat eine Stunde?\", [\"3600\"],[36000,1280,18000],tip=tip)"
   ]
  },
  {
   "cell_type": "code",
   "execution_count": 185,
   "metadata": {},
   "outputs": [],
   "source": [
    "q = [\n",
    "    Question.multiple_choice(\"wie viele Sekunden hat eine Stunde?\",      [3600],[36000,1280,18000],tip=tip),\n",
    "    Question.multiple_choice(\"wie viele Minuten hat eine Tag?\",          [1440],[1600,1280,1800],tip=tip),\n",
    "    Question.multiple_choice(\"wie viele Montage kann ein Jahr haben?\",   [52,53],[50,60],tip=tip),\n",
    "    Question.multiple_choice(\"wie viele Stunden hat der 3. April?\",      [24],[30,60,12],tip=tip),\n",
    "    Question.multiple_choice(\"wie viele Sonntage kann ein Monat haben?\", [4,5],[3,2,7],tip=tip),\n",
    "]"
   ]
  },
  {
   "cell_type": "code",
   "execution_count": 186,
   "metadata": {},
   "outputs": [
    {
     "name": "stdout",
     "output_type": "stream",
     "text": [
      "view file:///Users/peergynt/fun/svelte/monsun/factory/views/index.html in browser\n"
     ]
    }
   ],
   "source": [
    "view(*q)"
   ]
  },
  {
   "cell_type": "code",
   "execution_count": 187,
   "metadata": {},
   "outputs": [
    {
     "name": "stdout",
     "output_type": "stream",
     "text": [
      "ERROR: series allready exists. If you want to replace it call with replace = True\n"
     ]
    }
   ],
   "source": [
    "collection.add_series(q,5,\"zeitangaben vergleichen\")"
   ]
  },
  {
   "attachments": {},
   "cell_type": "markdown",
   "metadata": {},
   "source": [
    "### zeitangaben umwandeln"
   ]
  },
  {
   "cell_type": "code",
   "execution_count": 188,
   "metadata": {},
   "outputs": [],
   "source": [
    "comp = '''<h3> Wie viele {} sind {} {}?'''"
   ]
  },
  {
   "cell_type": "code",
   "execution_count": 189,
   "metadata": {},
   "outputs": [],
   "source": [
    "entities = [\n",
    "    (\"Jahr\",\"Jahre\"),\n",
    "    (\"Monat\",\"Monate\"),\n",
    "    (\"Woche\",\"Wochen\"),\n",
    "    (\"Tag\",\"Tage\"),\n",
    "    (\"Stunde\",\"Stunden\"),\n",
    "    (\"Minute\",\"Minuten\"),\n",
    "    (\"Sekunde\",\"Sekunden\"),\n",
    "]\n",
    "factors = [12,-1,7,24,60,60]\n",
    "\n",
    "\n",
    "def gen_up(num,ent):\n",
    "    for i in range(len(entities)):\n",
    "        if (entities[i][0] == ent or entities[i][1] == ent) :\n",
    "            idx = i - 1\n",
    "            try:\n",
    "                start_ent = entities[idx][1]\n",
    "                factor = factors[idx]\n",
    "            except:\n",
    "                raise KeyError(f\"cant make that conversion for {ent} \")\n",
    "            assert factor != -1,\"cant make clean conversion for month to day\"\n",
    "            bignum = num * factor\n",
    "            return Question.standart(comp,bignum,[ent,num,start_ent],tip)\n",
    "\n",
    "def gen_down(num,ent):\n",
    "    for i in range(len(entities)):\n",
    "        if (entities[i][0] == ent or entities[i][1] == ent) :\n",
    "            idx = i -1\n",
    "            if idx < 0: raise KeyError(f\"cant make that conversion for {ent} \")\n",
    "            try:\n",
    "                target_ent = entities[idx][1]\n",
    "                factor = factors[idx]\n",
    "            except:\n",
    "                raise KeyError(f\"cant make that conversion for {ent} \")\n",
    "            assert factor != -1,\"cant make clean conversion for month to day\"\n",
    "            bignum = num * factor\n",
    "            return Question.standart(comp,num,[target_ent,bignum,ent],tip)\n",
    "    \n",
    "\n"
   ]
  },
  {
   "cell_type": "code",
   "execution_count": 190,
   "metadata": {},
   "outputs": [
    {
     "data": {
      "text/plain": [
       "<Q:  <h3> Wie viele Jahre sind 36 Monate? : [3]>"
      ]
     },
     "execution_count": 190,
     "metadata": {},
     "output_type": "execute_result"
    }
   ],
   "source": [
    "gen_down(3,\"Monate\")"
   ]
  },
  {
   "cell_type": "code",
   "execution_count": 191,
   "metadata": {},
   "outputs": [],
   "source": [
    "q = [\n",
    "    gen_down(3,\"Monate\"),\n",
    "    gen_down(4,\"Monate\"),\n",
    "    gen_down(6,\"Monate\"),\n",
    "    gen_down(3,\"Tage\"),\n",
    "    gen_down(5,\"Tage\"),\n",
    "    gen_down(7,\"Tage\"),\n",
    "    gen_down(7,\"Stunden\"),\n",
    "    gen_down(0,\"Stunden\"),\n",
    "    gen_down(3,\"Stunden\"),\n",
    "    gen_down(4,\"Minuten\"),\n",
    "    gen_down(5,\"Minuten\"),\n",
    "    gen_down(7,\"Minuten\"),\n",
    "    gen_down(3,\"Sekunden\"),\n",
    "    gen_down(7,\"Sekunden\"),\n",
    "    gen_down(2,\"Sekunden\"),\n",
    "\n",
    "    gen_up(3,\"Monate\"),\n",
    "    gen_up(4,\"Monate\"),\n",
    "    gen_up(6,\"Monate\"),\n",
    "    gen_up(3,\"Tage\"),\n",
    "    gen_up(5,\"Tage\"),\n",
    "    gen_up(7,\"Tage\"),\n",
    "    gen_up(7,\"Stunden\"),\n",
    "    gen_up(0,\"Stunden\"),\n",
    "    gen_up(3,\"Stunden\"),\n",
    "    gen_up(4,\"Minuten\"),\n",
    "    gen_up(5,\"Minuten\"),\n",
    "    gen_up(7,\"Minuten\"),\n",
    "    gen_up(3,\"Sekunden\"),\n",
    "    gen_up(7,\"Sekunden\"),\n",
    "    gen_up(2,\"Sekunden\"),\n",
    "]"
   ]
  },
  {
   "cell_type": "code",
   "execution_count": 192,
   "metadata": {},
   "outputs": [
    {
     "name": "stdout",
     "output_type": "stream",
     "text": [
      "view file:///Users/peergynt/fun/svelte/monsun/factory/views/index.html in browser\n"
     ]
    }
   ],
   "source": [
    "view(*q)"
   ]
  },
  {
   "cell_type": "code",
   "execution_count": 156,
   "metadata": {},
   "outputs": [],
   "source": [
    "collection.add_series(q,5,\"zeitangaben umwandeln\")"
   ]
  },
  {
   "attachments": {},
   "cell_type": "markdown",
   "metadata": {},
   "source": [
    "### Geldbeträge "
   ]
  },
  {
   "cell_type": "code",
   "execution_count": 193,
   "metadata": {},
   "outputs": [],
   "source": [
    "tip = '''\n",
    "<h3> Wir nutzen zwei einheite für Geldbeträge. Euro (€) und Cent (ct). 1€ = 100ct</h3> \n",
    "'''"
   ]
  },
  {
   "cell_type": "code",
   "execution_count": 194,
   "metadata": {},
   "outputs": [],
   "source": [
    "def gen_from_cent(num):\n",
    "    tit = h3(\"du hast {} ct. Wie viel € sind das?\")\n",
    "    sol = num/100\n",
    "    return Question.standart(tit,[sol],[num],tip)\n",
    "\n",
    "def gen_from_euro(num):\n",
    "    tit = h3(\"du hast {} €. Wie viel ct sind das?\")\n",
    "    sol = num * 100\n",
    "    return Question.standart(tit,[sol],[num],tip)\n",
    "\n",
    "def gen_from_mixed(ct_num):\n",
    "    ct = ct_num%100\n",
    "    e = int(ct_num/100)\n",
    "    tit = h3(\"du hast {} ct und {} €. Wie viel € sind das?\")\n",
    "    sol = ct_num/100\n",
    "    return Question.standart(tit,[sol],[ct,e],tip)\n"
   ]
  },
  {
   "cell_type": "code",
   "execution_count": 195,
   "metadata": {},
   "outputs": [],
   "source": [
    "q = [\n",
    "    gen_from_cent(123),\n",
    "    gen_from_euro(234),\n",
    "    gen_from_cent(534),\n",
    "\n",
    "    gen_from_cent(3439),\n",
    "    gen_from_euro(6345),\n",
    "    gen_from_mixed(1239),\n",
    "\n",
    "    gen_from_cent(64346),\n",
    "    gen_from_euro(10239),\n",
    "    gen_from_mixed(54091),\n",
    "]"
   ]
  },
  {
   "cell_type": "code",
   "execution_count": 196,
   "metadata": {},
   "outputs": [
    {
     "name": "stdout",
     "output_type": "stream",
     "text": [
      "view file:///Users/peergynt/fun/svelte/monsun/factory/views/index.html in browser\n"
     ]
    }
   ],
   "source": [
    "view(*q)"
   ]
  },
  {
   "cell_type": "code",
   "execution_count": 161,
   "metadata": {},
   "outputs": [],
   "source": [
    "collection.add_series(q,4,\"geldangaben vergleichen\")"
   ]
  },
  {
   "attachments": {},
   "cell_type": "markdown",
   "metadata": {},
   "source": [
    "### Längenangaben"
   ]
  },
  {
   "cell_type": "code",
   "execution_count": 197,
   "metadata": {},
   "outputs": [],
   "source": [
    "tip = h3('Längen gibt man in Kilometer (km), Meter (m), Dezimeter (dm), Zentimeter (cm) oder Millimeter(mm) an')\n",
    "tip += (\n",
    "    p('1km = 1000m')+\n",
    "    p('1m = 10dm = 100cm')+\n",
    "    p('1dm = 10cm')+\n",
    "    p('1cm = 10mm')\n",
    "    )"
   ]
  },
  {
   "cell_type": "code",
   "execution_count": 198,
   "metadata": {},
   "outputs": [
    {
     "name": "stdout",
     "output_type": "stream",
     "text": [
      "view file:///Users/peergynt/fun/svelte/monsun/factory/views/index.html in browser\n"
     ]
    }
   ],
   "source": [
    "view_comp(tip)"
   ]
  },
  {
   "cell_type": "code",
   "execution_count": 199,
   "metadata": {},
   "outputs": [],
   "source": [
    "comp = h3(f'Trage die Abkürzung für die richtige Länge ein. ({span(\"km m, dm, cm\")} oder {span(\"mm\")})')"
   ]
  },
  {
   "cell_type": "code",
   "execution_count": 200,
   "metadata": {},
   "outputs": [],
   "source": [
    "abreviations = [\" km \",\" m \",\" dm \",\" cm \",\" mm \"]\n",
    "\n",
    "def gen(text:str):\n",
    "\n",
    "    for a in abreviations:\n",
    "        if text.find(a) != -1:\n",
    "            text = comp + text.replace(a, \" <input style=\\\"width:2em\\\"> \")\n",
    "            return Question.standart(text,a.split(),[],tip)\n",
    "    \n",
    "    raise ValueError(\"kann längenangabe nicht fiden. längenangabe sollte von leerzeichen umgeben sein.\")"
   ]
  },
  {
   "cell_type": "code",
   "execution_count": 201,
   "metadata": {},
   "outputs": [],
   "source": [
    "q = list(map(gen,[\n",
    "\n",
    "    \"Das Auge eines Menschen ist 24 mm groß\",\n",
    "    \"Ein Hühnerei ist ungefähr 550 mm groß\",\n",
    "    \"Ein Smartphone ist ungefähr 10 cm lang\",\n",
    "    \"Ein großes Lineal ist 30 cm lang\",\n",
    "    \"Ein Wagen von Mercedes Benz ist ungefähr 4,4 m groß\",\n",
    "    \"Eine Giraffe ist 5 bis 6 m hoch\",\n",
    "    \"Ein marathon ist 42 km lang\",\n",
    "    \"Die Strecke von München nach Berlin ist 580 km lang\",\n",
    "\n",
    "]))"
   ]
  },
  {
   "cell_type": "code",
   "execution_count": 202,
   "metadata": {},
   "outputs": [
    {
     "name": "stdout",
     "output_type": "stream",
     "text": [
      "view file:///Users/peergynt/fun/svelte/monsun/factory/views/index.html in browser\n"
     ]
    }
   ],
   "source": [
    "view(*q)"
   ]
  },
  {
   "cell_type": "code",
   "execution_count": 168,
   "metadata": {},
   "outputs": [],
   "source": [
    "collection.add_series(q,4,\"längenangaben schätzen\")"
   ]
  },
  {
   "attachments": {},
   "cell_type": "markdown",
   "metadata": {},
   "source": [
    "### längen umwandeln"
   ]
  },
  {
   "cell_type": "code",
   "execution_count": 203,
   "metadata": {},
   "outputs": [],
   "source": [
    "comp = h3(\"wandle die Einheit um\")+p(\"{} = <input> {}\")\n",
    "\n",
    "def gen(start, target ,faktor):\n",
    "\n",
    "    q = []\n",
    "\n",
    "    for size in range(1,4):\n",
    "        for _ in range(2):\n",
    "            if faktor > 1:\n",
    "                start_num = randint(size)\n",
    "                end_num = start_num * faktor\n",
    "            else:\n",
    "                end_num = randint(size)\n",
    "                start_num = end_num / faktor\n",
    "\n",
    "            start_num = int(start_num)\n",
    "            end_num = int(end_num)\n",
    "            q.append(Question.standart(comp,[end_num],[str(start_num)+start,target],tip))\n",
    "    return q"
   ]
  },
  {
   "cell_type": "code",
   "execution_count": 204,
   "metadata": {},
   "outputs": [],
   "source": [
    "q  = gen(\"km\",\"m\",1000)\n",
    "q += gen(\"m\", \"km\",.001)\n",
    "\n",
    "q  = gen(\"m\",\"cm\",100)\n",
    "q += gen(\"cm\", \"m\",.01)\n",
    "\n",
    "q  = gen( \"m\",\"dm\",10)\n",
    "q += gen(\"dm\", \"m\",.1)\n",
    "\n",
    "q  = gen(\"dm\",\"cm\",10)\n",
    "q += gen(\"cm\",\"dm\",.1)\n",
    "\n",
    "q  = gen(\"cm\",\"mm\",10)\n",
    "q += gen(\"mm\",\"cm\",.1)\n"
   ]
  },
  {
   "cell_type": "code",
   "execution_count": 205,
   "metadata": {},
   "outputs": [
    {
     "name": "stdout",
     "output_type": "stream",
     "text": [
      "view file:///Users/peergynt/fun/svelte/monsun/factory/views/index.html in browser\n"
     ]
    }
   ],
   "source": [
    "view(*q)"
   ]
  },
  {
   "cell_type": "code",
   "execution_count": 172,
   "metadata": {},
   "outputs": [],
   "source": [
    "collection.add_series(q,5,\"längen umwandeln\")"
   ]
  },
  {
   "attachments": {},
   "cell_type": "markdown",
   "metadata": {},
   "source": [
    "### diagramme"
   ]
  },
  {
   "cell_type": "code",
   "execution_count": 206,
   "metadata": {},
   "outputs": [],
   "source": [
    "tip = h3('''In Diagrammen werden Daten visuell dargestellt. Beim Säulendiagram representieren die Säulen einzelnde größen \n",
    "und an der Achsenbeschriftung links kannst du den Betrag ablesen''')"
   ]
  },
  {
   "cell_type": "code",
   "execution_count": 207,
   "metadata": {},
   "outputs": [],
   "source": [
    "heights = [8848,5895,4807,3776,2962]\n",
    "names = [\"Mt. Everest\",\"Mt. Kilimanjaro\",\"Mt. Blanc\",\"Mt. Fuji\",\"Zugspitze\"]"
   ]
  },
  {
   "cell_type": "code",
   "execution_count": 208,
   "metadata": {},
   "outputs": [],
   "source": [
    "mt_dia = diagram(\n",
    "    heights,names,'höhe in m')"
   ]
  },
  {
   "cell_type": "code",
   "execution_count": 209,
   "metadata": {},
   "outputs": [],
   "source": [
    "q = []\n",
    "for i in range (len(names)):\n",
    "    name = names[i]\n",
    "    height = heights[i]\n",
    "    alts = list(map(lambda x : int(height*(1+x/10)),random.sample([-3,-2,-1,1,2,3],3)))\n",
    "    q.append(Question.multiple_choice(\n",
    "        title = mt_dia + f'wie viel ist hoch ist der {names[i]} in metern?',\n",
    "        correct_options=[height],\n",
    "        wrong_options=alts,\n",
    "        tip = tip\n",
    "    ))"
   ]
  },
  {
   "cell_type": "code",
   "execution_count": 210,
   "metadata": {},
   "outputs": [
    {
     "name": "stdout",
     "output_type": "stream",
     "text": [
      "view file:///Users/peergynt/fun/svelte/monsun/factory/views/index.html in browser\n"
     ]
    }
   ],
   "source": [
    "view_comp(tip)"
   ]
  },
  {
   "cell_type": "code",
   "execution_count": 178,
   "metadata": {},
   "outputs": [
    {
     "name": "stdout",
     "output_type": "stream",
     "text": [
      "view file:///Users/peergynt/fun/svelte/monsun/factory/views/index.html in browser\n"
     ]
    }
   ],
   "source": [
    "view(*q)"
   ]
  },
  {
   "cell_type": "code",
   "execution_count": 211,
   "metadata": {},
   "outputs": [
    {
     "name": "stdout",
     "output_type": "stream",
     "text": [
      "ERROR: series allready exists. If you want to replace it call with replace = True\n"
     ]
    }
   ],
   "source": [
    "collection.add_series(q,4,\"diagram lesen\")"
   ]
  },
  {
   "cell_type": "markdown",
   "metadata": {},
   "source": [
    "# save"
   ]
  },
  {
   "cell_type": "code",
   "execution_count": 212,
   "metadata": {},
   "outputs": [
    {
     "name": "stdout",
     "output_type": "stream",
     "text": [
      "math_C\n",
      "sname: Wertetafel rstep: 0.5\n",
      "sname: Große Nachbarzahlen rstep: 0.5\n",
      "sname: Zahlen vergleichen rstep: 0.09999999999999964\n",
      "sname: zahlenstrahl rstep: 1.0\n",
      "sname: zahlenreihe rstep: 0.7142857142857153\n",
      "sname: Runden rstep: 0.4800000000000004\n",
      "sname: überschlag rstep: 0.25\n",
      "sname: schriftliche addition rstep: 0.29999999999999716\n",
      "sname: schriftliche addition ergänzen rstep: 0.20000000000000284\n",
      "sname: schriftliche subtraktion rstep: 0.29999999999999716\n",
      "sname: schriftliche subtraktion ergänzen rstep: 0.20000000000000284\n",
      "sname: große multiplikation rstep: 0.028571428571424917\n",
      "sname: große division rstep: 0.057142857142864045\n",
      "sname: schriftliche multiplikation rstep: 0.29999999999999716\n",
      "sname: schriftliche multiplikation zweistellig rstep: 0.20000000000000284\n",
      "sname: runden bei mulitiplikation rstep: 0.09999999999999432\n",
      "sname: schrifltiche division rstep: 0.30000000000001137\n",
      "sname: runden bei division rstep: 0.12000000000000455\n",
      "sname: schriftliche division mit rest rstep: 0.19999999999998863\n",
      "sname: teilbarkeit rstep: 0.25\n",
      "sname: zeitangaben vergleichen rstep: 1.0\n",
      "sname: zeitangaben umwandeln rstep: 0.1666666666666572\n",
      "sname: geldangaben vergleichen rstep: 0.4444444444444571\n",
      "sname: längenangaben schätzen rstep: 0.5\n",
      "sname: längen umwandeln rstep: 0.4166666666666572\n",
      "sname: diagram lesen rstep: 0.8000000000000114\n",
      "sname: fläche bestimmen rstep: 1.0\n",
      "sname: fläche bestimmen 2 rstep: 0.22222222222222854\n",
      "sname: umfang bestimmen rstep: 0.5\n",
      "sname: achsensymmetrie rstep: 0.25\n",
      "sname: rotations symmetrie rstep: 0.30000000000001137\n",
      "sname: perspektivische ansichten rstep: 0.2608695652174049\n"
     ]
    }
   ],
   "source": [
    "db.save()"
   ]
  },
  {
   "cell_type": "code",
   "execution_count": null,
   "metadata": {},
   "outputs": [],
   "source": []
  }
 ],
 "metadata": {
  "kernelspec": {
   "display_name": "Python 3",
   "language": "python",
   "name": "python3"
  },
  "language_info": {
   "codemirror_mode": {
    "name": "ipython",
    "version": 3
   },
   "file_extension": ".py",
   "mimetype": "text/x-python",
   "name": "python",
   "nbconvert_exporter": "python",
   "pygments_lexer": "ipython3",
   "version": "3.10.9"
  },
  "orig_nbformat": 4,
  "vscode": {
   "interpreter": {
    "hash": "b0fa6594d8f4cbf19f97940f81e996739fb7646882a419484c72d19e05852a7e"
   }
  }
 },
 "nbformat": 4,
 "nbformat_minor": 2
}
