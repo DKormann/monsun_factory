{
 "cells": [
  {
   "cell_type": "code",
   "execution_count": 1,
   "metadata": {},
   "outputs": [],
   "source": [
    "%load_ext autoreload\n",
    "%autoreload 2"
   ]
  },
  {
   "cell_type": "code",
   "execution_count": 2,
   "metadata": {},
   "outputs": [],
   "source": [
    "import random\n",
    "from lib.html_viewer import view_questions,view_components,p,h3,inpt\n",
    "from lib.local_database import db,Question,Collection,db,Series,Database\n",
    "from lib.svg_generator import Grid,svg,line\n",
    "import json"
   ]
  },
  {
   "cell_type": "code",
   "execution_count": 3,
   "metadata": {},
   "outputs": [],
   "source": [
    "db = Database()"
   ]
  },
  {
   "cell_type": "code",
   "execution_count": 4,
   "metadata": {},
   "outputs": [],
   "source": [
    "collection = db.get_collection(\"math\",\"C\")"
   ]
  },
  {
   "cell_type": "code",
   "execution_count": 16,
   "metadata": {},
   "outputs": [
    {
     "data": {
      "text/plain": [
       "<Collection math_C 26 types>"
      ]
     },
     "execution_count": 16,
     "metadata": {},
     "output_type": "execute_result"
    }
   ],
   "source": [
    "collection"
   ]
  },
  {
   "attachments": {},
   "cell_type": "markdown",
   "metadata": {},
   "source": [
    "### Fläche"
   ]
  },
  {
   "cell_type": "code",
   "execution_count": 5,
   "metadata": {},
   "outputs": [
    {
     "name": "stdout",
     "output_type": "stream",
     "text": [
      "view file:///Users/peergynt/fun/svelte/monsun/factory/views/index.html in browser\n"
     ]
    }
   ],
   "source": [
    "tip = (\n",
    "    h3('Die Größe von Flächen bestimmen wir, indem wir fragen wie viele Centimeterquadrate die Fläche enthält.')+\n",
    "    Grid(3,1,width=\"3cm\").get_html()+\n",
    "    h3('diese Fläche enthält 3 Quadrate und ist deshalb 3 quadratcentimeter (cm²) groß.')+\n",
    "    Grid(5,2,width=\"5cm\").get_html()+\n",
    "    h3('diese Fläche ist 10 cm² groß.')\n",
    "    \n",
    ")\n",
    "view_components(tip)"
   ]
  },
  {
   "cell_type": "code",
   "execution_count": 6,
   "metadata": {},
   "outputs": [
    {
     "name": "stdout",
     "output_type": "stream",
     "text": [
      "view file:///Users/peergynt/fun/svelte/monsun/factory/views/index.html in browser\n"
     ]
    }
   ],
   "source": [
    "def gen_rect(x,y):\n",
    "\n",
    "\n",
    "    v = max(x,y)+2\n",
    "    g = Grid(v,v)\n",
    "\n",
    "    title = h3(\"wie groß ist das blaue quadrat in cm²?\")\n",
    "    title += inpt + \"\"\n",
    "\n",
    "    g.add_figure(\n",
    "        (1,1),(x+1,1),(x+1,y+1),(1,y+1),(1,1),color = \"blue\", fill= \"lightblue\"\n",
    "    )\n",
    "    title = g.get_html() + title\n",
    "\n",
    "    return Question.standart(title,x*y,[],tip)\n",
    "\n",
    "view_questions(gen_rect(2,2))"
   ]
  },
  {
   "cell_type": "code",
   "execution_count": 7,
   "metadata": {},
   "outputs": [],
   "source": [
    "q = [\n",
    "    gen_rect(3,1),\n",
    "    gen_rect(2,2),\n",
    "    gen_rect(4,2),\n",
    "    gen_rect(5,2),\n",
    "]"
   ]
  },
  {
   "cell_type": "code",
   "execution_count": 8,
   "metadata": {},
   "outputs": [
    {
     "name": "stdout",
     "output_type": "stream",
     "text": [
      "view file:///Users/peergynt/fun/svelte/monsun/factory/views/index.html in browser\n"
     ]
    }
   ],
   "source": [
    "view_questions(*q)"
   ]
  },
  {
   "cell_type": "code",
   "execution_count": 9,
   "metadata": {},
   "outputs": [],
   "source": [
    "collection.add_series(q,4,\"fläche bestimmen\")"
   ]
  },
  {
   "cell_type": "code",
   "execution_count": 10,
   "metadata": {},
   "outputs": [],
   "source": [
    "def get (data,x,y):\n",
    "        w = len(data[0])\n",
    "        h = len(data)\n",
    "        if x<0 or y<0 or x >= w or y >= h:\n",
    "            return ' '\n",
    "        return data[y][x]\n",
    "\n",
    "\n",
    "def draw_points(data):\n",
    "    w = len(data[0])\n",
    "    h = len(data)\n",
    "    all_points = [[(x,y) for x in range(w)]for y in range(h)]\n",
    "\n",
    "    border = set()\n",
    "    \n",
    "    for x in range(w+1):\n",
    "        for y in range(h+1):\n",
    "            me = get(data,x,y)\n",
    "            if get(data,x-1,y) != me:\n",
    "                border.add(((x,y),(x,y+1)))\n",
    "            if get(data,x,y-1) != me:\n",
    "                border.add(((x,y),(x+1,y)))\n",
    "\n",
    "    border_line = []\n",
    "    start,end = border.pop()\n",
    "\n",
    "    while len(border) != 0:\n",
    "        border_line.append(start)\n",
    "        nx,ny = end\n",
    "        options = [((nx,ny),(nx+1,ny)),\n",
    "            ((nx,ny),(nx,ny+1)),\n",
    "            ((nx-1,ny),(nx,ny)),\n",
    "            ((nx,ny-1),(nx,ny)),\n",
    "        ]\n",
    "        \n",
    "        found = False\n",
    "        for opt in options:\n",
    "            if opt in border:\n",
    "                start = end\n",
    "                if end == opt[0]:\n",
    "                    end = opt[1]\n",
    "                else:\n",
    "                    end = opt[0]\n",
    "                border.remove(opt)\n",
    "                found = True\n",
    "\n",
    "        if not found:\n",
    "            break\n",
    "    border_line.append(start)\n",
    "    border_line.append(end)\n",
    "\n",
    "    return border_line\n",
    "\n",
    "\n",
    "def draw(data):\n",
    "    w = len(data[0])\n",
    "    h = len(data)\n",
    "\n",
    "    \n",
    "    border_line = draw_points(data)\n",
    "    g = Grid(w,h)\n",
    "\n",
    "    g.add_figure(*border_line,color=\"red\",fill=\"lightcoral\")\n",
    "    return g.get_html(),len(border_line)-1"
   ]
  },
  {
   "cell_type": "code",
   "execution_count": 11,
   "metadata": {},
   "outputs": [
    {
     "name": "stdout",
     "output_type": "stream",
     "text": [
      "view file:///Users/peergynt/fun/svelte/monsun/factory/views/index.html in browser\n"
     ]
    }
   ],
   "source": [
    "def gen_random_figure(a = 1,w=8,h=8):\n",
    "    data = [[ ' ' for _ in range(w)]for _ in range(h)]\n",
    "\n",
    "    data[int(h/2)][int(w/2)] = 'x'\n",
    "\n",
    "    x = random.randint(0,w-1)\n",
    "    y = random.randint(0,h-1)\n",
    "    c = a-1\n",
    "    while c > 0:\n",
    "        x = random.randint(0,w-1)\n",
    "        y = random.randint(0,h-1)\n",
    "        if get (data,x,y) == ' ':\n",
    "            for opt in [(x+1,y),(x-1,y),(x,y+1),(x,y-1)]:\n",
    "                if get(data,*opt)=='x':\n",
    "                    data[y][x] = 'x'\n",
    "                    c-=1\n",
    "                    break\n",
    "\n",
    "\n",
    "    if not check_holes(data,w,h):return gen_random_figure(a,w,h)\n",
    "\n",
    "\n",
    "    return data,a\n",
    "\n",
    "def check_holes(data,w,h):\n",
    "    def is_border(x,y):return x <0 or x>=w or y<0 or y>=h\n",
    "    for x in range(w):\n",
    "        for y in range(h):\n",
    "            if get(data,x,y) == ' ':\n",
    "                free = False\n",
    "                dirs = [(0,1),(1,0),(0,-1),(-1,0)]\n",
    "                free = False\n",
    "                for dir in dirs:\n",
    "                    pos = [x,y]\n",
    "                    if is_border(*pos):\n",
    "                        free = True\n",
    "                        break\n",
    "                    while not get(data,*pos)== 'x':\n",
    "                        pos = [pos[0]+dir[0],pos[1]+dir[1]]\n",
    "                        if is_border(*pos):\n",
    "                            free = True\n",
    "                            break\n",
    "                    if free:break\n",
    "                if not free:\n",
    "                    return False\n",
    "    return True\n",
    "\n",
    "\n",
    "# html = gen_random_figure()\n",
    "# view_components(html)\n",
    "data,a = gen_random_figure(15)\n",
    "html,_ = draw(data)\n",
    "view_components(html)"
   ]
  },
  {
   "cell_type": "code",
   "execution_count": 12,
   "metadata": {},
   "outputs": [],
   "source": [
    "def gen(a):\n",
    "    fig,a= gen_random_figure(a,8,8)\n",
    "    fig,_ = draw(fig)\n",
    "    title = fig + h3('wie groß ist die markierte Fläche?')\n",
    "    return Question.standart(title,a,[],tip = tip)\n"
   ]
  },
  {
   "cell_type": "code",
   "execution_count": 13,
   "metadata": {},
   "outputs": [],
   "source": [
    "a_s = [2,3,4,5,6,6,7,7,8,8,9,9,10,10,11,12,12,13,13,15,15,16,16,17,17,18,19,]\n",
    "q = list(map(gen,a_s))"
   ]
  },
  {
   "cell_type": "code",
   "execution_count": 14,
   "metadata": {},
   "outputs": [
    {
     "name": "stdout",
     "output_type": "stream",
     "text": [
      "view file:///Users/peergynt/fun/svelte/monsun/factory/views/index.html in browser\n"
     ]
    }
   ],
   "source": [
    "view_questions(*q)"
   ]
  },
  {
   "cell_type": "code",
   "execution_count": 15,
   "metadata": {},
   "outputs": [],
   "source": [
    "collection.add_series(q,6,'fläche bestimmen 2')"
   ]
  },
  {
   "cell_type": "markdown",
   "metadata": {},
   "source": [
    "## Umfang"
   ]
  },
  {
   "cell_type": "code",
   "execution_count": 16,
   "metadata": {},
   "outputs": [
    {
     "name": "stdout",
     "output_type": "stream",
     "text": [
      "view file:///Users/peergynt/fun/svelte/monsun/factory/views/index.html in browser\n"
     ]
    }
   ],
   "source": [
    "tip = h3('du kannst den Umfang einer Fläche bestimmen indem du zählst wie lang die Grenze der Fläche ist.')\n",
    "\n",
    "g = Grid(6,4,'6cm')\n",
    "g.add_figure((1,1),(5,1),(5,3),(1,3),(1,1),color = 'blue')\n",
    "\n",
    "tip += g.get_html()\n",
    "tip += p('4 + 2 + 4 + 2 = 12')\n",
    "tip += p('In dieser Figur beträgt der Umfang 12cm.')\n",
    "\n",
    "view_components(tip)"
   ]
  },
  {
   "cell_type": "code",
   "execution_count": 17,
   "metadata": {},
   "outputs": [
    {
     "name": "stdout",
     "output_type": "stream",
     "text": [
      "view file:///Users/peergynt/fun/svelte/monsun/factory/views/index.html in browser\n"
     ]
    }
   ],
   "source": [
    "def gen(x,y):\n",
    "\n",
    "    g = Grid(x+2,y+2,width = f\"{x+2}cm\")\n",
    "\n",
    "    g.add_figure(\n",
    "        (1,1),(x+1,1),(x+1,y+1),(1,y+1),(1,1),color = \"blue\", fill= \"lightblue\"\n",
    "    )\n",
    "    title = g.get_html() + h3('wie groß ist der Umfang dieser Figur?')\n",
    "    return Question.standart(title,[x*2+y*2],[],tip)\n",
    "\n",
    "q=gen(4,2)\n",
    "view_questions(q)\n"
   ]
  },
  {
   "cell_type": "code",
   "execution_count": 18,
   "metadata": {},
   "outputs": [],
   "source": [
    "q = [\n",
    "    gen(3,1),\n",
    "    gen(4,1),\n",
    "    gen(4,2),\n",
    "    gen(5,2),\n",
    "    gen(5,3),\n",
    "]\n"
   ]
  },
  {
   "cell_type": "code",
   "execution_count": 19,
   "metadata": {},
   "outputs": [],
   "source": [
    "def gen(a):\n",
    "    data,_ = gen_random_figure(a,6,3)\n",
    "    html,u=draw(data)\n",
    "\n",
    "    title = html + h3('wie groß ist der Umfang dieser Figur?')\n",
    "    return Question.standart(title,u,[],tip,)"
   ]
  },
  {
   "cell_type": "code",
   "execution_count": 20,
   "metadata": {},
   "outputs": [],
   "source": [
    "q = [*map(gen,[4,5,6,6,7,7])]"
   ]
  },
  {
   "cell_type": "code",
   "execution_count": 21,
   "metadata": {},
   "outputs": [],
   "source": [
    "mp = map (gen,[4,5,6,7,7])"
   ]
  },
  {
   "cell_type": "code",
   "execution_count": 22,
   "metadata": {},
   "outputs": [],
   "source": [
    "q += [gen(4),gen(5),gen(6),gen(6),gen(7),gen(7)]"
   ]
  },
  {
   "cell_type": "code",
   "execution_count": 23,
   "metadata": {},
   "outputs": [
    {
     "name": "stdout",
     "output_type": "stream",
     "text": [
      "view file:///Users/peergynt/fun/svelte/monsun/factory/views/index.html in browser\n"
     ]
    }
   ],
   "source": [
    "view_questions(*q)"
   ]
  },
  {
   "cell_type": "code",
   "execution_count": 24,
   "metadata": {},
   "outputs": [],
   "source": [
    "collection.add_series(q,6,'umfang bestimmen')"
   ]
  },
  {
   "attachments": {},
   "cell_type": "markdown",
   "metadata": {},
   "source": [
    "## achsensymmetrie"
   ]
  },
  {
   "cell_type": "code",
   "execution_count": 25,
   "metadata": {},
   "outputs": [
    {
     "name": "stdout",
     "output_type": "stream",
     "text": [
      "view file:///Users/peergynt/fun/svelte/monsun/factory/views/index.html in browser\n"
     ]
    }
   ],
   "source": [
    "tip = h3('achsensymmetrische figuren haben eine Spiegelachse.')\n",
    "tip += h3('Sie teilt die Figur in zwei Hälften die gespiegelt gleich sind.')\n",
    "\n",
    "g = Grid(16,8)\n",
    "\n",
    "g.add_figure((2,6),(2,3),(1,3),(1,1),(2,1),(2,2),(6,2),(6,1),(7,1),(7,3),(6,3),(6,6),\n",
    "            (5,6),(5,4),(3,4),(3,6),(2,6) ,fill='blue')\n",
    "\n",
    "g.add_figure((4,0),(4,8),color='red')\n",
    "\n",
    "g.add_figure((9,1),(15,1),(15,2),(13,2),(13,4),(14,4),(14,5),(13,5),(13,6),(12,6),(12,5),(10,5),\n",
    "             (10,7),(9,7),(9,1), fill = 'green')\n",
    "\n",
    "g.add_figure((8,0),(16,8),color='red')\n",
    "\n",
    "tip += g.get_html()\n",
    "\n",
    "tip += p('beide Figuren sind Achsensymmetrisch. Die Spiegelachsen sind in rot eingezeichnet.')\n",
    "\n",
    "view_components(tip)"
   ]
  },
  {
   "cell_type": "code",
   "execution_count": 26,
   "metadata": {},
   "outputs": [],
   "source": [
    "def stupiddraw(g:Grid,data,color='none',fill='blue'):\n",
    "    w = len(data[0])\n",
    "    h = len(data)\n",
    "    for x in range(w):\n",
    "        for y in range(h):\n",
    "            if data[y][x] == 'x':\n",
    "                points = [(x,y),(x+1,y),(x+1,y+1),(x,y+1),(x,y)]\n",
    "\n",
    "                g.add_figure(*points,color = color,fill = fill)"
   ]
  },
  {
   "cell_type": "code",
   "execution_count": 60,
   "metadata": {},
   "outputs": [
    {
     "name": "stdout",
     "output_type": "stream",
     "text": [
      "view file:///Users/peergynt/fun/svelte/monsun/factory/views/index.html in browser\n"
     ]
    }
   ],
   "source": [
    "\n",
    "def get_random_symetric_figure(a,w,h,axis):\n",
    "        d,_ = gen_random_figure(a,w,h)\n",
    "\n",
    "        if axis == 0:\n",
    "            for y in range(8):\n",
    "                for x in range(4):\n",
    "                    x_ = 8-x-1\n",
    "                    d[y][x] = d[y][x_]\n",
    "        elif axis == 1:\n",
    "            for x in range(8):\n",
    "                for y in range(4):\n",
    "                    y_ = 8-y-1\n",
    "                    d[y][x] = d[y_][x]\n",
    "        \n",
    "        elif axis == 2:\n",
    "            for x in range(8):\n",
    "                for y in range(x):\n",
    "                    d[x][y] = d[y][x]\n",
    "        else:\n",
    "            for x in range(8):\n",
    "                for y in range(x):\n",
    "                    d[7-x][y] = d[7-y][x]\n",
    "            # diag\n",
    "            \n",
    "        return d\n",
    "\n",
    "def gen(sym = True,symetric = get_random_symetric_figure):\n",
    "\n",
    "    w,h = 8,8\n",
    "    g = Grid(w,h)\n",
    "\n",
    "    colors = random.sample(['red','blue','green','yellow'],3)\n",
    "    axis = random.randint(0,3)\n",
    "    data = [symetric(n,w,h,axis) for n in [16,10,6]]\n",
    "\n",
    "    def flip():\n",
    "\n",
    "        x,y = random.randint(0,w-1) ,random.randint(0,h-1)\n",
    "        if x==y or x==(1-w-y):\n",
    "            flip()\n",
    "            return \n",
    "        hit = False\n",
    "        for i in range(len(data)).__reversed__():\n",
    "            if data[i][y][x] == 'x':\n",
    "                hit = True\n",
    "                data[i][y][x] = ' '\n",
    "                break\n",
    "        if not hit :flip()\n",
    "\n",
    "    if not sym:\n",
    "        for n in range(random.choice([1,3])):\n",
    "            flip()\n",
    "\n",
    "    for i in range(3):\n",
    "        stupiddraw(g,data[i],fill=colors[i])\n",
    "\n",
    "    html = g.get_html()\n",
    "    \n",
    "    if sym:\n",
    "        c,w = 'Ja','Nein'\n",
    "    else:\n",
    "        c,w = 'Nein','Ja'\n",
    "    return Question.multiple_choice(html+h3('ist diese Figur Achsensymmetrisch?'),[c],[w],tip)\n",
    "\n",
    "\n",
    "q = gen(True)\n",
    "view_questions(q)"
   ]
  },
  {
   "cell_type": "code",
   "execution_count": 28,
   "metadata": {},
   "outputs": [],
   "source": [
    "q =[gen(True) for _ in range(10)]\n",
    "q += [gen(False) for _ in range(10)]\n",
    "q = random.sample(q,len(q))"
   ]
  },
  {
   "cell_type": "code",
   "execution_count": 29,
   "metadata": {},
   "outputs": [
    {
     "name": "stdout",
     "output_type": "stream",
     "text": [
      "view file:///Users/peergynt/fun/svelte/monsun/factory/views/index.html in browser\n"
     ]
    }
   ],
   "source": [
    "view_questions(*q)"
   ]
  },
  {
   "cell_type": "code",
   "execution_count": 30,
   "metadata": {},
   "outputs": [],
   "source": [
    "collection.add_series(q,5,'achsensymmetrie')"
   ]
  },
  {
   "cell_type": "markdown",
   "metadata": {},
   "source": [
    "## drehsymmetrie"
   ]
  },
  {
   "cell_type": "code",
   "execution_count": 31,
   "metadata": {},
   "outputs": [],
   "source": [
    "def get_random_rotation_symmetric_figure(a,w,h,rot_num):\n",
    "\n",
    "    d,_ = gen_random_figure(a,w,h)\n",
    "    rot_num %= 2\n",
    "\n",
    "    if rot_num == 0:\n",
    "        for y in range(8):\n",
    "            for x in range(4):\n",
    "\n",
    "                d[y][x] = d[7-y][7-x]\n",
    "    elif rot_num == 1:\n",
    "        for x in range(4):\n",
    "            for y in range(4):\n",
    "\n",
    "                if d[7-y][7-x]=='x' or d[y][x]=='x':\n",
    "                    target = 'x'\n",
    "                else:target =' '\n",
    "                d[7-y][7-x] = target\n",
    "                d[y][x] = target\n",
    "                d[x][7-y] = target\n",
    "                d[7-x][y] = target\n",
    "\n",
    "    \n",
    "    elif rot_num == 2:\n",
    "        for x in range(8):\n",
    "            for y in range(x):\n",
    "                d[x][y] = d[y][x]\n",
    "    else:\n",
    "        for x in range(8):\n",
    "            for y in range(x):\n",
    "                d[7-x][y] = d[7-y][x]\n",
    "    return d\n",
    "\n",
    "\n",
    "def gen(sym = True,symetric = get_random_symetric_figure):\n",
    "\n",
    "    w,h = 8,8\n",
    "    g = Grid(w,h)\n",
    "\n",
    "    colors = random.sample(['red','blue','green','yellow'],3)\n",
    "    axis = random.randint(0,3)\n",
    "    data = [symetric(n,w,h,axis) for n in [16,10,6]]\n",
    "\n",
    "    def flip():\n",
    "\n",
    "        x,y = random.randint(0,w-1) ,random.randint(0,h-1)\n",
    "        if x==y or x==(1-w-y):\n",
    "            flip()\n",
    "            return \n",
    "        hit = False\n",
    "        for i in range(len(data)).__reversed__():\n",
    "            if data[i][y][x] == 'x':\n",
    "                hit = True\n",
    "                data[i][y][x] = ' '\n",
    "                break\n",
    "        if not hit :flip()\n",
    "\n",
    "    if not sym:\n",
    "        for n in range(random.choice([1,3])):\n",
    "            flip()\n",
    "\n",
    "    for i in range(3):\n",
    "        stupiddraw(g,data[i],fill=colors[i])\n",
    "\n",
    "    html = g.get_html()\n",
    "    \n",
    "    if sym:\n",
    "        c,w = 'Ja','Nein'\n",
    "    else:\n",
    "        c,w = 'Nein','Ja'\n",
    "    return Question.multiple_choice(html+h3('ist diese Figur Rotationssymmetrisch?'),[c],[w],'')\n",
    "\n"
   ]
  },
  {
   "cell_type": "code",
   "execution_count": 32,
   "metadata": {},
   "outputs": [],
   "source": [
    "q = gen(True,symetric=get_random_rotation_symmetric_figure)\n"
   ]
  },
  {
   "cell_type": "code",
   "execution_count": 33,
   "metadata": {},
   "outputs": [],
   "source": [
    "# raise Warning(\"check visual output for problematic content please!\")\n",
    "a = 10\n",
    "q = [gen(True,symetric=get_random_rotation_symmetric_figure) for _ in range(a)]\n",
    "q += [gen(False,symetric=get_random_rotation_symmetric_figure) for _ in range(a)]\n"
   ]
  },
  {
   "cell_type": "code",
   "execution_count": 34,
   "metadata": {},
   "outputs": [
    {
     "name": "stdout",
     "output_type": "stream",
     "text": [
      "view file:///Users/peergynt/fun/svelte/monsun/factory/views/index.html in browser\n"
     ]
    }
   ],
   "source": [
    "view_questions(*q)"
   ]
  },
  {
   "cell_type": "code",
   "execution_count": 35,
   "metadata": {},
   "outputs": [],
   "source": [
    "def change(n):\n",
    "    q[n] = gen(n<10,symetric=get_random_rotation_symmetric_figure)"
   ]
  },
  {
   "cell_type": "code",
   "execution_count": 41,
   "metadata": {},
   "outputs": [
    {
     "name": "stdout",
     "output_type": "stream",
     "text": [
      "view file:///Users/peergynt/fun/svelte/monsun/factory/views/index.html in browser\n"
     ]
    }
   ],
   "source": [
    "change(12)\n",
    "cont = []\n",
    "for i,item in enumerate(q):\n",
    "    cont .append(item.title+str(i))\n",
    "view_components(*cont)"
   ]
  },
  {
   "cell_type": "code",
   "execution_count": 42,
   "metadata": {},
   "outputs": [],
   "source": [
    "q = random.sample(q,len(q))"
   ]
  },
  {
   "cell_type": "code",
   "execution_count": 43,
   "metadata": {},
   "outputs": [
    {
     "name": "stdout",
     "output_type": "stream",
     "text": [
      "view file:///Users/peergynt/fun/svelte/monsun/factory/views/index.html in browser\n"
     ]
    }
   ],
   "source": [
    "view_questions(*q)"
   ]
  },
  {
   "cell_type": "code",
   "execution_count": 44,
   "metadata": {},
   "outputs": [],
   "source": [
    "collection.add_series(q,6,'rotations symmetrie')"
   ]
  },
  {
   "attachments": {},
   "cell_type": "markdown",
   "metadata": {},
   "source": [
    "## körper"
   ]
  },
  {
   "cell_type": "code",
   "execution_count": 45,
   "metadata": {},
   "outputs": [],
   "source": [
    "class vec3:\n",
    "    def __init__(self,x:float,y:float,z:float):\n",
    "        self.x,self.y,self.z = x,y,z\n",
    "    def __sub__(self,other):\n",
    "        return vec3(self.x - other.x,self.y-other.y,self.z-other.z)\n",
    "    def __add__(self,other):\n",
    "        return vec3(self.x + other.x,self.y+other.y,self.z+other.z)\n",
    "    def __mul__(self,s):\n",
    "        return vec3(self.x*s,self.y*s,self.z*s)\n",
    "    def __repr__(self) -> str:\n",
    "        return f'<{self.x,self.y,self.z}>'\n",
    "class Quader:\n",
    "    def __init__(self,pos:vec3,size:vec3,color='blue'):\n",
    "\n",
    "        pos.y = pos.y\n",
    "        size.y = size.y\n",
    "        self.pos = pos\n",
    "        self.size = size\n",
    "        self.end  = pos + size\n",
    "        self.color = color\n",
    "    \n",
    "    def img(self):\n",
    "        p = 0.3\n",
    "        l = self.pos.x + self.pos.z * p\n",
    "        r = l + self.size.x\n",
    "        b = self.pos.y + self.pos.z * p\n",
    "        t = b + self.size.y\n",
    "        d = self.size.z *p\n",
    "\n",
    "        return self.view(p,l,r,b,t,d)\n",
    "    \n",
    "    def view(self,p,l,r,b,t,d):\n",
    "        b = 1000 - b\n",
    "        t = 1000 - t\n",
    "\n",
    "        ln = line((r,b),(l,b),\n",
    "                 (l,t),(r,t),(r,b)\n",
    "                 ,fill = self.color)\n",
    "        \n",
    "        ln += line((r,t),(l,t),(l+d,t-d),(r+d,t-d),(r,t),fill=self.color)\n",
    "        ln += line((r,t),(r,b),(r+d,b-d),(r+d,t-d),(r,t),fill=self.color)\n",
    "        return ln\n",
    "    \n",
    "    def front_img(self):\n",
    "        l = self.pos.x\n",
    "        r = l + self.size.x\n",
    "        b = self.pos.y \n",
    "        t = b + self.size.y\n",
    "        return self.view(0,l,r,b,t,0)\n",
    "\n",
    "    def right_img(self):\n",
    "        l = self.pos.z\n",
    "        r = l + self.size.z\n",
    "        b = self.pos.y \n",
    "        t = b + self.size.y\n",
    "        return self.view(0,l,r,b,t,0)\n",
    "    \n",
    "    def left_img(self):\n",
    "        r = 1000 - self.pos.z\n",
    "        l = r - self.size.z\n",
    "        b = self.pos.y \n",
    "        t = b + self.size.y\n",
    "        return self.view(0,l,r,b,t,0)\n",
    "\n",
    "    def behind_img(self):\n",
    "        r = 1000-self.pos.x\n",
    "        l = r-self.size.x\n",
    "        b = self.pos.y \n",
    "        t = b + self.size.y\n",
    "        return self.view(0,l,r,b,t,0)\n",
    "    \n",
    "    def top_img(self):\n",
    "        r = self.pos.x\n",
    "        l = r+self.size.x\n",
    "        b = self.pos.z\n",
    "        t = b + self.size.z\n",
    "        return self.view(0,l,r,b,t,0)\n",
    "    \n",
    "    def bottom_img(self):\n",
    "        r = self.pos.x\n",
    "        l = r+self.size.x\n",
    "        b = 1000-self.pos.z\n",
    "        t = b - self.size.z\n",
    "        return self.view(0,l,r,b,t,0)\n",
    "class Group :\n",
    "    def __init__(self,*qs:Quader):\n",
    "        self.qs = qs\n",
    "\n",
    "    def mkview(self,key,img):\n",
    "        qs = sorted(self.qs,key=key)\n",
    "        html = \"\"\n",
    "        for q in qs:\n",
    "            html += img(q)()\n",
    "        return svg(html)\n",
    "    \n",
    "    def view(self,dir='normal'):\n",
    "        if dir == 'vorne':return self.mkview(lambda q: -q.pos.z,lambda q:q.front_img)\n",
    "        if dir == 'links':return self.mkview(lambda q: -q.pos.x,lambda q:q.left_img)\n",
    "        if dir == 'unten':return self.mkview(lambda q: -q.pos.y,lambda q:q.bottom_img)\n",
    "        if dir == 'hinten':return self.mkview(lambda q: q.pos.z+q.size.z,lambda q:q.behind_img)\n",
    "        if dir == 'rechts':return self.mkview(lambda q: q.pos.x+q.size.x,lambda q:q.right_img)\n",
    "        if dir == 'oben':return self.mkview(lambda q: q.pos.y+q.size.y,lambda q:q.top_img)\n",
    "        return self.mkview(lambda q : 1, lambda q: q.img)"
   ]
  },
  {
   "cell_type": "code",
   "execution_count": 46,
   "metadata": {},
   "outputs": [],
   "source": [
    "g1 = Group(\n",
    "    Quader(vec3(100,100,500),vec3(200,300,300),color='yellow'),\n",
    "    Quader(vec3(100,100,100),vec3(300,200,400),color='blue'),\n",
    "    Quader(vec3(400,100,100),vec3(300,100,200),color='red'),\n",
    ")\n",
    "g2 =Group(\n",
    "    Quader(vec3(100,100,100),vec3(500,100,300),color='green'),\n",
    "    Quader(vec3(100,200,100),vec3(200,300,200),color='red'),\n",
    "    Quader(vec3(300,200,100),vec3(200,200,400),color='yellow')\n",
    ")\n",
    "\n",
    "g3 = Group(\n",
    "    Quader(vec3(100,100,100),vec3(100,400,300),color='green'),\n",
    "    Quader(vec3(600,100,100),vec3(100,400,300),color='red'),\n",
    "    Quader(vec3(100,500,100),vec3(600,100,300),color='yellow'),\n",
    "    Quader(vec3(300,600,100),vec3(200,100,300),color='blue'),\n",
    ")\n",
    "\n",
    "g4 = Group(\n",
    "    Quader(vec3(300,100,400),vec3(400,100,100),color='red'),\n",
    "    Quader(vec3(200,100,300),vec3(400,100,100),color='green'),\n",
    "    Quader(vec3(400,200,200),vec3(100,100,500),color='blue'),\n",
    "    Quader(vec3(400,300,400),vec3(100,200,100),color='yellow'),\n",
    ")\n",
    "\n",
    "g = [g1,g2,g3,g4]"
   ]
  },
  {
   "cell_type": "code",
   "execution_count": 47,
   "metadata": {},
   "outputs": [],
   "source": [
    "view_dirs = ['vorne','hinten','rechts','links', 'oben','unten']\n",
    "def gen(g:Group,dir,correct):\n",
    "\n",
    "    normal_view = g.view('normal')\n",
    "\n",
    "    options = view_dirs.copy()\n",
    "    options.remove(dir)\n",
    "    if correct:\n",
    "        options = random.sample(options,2)\n",
    "        options += [\"nein\"]\n",
    "        correct = dir\n",
    "    else:\n",
    "        options = random.sample(options,2)\n",
    "        options += [dir]\n",
    "        correct = 'nein'\n",
    "\n",
    "        #swap to colors\n",
    "        # exclude red and green swap for colorblinds\n",
    "        first = random.choice(list(filter(lambda q:q.color != 'red' and q.color != 'green',g.qs)))\n",
    "        other = random.choice(list(filter(lambda q:q!=first,g.qs)))\n",
    "        temp = first.color\n",
    "        first.color=other.color\n",
    "        other.color = temp\n",
    "    \n",
    "    ansicht = g.view(dir)\n",
    "    \n",
    "    img = '<div style=\"display:flex;width:80vh;margin:auto\">{}</div>'.format(normal_view+ansicht)\n",
    "    title = img+h3('zeigt das zweite bild eine Ansicht vom körper und wenn ja von welcher Richtung?')\n",
    "\n",
    "    return Question.multiple_choice(title,[correct],options,\"\")"
   ]
  },
  {
   "cell_type": "code",
   "execution_count": 48,
   "metadata": {},
   "outputs": [
    {
     "name": "stdout",
     "output_type": "stream",
     "text": [
      "view file:///Users/peergynt/fun/svelte/monsun/factory/views/index.html in browser\n"
     ]
    }
   ],
   "source": [
    "view_components(*map(lambda i : i.view(),g))"
   ]
  },
  {
   "cell_type": "code",
   "execution_count": 49,
   "metadata": {},
   "outputs": [
    {
     "name": "stdout",
     "output_type": "stream",
     "text": [
      "view file:///Users/peergynt/fun/svelte/monsun/factory/views/index.html in browser\n"
     ]
    }
   ],
   "source": [
    "q = gen(g1,'vorne',False)\n",
    "view_questions(q)"
   ]
  },
  {
   "cell_type": "code",
   "execution_count": 50,
   "metadata": {},
   "outputs": [],
   "source": [
    "q = []\n",
    "for group in g:\n",
    "    for dir in view_dirs:\n",
    "        q.append(gen(group,dir,random.choice([True,False])))\n"
   ]
  },
  {
   "cell_type": "code",
   "execution_count": 53,
   "metadata": {},
   "outputs": [
    {
     "name": "stdout",
     "output_type": "stream",
     "text": [
      "view file:///Users/peergynt/fun/svelte/monsun/factory/views/index.html in browser\n"
     ]
    }
   ],
   "source": [
    "view_components(*map(lambda i:i[1].title+i[1].solution+str(i[0]),enumerate(q)))"
   ]
  },
  {
   "cell_type": "code",
   "execution_count": 52,
   "metadata": {},
   "outputs": [
    {
     "data": {
      "text/plain": [
       "<Q:  <h3><div style=\"display:flex;width:80vh; : [\"nein\"]>"
      ]
     },
     "execution_count": 52,
     "metadata": {},
     "output_type": "execute_result"
    }
   ],
   "source": [
    "# q.pop(13)"
   ]
  },
  {
   "cell_type": "code",
   "execution_count": 55,
   "metadata": {},
   "outputs": [],
   "source": [
    "q = random.sample(q,len(q))"
   ]
  },
  {
   "cell_type": "code",
   "execution_count": 56,
   "metadata": {},
   "outputs": [
    {
     "name": "stdout",
     "output_type": "stream",
     "text": [
      "view file:///Users/peergynt/fun/svelte/monsun/factory/views/index.html in browser\n"
     ]
    }
   ],
   "source": [
    "view_questions(*q)"
   ]
  },
  {
   "cell_type": "code",
   "execution_count": 57,
   "metadata": {},
   "outputs": [],
   "source": [
    "collection.add_series(q,6,'perspektivische ansichten')"
   ]
  },
  {
   "attachments": {},
   "cell_type": "markdown",
   "metadata": {},
   "source": [
    "# end"
   ]
  },
  {
   "cell_type": "code",
   "execution_count": 58,
   "metadata": {},
   "outputs": [
    {
     "name": "stdout",
     "output_type": "stream",
     "text": [
      "sname: Wertetafel rstep: 0.5\n",
      "sname: Große Nachbarzahlen rstep: 0.5\n",
      "sname: Zahlen vergleichen rstep: 0.09999999999999964\n",
      "sname: zahlenstrahl rstep: 1.0\n",
      "sname: zahlenreihe rstep: 0.7142857142857153\n",
      "sname: Runden rstep: 0.4800000000000004\n",
      "sname: überschlag rstep: 0.25\n",
      "sname: schriftliche addition rstep: 0.29999999999999716\n",
      "sname: schriftliche addition ergänzen rstep: 0.20000000000000284\n",
      "sname: schriftliche subtraktion rstep: 0.29999999999999716\n",
      "sname: schriftliche subtraktion ergänzen rstep: 0.20000000000000284\n",
      "sname: große multiplikation rstep: 0.028571428571424917\n",
      "sname: große division rstep: 0.057142857142864045\n",
      "sname: schriftliche multiplikation rstep: 0.29999999999999716\n",
      "sname: schriftliche multiplikation zweistellig rstep: 0.20000000000000284\n",
      "sname: runden bei mulitiplikation rstep: 0.09999999999999432\n",
      "sname: schrifltiche division rstep: 0.30000000000001137\n",
      "sname: runden bei division rstep: 0.12000000000000455\n",
      "sname: schriftliche division mit rest rstep: 0.19999999999998863\n",
      "sname: teilbarkeit rstep: 0.25\n",
      "sname: zeitangaben vergleichen rstep: 1.0\n",
      "sname: zeitangaben umwandeln rstep: 0.1666666666666572\n",
      "sname: geldangaben vergleichen rstep: 0.4444444444444571\n",
      "sname: längenangaben schätzen rstep: 0.5\n",
      "sname: längen umwandeln rstep: 0.4166666666666572\n",
      "sname: diagram lesen rstep: 0.8000000000000114\n",
      "sname: fläche bestimmen rstep: 1.0\n",
      "sname: fläche bestimmen 2 rstep: 0.2222222222222222\n",
      "sname: umfang bestimmen rstep: 0.5\n",
      "sname: achsensymmetrie rstep: 0.25\n",
      "sname: rotations symmetrie rstep: 0.3\n",
      "sname: perspektivische ansichten rstep: 0.2608695652173913\n"
     ]
    }
   ],
   "source": [
    "db.save()"
   ]
  },
  {
   "cell_type": "code",
   "execution_count": 59,
   "metadata": {},
   "outputs": [
    {
     "data": {
      "text/plain": [
       "<Collection math_C 32 types>"
      ]
     },
     "execution_count": 59,
     "metadata": {},
     "output_type": "execute_result"
    }
   ],
   "source": [
    "collection"
   ]
  },
  {
   "cell_type": "code",
   "execution_count": 100,
   "metadata": {},
   "outputs": [],
   "source": [
    "db = Database()"
   ]
  },
  {
   "cell_type": "code",
   "execution_count": 101,
   "metadata": {},
   "outputs": [
    {
     "name": "stdout",
     "output_type": "stream",
     "text": [
      "sname: Wertetafel rstep: 0.5\n",
      "sname: Große Nachbarzahlen rstep: 0.5\n",
      "sname: Zahlen vergleichen rstep: 0.09999999999999964\n",
      "sname: zahlenstrahl rstep: 1.0\n",
      "sname: zahlenreihe rstep: 0.7142857142857153\n",
      "sname: Runden rstep: 0.4800000000000004\n",
      "sname: überschlag rstep: 0.25\n",
      "sname: schriftliche addition rstep: 0.29999999999999716\n",
      "sname: schriftliche addition ergänzen rstep: 0.20000000000000284\n",
      "sname: schriftliche subtraktion rstep: 0.29999999999999716\n",
      "sname: schriftliche subtraktion ergänzen rstep: 0.20000000000000284\n",
      "sname: große multiplikation rstep: 0.028571428571424917\n",
      "sname: große division rstep: 0.057142857142864045\n",
      "sname: schriftliche multiplikation rstep: 0.29999999999999716\n",
      "sname: schriftliche multiplikation zweistellig rstep: 0.20000000000000284\n",
      "sname: runden bei mulitiplikation rstep: 0.09999999999999432\n",
      "sname: schrifltiche division rstep: 0.30000000000001137\n",
      "sname: runden bei division rstep: 0.12000000000000455\n",
      "sname: schriftliche division mit rest rstep: 0.19999999999998863\n",
      "sname: teilbarkeit rstep: 0.25\n",
      "sname: zeitangaben vergleichen rstep: 1.0\n",
      "sname: zeitangaben umwandeln rstep: 0.1666666666666572\n",
      "sname: geldangaben vergleichen rstep: 0.4444444444444571\n",
      "sname: längenangaben schätzen rstep: 0.5\n",
      "sname: längen umwandeln rstep: 0.4166666666666572\n",
      "sname: diagram lesen rstep: 0.8000000000000114\n"
     ]
    }
   ],
   "source": [
    "db.save()"
   ]
  }
 ],
 "metadata": {
  "kernelspec": {
   "display_name": "Python 3",
   "language": "python",
   "name": "python3"
  },
  "language_info": {
   "codemirror_mode": {
    "name": "ipython",
    "version": 3
   },
   "file_extension": ".py",
   "mimetype": "text/x-python",
   "name": "python",
   "nbconvert_exporter": "python",
   "pygments_lexer": "ipython3",
   "version": "3.10.9"
  },
  "orig_nbformat": 4,
  "vscode": {
   "interpreter": {
    "hash": "b0fa6594d8f4cbf19f97940f81e996739fb7646882a419484c72d19e05852a7e"
   }
  }
 },
 "nbformat": 4,
 "nbformat_minor": 2
}
