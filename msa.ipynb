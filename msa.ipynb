{
 "cells": [
  {
   "cell_type": "code",
   "execution_count": 1,
   "metadata": {},
   "outputs": [],
   "source": [
    "%load_ext autoreload\n",
    "%autoreload 2"
   ]
  },
  {
   "cell_type": "code",
   "execution_count": 3,
   "metadata": {},
   "outputs": [],
   "source": [
    "import random \n",
    "import json \n",
    "import math"
   ]
  },
  {
   "cell_type": "code",
   "execution_count": 73,
   "metadata": {},
   "outputs": [],
   "source": [
    "from lib.local_database import Database, Collection, Question, db\n",
    "\n",
    "from lib.html_viewer import view_questions as view\n",
    "from lib.html_viewer import view_components as view_comp\n",
    "from lib.html_viewer import extract_vectorimage as extract\n",
    "from lib.html_viewer import svg_to_component as compose\n",
    "from lib.html_viewer import tabl,trow,telm,underline,inpt,mini_red\n",
    "from lib.html_viewer import h3,p,empty,span,div,mkrow,mktabl\n",
    "\n",
    "from lib.svg_generator import diagram"
   ]
  },
  {
   "cell_type": "code",
   "execution_count": 78,
   "metadata": {},
   "outputs": [],
   "source": [
    "from lib.svg_generator import *"
   ]
  },
  {
   "attachments": {},
   "cell_type": "markdown",
   "metadata": {},
   "source": [
    "## setup"
   ]
  },
  {
   "cell_type": "code",
   "execution_count": 80,
   "metadata": {},
   "outputs": [
    {
     "name": "stdout",
     "output_type": "stream",
     "text": [
      "view file:///Users/peergynt/fun/svelte/monsun/factory/views/index.html in browser\n"
     ]
    }
   ],
   "source": [
    "winkel_tip = h3(\"beim Gegenwinkel sind alpha und beta gleich groß:\")\n",
    "\n",
    "winkel_tip += f'''<div style=\"background:white;display:inline\">  {svg(\n",
    "        \n",
    "        line((900,500),(100,500),),\n",
    "        line((800,800),(200,200),),\n",
    "\n",
    "        line(*bow((500,500),200,270,315)),\n",
    "        line(*bow((500,500),200,90,135)),\n",
    "\n",
    "\n",
    "\n",
    "        text(400,470,\"α\"),\n",
    "        text(600,550,\"β\"),\n",
    "\n",
    "        text(150,900,\"α = β \")\n",
    "\n",
    "        \n",
    "        )}</div>'''\n",
    "\n",
    "\n",
    "winkel_tip += h3(\"beim Nebenwinkel  ergeben α und β zusammen 180° :\")\n",
    "\n",
    "winkel_tip += f'''<div style=\"background:white;display:inline\">  {svg(\n",
    "        \n",
    "        line((900,500),(100,500),),\n",
    "        line((800,800),(200,200),),\n",
    "\n",
    "        line(*bow((500,500),200,270,315)),\n",
    "        line(*bow((500,500),120,315,90)),\n",
    "\n",
    "\n",
    "\n",
    "        text(400,470,\"α\"),\n",
    "        text(500,450,\"β\"),\n",
    "\n",
    "        text(150,900,\"α + β = 180°\"),\n",
    "        text(150,940,\"α = 180° - β\")\n",
    "\n",
    "\n",
    "        \n",
    "        )}</div>'''\n",
    "\n",
    "\n",
    "\n",
    "\n",
    "view_comp(winkel_tip)"
   ]
  },
  {
   "cell_type": "code",
   "execution_count": 74,
   "metadata": {},
   "outputs": [],
   "source": [
    "collection:Collection = db.get_collection(\"math\",\"msa\")"
   ]
  },
  {
   "cell_type": "code",
   "execution_count": 6,
   "metadata": {},
   "outputs": [
    {
     "data": {
      "text/plain": [
       "<Collection math_msa 0 types>"
      ]
     },
     "execution_count": 6,
     "metadata": {},
     "output_type": "execute_result"
    }
   ],
   "source": [
    "collection"
   ]
  },
  {
   "cell_type": "code",
   "execution_count": 82,
   "metadata": {},
   "outputs": [
    {
     "name": "stdout",
     "output_type": "stream",
     "text": [
      "view file:///Users/peergynt/fun/svelte/monsun/factory/views/index.html in browser\n"
     ]
    }
   ],
   "source": [
    "\n",
    "def comp(deg:float):\n",
    "    html = f'''<div style=\"background:white;display:inline\">  {svg(\n",
    "        \n",
    "        line(\n",
    "            (800,700),\n",
    "            (250,200),\n",
    "            (150,500),\n",
    "            (850,500)),\n",
    "\n",
    "        line(*bow((580,500),200,270,310)),\n",
    "        line(*bow((580,500),200,90,130)),\n",
    "        line(*bow((250,200),140,135,195)),\n",
    "\n",
    "\n",
    "        text(450,470,\"α\"),\n",
    "        text(650,550,f\"β={deg}°\"),\n",
    "        text(230,300,\"γ=63°\"),\n",
    "\n",
    "        text(150,900,\"Zeichnung ist nicht Maßstabsgetreu\")\n",
    "        \n",
    "        )}</div>'''\n",
    "\n",
    "    return html\n",
    "\n",
    "view_comp(comp(30))"
   ]
  },
  {
   "cell_type": "code",
   "execution_count": 83,
   "metadata": {},
   "outputs": [
    {
     "name": "stdout",
     "output_type": "stream",
     "text": [
      "view file:///Users/peergynt/fun/svelte/monsun/factory/views/index.html in browser\n"
     ]
    }
   ],
   "source": [
    "def gen(deg:float):\n",
    "    c = comp (deg)\n",
    "    c += p(\"wie groß ist beta?\")\n",
    "    return Question.standart(c,deg,[],tip=winkel_tip)\n",
    "\n",
    "view(gen(40))"
   ]
  },
  {
   "cell_type": "code",
   "execution_count": 84,
   "metadata": {},
   "outputs": [],
   "source": [
    "q = [gen(d) for d in range(20,50,3)]"
   ]
  },
  {
   "cell_type": "code",
   "execution_count": 85,
   "metadata": {},
   "outputs": [
    {
     "name": "stdout",
     "output_type": "stream",
     "text": [
      "view file:///Users/peergynt/fun/svelte/monsun/factory/views/index.html in browser\n"
     ]
    }
   ],
   "source": [
    "view(*q)"
   ]
  },
  {
   "cell_type": "markdown",
   "metadata": {},
   "source": [
    "### anteil"
   ]
  },
  {
   "cell_type": "code",
   "execution_count": 128,
   "metadata": {},
   "outputs": [
    {
     "name": "stdout",
     "output_type": "stream",
     "text": [
      "view file:///Users/peergynt/fun/svelte/monsun/factory/views/index.html in browser\n"
     ]
    }
   ],
   "source": [
    "def comp(pieces=[]):\n",
    "\n",
    "    rot = random.randint(0,360)\n",
    "\n",
    "    html = f'''<div style=\"background:white;display:inline\">  {svg(\n",
    "        \n",
    "        line(*bow((500,500),300,0,360)),\n",
    "        line((500,500,),*bow((500,500),300,0   + rot, 60  + rot),(500,500),fill = \"grey\" if 60  in pieces else \"white\"),\n",
    "        line((500,500,),*bow((500,500),300,60  + rot, 180 + rot),(500,500),fill = \"grey\" if 120 in pieces else \"white\"),\n",
    "        line((500,500,),*bow((500,500),300,240 + rot, 270 + rot),(500,500),fill = \"grey\" if 30 in pieces else \"white\"),\n",
    "        line((500,500,),*bow((500,500),300,270 + rot, 360 + rot),(500,500),fill = \"grey\" if 90 in pieces else \"white\"),\n",
    "\n",
    "        text(150,900,\"Zeichnung ist nicht Maßstabsgetreu\"),\n",
    "        \n",
    "        )}</div>'''\n",
    "\n",
    "    return html\n",
    "\n",
    "view_comp(comp([120,90]))"
   ]
  },
  {
   "cell_type": "code",
   "execution_count": 150,
   "metadata": {},
   "outputs": [
    {
     "name": "stdout",
     "output_type": "stream",
     "text": [
      "view file:///Users/peergynt/fun/svelte/monsun/factory/views/index.html in browser\n"
     ]
    }
   ],
   "source": [
    "def gen(pieces = []):\n",
    "\n",
    "    possibs = [\"1/2\",\"1/3\",\"1/4\",\"1/6\",\"1/12\"]\n",
    "\n",
    "    corrects=  list(map(lambda p: f\"1/{int(360/p)}\",pieces))\n",
    "\n",
    "    for x in corrects:\n",
    "        assert x in possibs ,f\"illegal option {x}\"\n",
    "\n",
    "    wrongs = list(filter(lambda p:p not in corrects,possibs))\n",
    "\n",
    "    return Question.multiple_choice(comp(pieces)+p(\"welcher teil ist markiert?\"),corrects,wrongs,\"\")\n",
    "\n",
    "view(gen([120,30]))"
   ]
  },
  {
   "cell_type": "code",
   "execution_count": 153,
   "metadata": {},
   "outputs": [],
   "source": [
    "q = [\n",
    "    gen([30,120]),\n",
    "    gen([120,90]),\n",
    "    gen([90,60]),\n",
    "    gen([60,30]),\n",
    "]"
   ]
  },
  {
   "cell_type": "code",
   "execution_count": 154,
   "metadata": {},
   "outputs": [
    {
     "name": "stdout",
     "output_type": "stream",
     "text": [
      "view file:///Users/peergynt/fun/svelte/monsun/factory/views/index.html in browser\n"
     ]
    }
   ],
   "source": [
    "view(*q)"
   ]
  },
  {
   "cell_type": "code",
   "execution_count": 155,
   "metadata": {},
   "outputs": [],
   "source": [
    "collection.add_series(q,5,\"anteile erkennen\")"
   ]
  },
  {
   "attachments": {},
   "cell_type": "markdown",
   "metadata": {},
   "source": [
    "### potenzen vergleichen "
   ]
  },
  {
   "cell_type": "code",
   "execution_count": 158,
   "metadata": {},
   "outputs": [],
   "source": [
    "def gen(*item):\n",
    "\n",
    "    nums = map (lambda (x,y):x**y,item)\n",
    "\n",
    "    mx = max(item)\n",
    "    wrongs = list(filter( lambda x: x != mx, item))\n",
    "\n",
    "    return Question.multiple_choice(h3(\"welches ist die größte Zahl?\"),[mx],wrongs,\"\")\n"
   ]
  },
  {
   "cell_type": "code",
   "execution_count": 159,
   "metadata": {},
   "outputs": [
    {
     "data": {
      "text/plain": [
       "<Q:  <h3><h3>welches ist die größte Zahl?</h3 : [\"(2, 1)\"]>"
      ]
     },
     "execution_count": 159,
     "metadata": {},
     "output_type": "execute_result"
    }
   ],
   "source": [
    "gen((1,2),(2,1))"
   ]
  },
  {
   "attachments": {},
   "cell_type": "markdown",
   "metadata": {},
   "source": [
    "## save"
   ]
  },
  {
   "cell_type": "code",
   "execution_count": 77,
   "metadata": {},
   "outputs": [
    {
     "name": "stdout",
     "output_type": "stream",
     "text": [
      "sname: gegenwinkel rstep: 0.5\n"
     ]
    }
   ],
   "source": [
    "collection.save()"
   ]
  }
 ],
 "metadata": {
  "kernelspec": {
   "display_name": "Python 3",
   "language": "python",
   "name": "python3"
  },
  "language_info": {
   "codemirror_mode": {
    "name": "ipython",
    "version": 3
   },
   "file_extension": ".py",
   "mimetype": "text/x-python",
   "name": "python",
   "nbconvert_exporter": "python",
   "pygments_lexer": "ipython3",
   "version": "3.11.2"
  },
  "orig_nbformat": 4
 },
 "nbformat": 4,
 "nbformat_minor": 2
}
