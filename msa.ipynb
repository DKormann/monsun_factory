{
 "cells": [
  {
   "cell_type": "code",
   "execution_count": 2,
   "metadata": {},
   "outputs": [],
   "source": [
    "%load_ext autoreload\n",
    "%autoreload 2"
   ]
  },
  {
   "cell_type": "code",
   "execution_count": 3,
   "metadata": {},
   "outputs": [],
   "source": [
    "import random \n",
    "import json \n",
    "import math"
   ]
  },
  {
   "cell_type": "code",
   "execution_count": 4,
   "metadata": {},
   "outputs": [],
   "source": [
    "from lib.local_database import Database, Collection, Question, db\n",
    "\n",
    "from lib.html_viewer import view_questions as view\n",
    "from lib.html_viewer import view_components as view_comp\n",
    "from lib.html_viewer import extract_vectorimage as extract\n",
    "from lib.html_viewer import svg_to_component as compose\n",
    "from lib.html_viewer import tabl,trow,telm,underline,inpt,mini_red\n",
    "from lib.html_viewer import h3,p,empty,span,div,mkrow,mktabl\n",
    "\n",
    "from lib.svg_generator import diagram"
   ]
  },
  {
   "cell_type": "code",
   "execution_count": 5,
   "metadata": {},
   "outputs": [],
   "source": [
    "from lib.svg_generator import *"
   ]
  },
  {
   "attachments": {},
   "cell_type": "markdown",
   "metadata": {},
   "source": [
    "## setup"
   ]
  },
  {
   "cell_type": "code",
   "execution_count": 44,
   "metadata": {},
   "outputs": [
    {
     "name": "stdout",
     "output_type": "stream",
     "text": [
      "view file:///Users/peergynt/fun/svelte/monsun/factory/views/index.html in browser\n"
     ]
    }
   ],
   "source": [
    "winkel_tip = h3(\"beim Gegenwinkel sind alpha und beta gleich groß:\")\n",
    "\n",
    "winkel_tip += f'''<div style=\"background:white;display:inline\">  {svg(\n",
    "        \n",
    "        line((900,500),(100,500),),\n",
    "        line((800,800),(200,200),),\n",
    "\n",
    "        line(*bow((500,500),200,270,315)),\n",
    "        line(*bow((500,500),200,90,135)),\n",
    "\n",
    "\n",
    "\n",
    "        text(400,470,\"α\"),\n",
    "        text(600,550,\"β\"),\n",
    "\n",
    "        text(150,900,\"α = β \")\n",
    "\n",
    "        \n",
    "        )}</div>'''\n",
    "\n",
    "\n",
    "winkel_tip += h3(\"beim Nebenwinkel  ergeben α und β zusammen 180° :\")\n",
    "\n",
    "winkel_tip += f'''<div style=\"background:white;display:inline\">  {svg(\n",
    "        \n",
    "        line((900,500),(100,500),),\n",
    "        line((800,800),(200,200),),\n",
    "\n",
    "        line(*bow((500,500),200,270,315)),\n",
    "        line(*bow((500,500),120,315,90)),\n",
    "\n",
    "\n",
    "\n",
    "        text(400,470,\"α\"),\n",
    "        text(500,450,\"β\"),\n",
    "\n",
    "        text(150,900,\"α + β = 180°\"),\n",
    "        text(150,940,\"α = 180° - β\")\n",
    "\n",
    "\n",
    "        \n",
    "        )}</div>'''\n",
    "\n",
    "\n",
    "\n",
    "\n",
    "view_comp(winkel_tip)"
   ]
  },
  {
   "cell_type": "code",
   "execution_count": 45,
   "metadata": {},
   "outputs": [],
   "source": [
    "collection:Collection = db.get_collection(\"math\",\"msa\")"
   ]
  },
  {
   "cell_type": "code",
   "execution_count": 46,
   "metadata": {},
   "outputs": [
    {
     "name": "stdout",
     "output_type": "stream",
     "text": [
      "view file:///Users/peergynt/fun/svelte/monsun/factory/views/index.html in browser\n"
     ]
    }
   ],
   "source": [
    "view_comp(svg(line((0,0),(500,500))))"
   ]
  },
  {
   "cell_type": "code",
   "execution_count": 8,
   "metadata": {},
   "outputs": [
    {
     "name": "stdout",
     "output_type": "stream",
     "text": [
      "view file:///Users/peergynt/fun/svelte/monsun/factory/views/index.html in browser\n"
     ]
    }
   ],
   "source": [
    "\n",
    "def comp(deg:float):\n",
    "    html = f'''<div style=\"background:white;display:inline\">  {svg(\n",
    "        \n",
    "        line(\n",
    "            (800,700),\n",
    "            (250,200),\n",
    "            (150,500),\n",
    "            (850,500)),\n",
    "\n",
    "        line(*bow((580,500),200,270,310)),\n",
    "        line(*bow((580,500),200,90,130)),\n",
    "        line(*bow((250,200),140,135,195)),\n",
    "\n",
    "\n",
    "        text(450,470,\"α\"),\n",
    "        text(650,550,f\"β={deg}°\"),\n",
    "        text(230,300,\"γ=63°\"),\n",
    "\n",
    "        text(150,900,\"Zeichnung ist nicht Maßstabsgetreu\")\n",
    "        \n",
    "        )}</div>'''\n",
    "\n",
    "    return html\n",
    "\n",
    "view_comp(comp(30))"
   ]
  },
  {
   "cell_type": "code",
   "execution_count": 9,
   "metadata": {},
   "outputs": [
    {
     "name": "stdout",
     "output_type": "stream",
     "text": [
      "view file:///Users/peergynt/fun/svelte/monsun/factory/views/index.html in browser\n"
     ]
    }
   ],
   "source": [
    "def gen(deg:float):\n",
    "    c = comp (deg)\n",
    "    c += p(\"wie groß ist beta?\")\n",
    "    return Question.standart(c,deg,[],tip=winkel_tip)\n",
    "\n",
    "view(gen(40))"
   ]
  },
  {
   "cell_type": "code",
   "execution_count": 10,
   "metadata": {},
   "outputs": [],
   "source": [
    "q = [gen(d) for d in range(20,50,3)]"
   ]
  },
  {
   "cell_type": "code",
   "execution_count": 11,
   "metadata": {},
   "outputs": [
    {
     "name": "stdout",
     "output_type": "stream",
     "text": [
      "view file:///Users/peergynt/fun/svelte/monsun/factory/views/index.html in browser\n"
     ]
    }
   ],
   "source": [
    "view(*q)"
   ]
  },
  {
   "cell_type": "markdown",
   "metadata": {},
   "source": [
    "### anteil"
   ]
  },
  {
   "cell_type": "code",
   "execution_count": 12,
   "metadata": {},
   "outputs": [
    {
     "name": "stdout",
     "output_type": "stream",
     "text": [
      "view file:///Users/peergynt/fun/svelte/monsun/factory/views/index.html in browser\n"
     ]
    }
   ],
   "source": [
    "def comp(pieces=[]):\n",
    "\n",
    "    rot = random.randint(0,360)\n",
    "\n",
    "    html = f'''<div style=\"background:white;display:inline\">  {svg(\n",
    "        \n",
    "        line(*bow((500,500),300,0,360)),\n",
    "        line((500,500,),*bow((500,500),300,0   + rot, 60  + rot),(500,500),fill = \"grey\" if 60  in pieces else \"white\"),\n",
    "        line((500,500,),*bow((500,500),300,60  + rot, 180 + rot),(500,500),fill = \"grey\" if 120 in pieces else \"white\"),\n",
    "        line((500,500,),*bow((500,500),300,240 + rot, 270 + rot),(500,500),fill = \"grey\" if 30 in pieces else \"white\"),\n",
    "        line((500,500,),*bow((500,500),300,270 + rot, 360 + rot),(500,500),fill = \"grey\" if 90 in pieces else \"white\"),\n",
    "\n",
    "        text(150,900,\"Zeichnung ist nicht Maßstabsgetreu\"),\n",
    "        \n",
    "        )}</div>'''\n",
    "\n",
    "    return html\n",
    "\n",
    "view_comp(comp([120,90]))"
   ]
  },
  {
   "cell_type": "code",
   "execution_count": 13,
   "metadata": {},
   "outputs": [
    {
     "name": "stdout",
     "output_type": "stream",
     "text": [
      "view file:///Users/peergynt/fun/svelte/monsun/factory/views/index.html in browser\n"
     ]
    }
   ],
   "source": [
    "def gen(pieces = []):\n",
    "\n",
    "    possibs = [\"1/2\",\"1/3\",\"1/4\",\"1/6\",\"1/12\"]\n",
    "\n",
    "    corrects=  list(map(lambda p: f\"1/{int(360/p)}\",pieces))\n",
    "\n",
    "    for x in corrects:\n",
    "        assert x in possibs ,f\"illegal option {x}\"\n",
    "\n",
    "    wrongs = list(filter(lambda p:p not in corrects,possibs))\n",
    "\n",
    "    return Question.multiple_choice(comp(pieces)+p(\"welcher teil ist markiert?\"),corrects,wrongs,\"\")\n",
    "\n",
    "view(gen([120,30]))"
   ]
  },
  {
   "cell_type": "code",
   "execution_count": 14,
   "metadata": {},
   "outputs": [],
   "source": [
    "q = [\n",
    "    gen([30,120]),\n",
    "    gen([120,90]),\n",
    "    gen([90,60]),\n",
    "    gen([60,30]),\n",
    "]"
   ]
  },
  {
   "cell_type": "code",
   "execution_count": 15,
   "metadata": {},
   "outputs": [
    {
     "name": "stdout",
     "output_type": "stream",
     "text": [
      "view file:///Users/peergynt/fun/svelte/monsun/factory/views/index.html in browser\n"
     ]
    }
   ],
   "source": [
    "view(*q)"
   ]
  },
  {
   "cell_type": "code",
   "execution_count": 16,
   "metadata": {},
   "outputs": [],
   "source": [
    "collection.add_series(q,5,\"anteile erkennen\")"
   ]
  },
  {
   "attachments": {},
   "cell_type": "markdown",
   "metadata": {},
   "source": [
    "### potenzen vergleichen "
   ]
  },
  {
   "cell_type": "code",
   "execution_count": 17,
   "metadata": {},
   "outputs": [
    {
     "name": "stdout",
     "output_type": "stream",
     "text": [
      "view file:///Users/peergynt/fun/svelte/monsun/factory/views/index.html in browser\n"
     ]
    }
   ],
   "source": [
    "def gen(*item):\n",
    "\n",
    "    nums = map (lambda i:i[0]**i[1],item)\n",
    "\n",
    "    mx = max(nums)\n",
    "    wrongs = list(filter( lambda x: x[0]**x[1] != mx, item))\n",
    "\n",
    "\n",
    "\n",
    "    corrects = list(filter( lambda x: x[0]**x[1] == mx, item))\n",
    "\n",
    "    wrongs = list(map(lambda x: f\"{x[0]}^{x[1]}\",wrongs))\n",
    "    corrects = list(map(lambda x: f\"{x[0]}^{x[1]}\",corrects))\n",
    "\n",
    "    return Question.multiple_choice(h3(\"Welche Potenz hat das größere Ergebniss?\"),corrects,wrongs,\"\")\n",
    "\n",
    "view(gen((1,3),(4,1)))"
   ]
  },
  {
   "cell_type": "code",
   "execution_count": 18,
   "metadata": {},
   "outputs": [
    {
     "name": "stdout",
     "output_type": "stream",
     "text": [
      "view file:///Users/peergynt/fun/svelte/monsun/factory/views/index.html in browser\n"
     ]
    }
   ],
   "source": [
    "q = [\n",
    "    gen((4,3),(8,4),(2,8)),\n",
    "    gen((4,2),(6,3),(2,6)),\n",
    "    gen((4,3),(100,0),(2,8)),\n",
    "    gen((3,2),(20,1),(2,4)),\n",
    "    gen((4,3),(50,2),(2,5)),\n",
    "]\n",
    "view(*q)"
   ]
  },
  {
   "cell_type": "code",
   "execution_count": 19,
   "metadata": {},
   "outputs": [],
   "source": [
    "collection.add_series(q,4,\"potenzen vergleichen\")"
   ]
  },
  {
   "attachments": {},
   "cell_type": "markdown",
   "metadata": {},
   "source": [
    "### simple Fläche berechnen"
   ]
  },
  {
   "attachments": {},
   "cell_type": "markdown",
   "metadata": {},
   "source": [
    "### simple wahrscheinlichkeit"
   ]
  },
  {
   "cell_type": "code",
   "execution_count": 100,
   "metadata": {},
   "outputs": [
    {
     "name": "stdout",
     "output_type": "stream",
     "text": [
      "view file:///Users/peergynt/fun/svelte/monsun/factory/views/index.html in browser\n"
     ]
    }
   ],
   "source": [
    "def comp(bnum,p1,p2):\n",
    "\n",
    "    balls = []\n",
    "\n",
    "    x = 210\n",
    "    step = 110\n",
    "    for i in range(bnum):\n",
    "        balls.append(line(*bow((x+step*i,340),50,0,-1),fill='black'))\n",
    "    \n",
    "    balls.append(line(*bow((x+step*0.5,240),50,0,-1)))\n",
    "\n",
    "\n",
    "    return h3('''In einem Gefäß befinden sich schwarze und weiße Kugeln.\n",
    "Das Baumdiagramm zeigt an, mit welcher Wahrscheinlichkeit eine schwarze oder\n",
    "weiße Kugel gezogen werden kann.''')+h3(\"wie viele Weiße Kugeln müssen in der Urne enthalten sein?\")+svg(\n",
    "        line((850,100),(850,400),(150,400),(150,100),),\n",
    "        *balls,\n",
    "\n",
    "        line((250,750),(700,650)),\n",
    "        line((250,750),(700,850)),\n",
    "        line(*bow((700,650),50,0,-1),fill=\"white\"),\n",
    "        line(*bow((700,850),50,0,-1),fill=\"black\"),\n",
    "        text(500,650,p1),\n",
    "        text(500,870,p2),\n",
    "    )\n",
    "\n",
    "\n",
    "view_comp(comp(3,\"p1\",\"p2\"))"
   ]
  },
  {
   "cell_type": "code",
   "execution_count": 109,
   "metadata": {},
   "outputs": [
    {
     "name": "stdout",
     "output_type": "stream",
     "text": [
      "view file:///Users/peergynt/fun/svelte/monsun/factory/views/index.html in browser\n"
     ]
    }
   ],
   "source": [
    "q=[\n",
    "    Question.standart(comp(4,\"1/2\",\"1/2\"),4,[],),\n",
    "    Question.standart(comp(3,\"1/4\",\"3/4\"),1,[],),\n",
    "    Question.standart(comp(4,\"3/4\",\"1/4\"),12,[],),\n",
    "    Question.standart(comp(1,\"3/4\",\"1/4\"),4,[],),\n",
    "    Question.standart(comp(2,\"5/6\",\"1/6\"),10,[],),\n",
    "]\n",
    "view(*q)"
   ]
  },
  {
   "attachments": {},
   "cell_type": "markdown",
   "metadata": {},
   "source": [
    "### Statistik Spannweite"
   ]
  },
  {
   "cell_type": "code",
   "execution_count": 153,
   "metadata": {},
   "outputs": [
    {
     "name": "stdout",
     "output_type": "stream",
     "text": [
      "view file:///Users/peergynt/fun/svelte/monsun/factory/views/index.html in browser\n"
     ]
    }
   ],
   "source": [
    "def gen():\n",
    "\n",
    "    mn = random.random()*10\n",
    "    mx = mn + random.random()*10\n",
    "\n",
    "    nums = [round(random.random(),1) for _ in range(4)]\n",
    "    nums += [round(mn,1),round(mx,1)]\n",
    "\n",
    "    span = max(nums) - min(nums)\n",
    "    span = round(span,1)\n",
    "\n",
    "    nums = list(map(str,nums))\n",
    "\n",
    "    nums = random.sample(nums,len(nums))\n",
    "\n",
    "    tit = h3(\"was ist die Spannweite der folgenden Daten\")\n",
    "    tit += p(\" \".join(nums))\n",
    "\n",
    "    return Question.standart(tit,str(span))\n",
    "\n",
    "view(gen())"
   ]
  },
  {
   "cell_type": "code",
   "execution_count": 154,
   "metadata": {},
   "outputs": [],
   "source": [
    "q = [gen() for _ in range(10)]"
   ]
  },
  {
   "cell_type": "code",
   "execution_count": 156,
   "metadata": {},
   "outputs": [
    {
     "name": "stdout",
     "output_type": "stream",
     "text": [
      "view file:///Users/peergynt/fun/svelte/monsun/factory/views/index.html in browser\n"
     ]
    }
   ],
   "source": [
    "view(*q)"
   ]
  },
  {
   "cell_type": "code",
   "execution_count": 155,
   "metadata": {},
   "outputs": [],
   "source": [
    "collection.add_series(1,4,\"statistik spannweite\")"
   ]
  },
  {
   "attachments": {},
   "cell_type": "markdown",
   "metadata": {},
   "source": [
    "### wissenschaftliche_schreibweise"
   ]
  },
  {
   "cell_type": "code",
   "execution_count": 40,
   "metadata": {},
   "outputs": [],
   "source": [
    "tip = p(\"bei der Wissenschaftlichen Schreibweise schreibt man erst eine zahl zwischen 1 und 10 auf.\")\n",
    "tip += p(\"dann schreibt man mal 10^n wobei n angibt wie viele stellen die Zahl verschoben werden muss.\")\n",
    "tip += p(\"wenn n positiv ist muss die zahl vergrößert werden und wenn n negativ ist muss sie verkleinert werden.\")\n",
    "\n",
    "tip += p(\"2.1 • 10^2 = 210\")\n",
    "tip += p(\"2.1 • 10^1 = 21\")\n",
    "tip += p(\"2.1 • 10^-1 = 0.21\")\n",
    "tip += p(\"2.1 • 10^-2 = 0.021\")\n"
   ]
  },
  {
   "cell_type": "code",
   "execution_count": 41,
   "metadata": {},
   "outputs": [
    {
     "data": {
      "text/plain": [
       "<Q:  <h3>geben Sie die Dezimalzahl an.</h3><p : [0.0]>"
      ]
     },
     "execution_count": 41,
     "metadata": {},
     "output_type": "execute_result"
    }
   ],
   "source": [
    "exps = [5,4,3,2,-2,-3,-4,-5]\n",
    "def gen():\n",
    "    mant = random.random() * 10 \n",
    "    mant = round(mant,1)\n",
    "\n",
    "    exp = random.choice(exps)\n",
    "\n",
    "    res = mant * int(10 ** exp)\n",
    "\n",
    "    tit = h3(\"geben Sie die Dezimalzahl an.\")\n",
    "    tit += p(f\"{mant} • 10^{exp}\")\n",
    "\n",
    "    return Question.standart(tit,res,tip = tip)\n",
    "\n",
    "gen()"
   ]
  },
  {
   "cell_type": "code",
   "execution_count": 42,
   "metadata": {},
   "outputs": [
    {
     "name": "stdout",
     "output_type": "stream",
     "text": [
      "view file:///Users/peergynt/fun/svelte/monsun/factory/views/index.html in browser\n"
     ]
    }
   ],
   "source": [
    "q = [gen() for _ in range(10)]\n",
    "view(*q)"
   ]
  },
  {
   "cell_type": "code",
   "execution_count": 48,
   "metadata": {},
   "outputs": [],
   "source": [
    "collection.add_series(q,4,\"Wissenschaftliche Schreibweise lesen\")"
   ]
  },
  {
   "attachments": {},
   "cell_type": "markdown",
   "metadata": {},
   "source": [
    "### lineare nullstelle"
   ]
  },
  {
   "cell_type": "code",
   "execution_count": null,
   "metadata": {},
   "outputs": [],
   "source": [
    "svg()"
   ]
  },
  {
   "cell_type": "code",
   "execution_count": 231,
   "metadata": {},
   "outputs": [
    {
     "name": "stdout",
     "output_type": "stream",
     "text": [
      "view file:///Users/peergynt/fun/svelte/monsun/factory/views/index.html in browser\n"
     ]
    }
   ],
   "source": [
    "class CoordinateSystem:\n",
    "\n",
    "    def __init__(self,xrange = [-5,5],yrange = [-5,5]):\n",
    "        self.xrange, self.yrange = xrange, yrange\n",
    "\n",
    "        self.xspan = max(xrange) - min(xrange)\n",
    "        self.yspan = max(yrange) - min(yrange)\n",
    "\n",
    "        minspan = min(self.xspan,self.yspan)\n",
    "\n",
    "        arrowheadsize = minspan * 0.03\n",
    "\n",
    "        self.items = []\n",
    "\n",
    "        for i in range(xrange[0]+1,xrange[1]):\n",
    "            self.line((i,yrange[0]),(i,yrange[1]),color=\"#bb9\")\n",
    "            self.line((i,0+arrowheadsize*0.5),(i,-arrowheadsize*0.5))\n",
    "\n",
    "        for i in range(xrange[0]+1,xrange[1]):\n",
    "            self.line((yrange[0],i),(yrange[1],i),color=\"#bb9\")\n",
    "            self.line((arrowheadsize*0.5,i),(-arrowheadsize*0.5,i))\n",
    "\n",
    "\n",
    "        self.line((self.xrange[0],0),(self.xrange[1],0))\n",
    "        self.line((self.xrange[1]-arrowheadsize,0+arrowheadsize),(self.xrange[1],0),(self.xrange[1]-arrowheadsize,0-arrowheadsize))\n",
    "\n",
    "        self.line((0,self.yrange[0]),(0,self.yrange[1]))\n",
    "        self.line((0+arrowheadsize,self.yrange[0]+arrowheadsize),(0,self.yrange[0]),(0-arrowheadsize,self.yrange[0]+arrowheadsize))\n",
    "    \n",
    "\n",
    "    def wpos(self,p):\n",
    "        return ((p[0]-self.xrange[0])*1000/self.xspan,(p[1]-self.yrange[0])/self.yspan*1000)\n",
    "\n",
    "    def line(self,*points,color=\"black\",fill=\"none\"):\n",
    "        points = map(self.wpos ,points)\n",
    "        self.items.append(line(*points,color=color,fill=fill))\n",
    "\n",
    "cs = CoordinateSystem()\n",
    "\n",
    "view_comp(svg(*cs.items))"
   ]
  },
  {
   "cell_type": "code",
   "execution_count": null,
   "metadata": {},
   "outputs": [],
   "source": []
  },
  {
   "cell_type": "code",
   "execution_count": 167,
   "metadata": {},
   "outputs": [],
   "source": [
    "class CoordinateSystem:\n",
    "    def __init__(self,xrange = [-5,5],yrange = [-5,5]):\n",
    "        self.xrange, self.yrange = xrange, yrange\n",
    "\n",
    "        xspan = max(xrange) - min(xrange)\n",
    "        yspan = max(yrange) - min(yrange)\n",
    "\n",
    "        minspan = min(xspan,yspan)\n",
    "\n",
    "        self.grid = Grid(xspan,yspan)\n",
    "\n",
    "        arrowheadsize = minspan * 0.03\n",
    "\n",
    "        self.grid.add_figure((0,-yrange[0]),(xspan,-yrange[0]))\n",
    "        self.grid.add_figure((xspan-arrowheadsize,-yrange[0]+arrowheadsize),(xspan,-yrange[0]),(xspan-arrowheadsize,-yrange[0]-arrowheadsize),fill=\"none\")\n",
    "\n",
    "        self.grid.add_figure((-xrange[0],0),(-xrange[0],yspan))\n",
    "        self.grid.add_figure((-xrange[0]-arrowheadsize,0+arrowheadsize),(-xrange[0],0),(-xrange[0]+arrowheadsize,0+arrowheadsize),fill=\"none\")\n",
    "\n",
    "\n",
    "        for i in range(xrange[0]+1,xrange[1]):\n",
    "\n",
    "            self.add_figure((i,.5*arrowheadsize),(i,-.5*arrowheadsize))\n",
    "\n",
    "        for i in range(yrange[0]+1,yrange[1]):\n",
    "            self.add_figure((.5*arrowheadsize,i),(-.5*arrowheadsize,i))\n",
    "\n",
    "        self.get_html = self.grid.get_html\n",
    "\n",
    "    def wpos(self,p):\n",
    "        return (p[0]-self.xrange[0],p[1]-self.yrange[0])\n",
    "\n",
    "    def add_figure(self,*points,color=\"black\",fill=\"none\"):\n",
    "        points = map(self.wpos ,points)\n",
    "        self.grid.add_figure(*points,color=color,fill=fill)\n"
   ]
  },
  {
   "cell_type": "code",
   "execution_count": null,
   "metadata": {},
   "outputs": [],
   "source": [
    "diagram"
   ]
  },
  {
   "cell_type": "code",
   "execution_count": 168,
   "metadata": {},
   "outputs": [
    {
     "name": "stdout",
     "output_type": "stream",
     "text": [
      "view file:///Users/peergynt/fun/svelte/monsun/factory/views/index.html in browser\n"
     ]
    }
   ],
   "source": [
    "cs = CoordinateSystem()\n",
    "\n",
    "\n",
    "view_comp(cs.get_html())"
   ]
  },
  {
   "cell_type": "code",
   "execution_count": 145,
   "metadata": {},
   "outputs": [
    {
     "name": "stdout",
     "output_type": "stream",
     "text": [
      "[(0, 5.135), (0, 4.865)]\n",
      "[(1, 5.135), (1, 4.865)]\n",
      "[(2, 5.135), (2, 4.865)]\n",
      "[(3, 5.135), (3, 4.865)]\n",
      "[(4, 5.135), (4, 4.865)]\n",
      "[(5, 5.135), (5, 4.865)]\n",
      "[(6, 5.135), (6, 4.865)]\n",
      "[(7, 5.135), (7, 4.865)]\n",
      "[(8, 5.135), (8, 4.865)]\n",
      "view file:///Users/peergynt/fun/svelte/monsun/factory/views/index.html in browser\n"
     ]
    }
   ],
   "source": [
    "\n",
    "cs = CoordinateSystem(xrange=[-4,5])\n",
    "\n",
    "view_comp(cs.get_html())"
   ]
  },
  {
   "attachments": {},
   "cell_type": "markdown",
   "metadata": {},
   "source": [
    "## save"
   ]
  },
  {
   "cell_type": "code",
   "execution_count": 77,
   "metadata": {},
   "outputs": [
    {
     "name": "stdout",
     "output_type": "stream",
     "text": [
      "sname: gegenwinkel rstep: 0.5\n"
     ]
    }
   ],
   "source": [
    "collection.save()"
   ]
  }
 ],
 "metadata": {
  "kernelspec": {
   "display_name": "Python 3",
   "language": "python",
   "name": "python3"
  },
  "language_info": {
   "codemirror_mode": {
    "name": "ipython",
    "version": 3
   },
   "file_extension": ".py",
   "mimetype": "text/x-python",
   "name": "python",
   "nbconvert_exporter": "python",
   "pygments_lexer": "ipython3",
   "version": "3.11.2"
  },
  "orig_nbformat": 4
 },
 "nbformat": 4,
 "nbformat_minor": 2
}
