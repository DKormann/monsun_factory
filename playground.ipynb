{
 "cells": [
  {
   "cell_type": "code",
   "execution_count": 5,
   "metadata": {},
   "outputs": [
    {
     "name": "stdout",
     "output_type": "stream",
     "text": [
      "The autoreload extension is already loaded. To reload it, use:\n",
      "  %reload_ext autoreload\n"
     ]
    }
   ],
   "source": [
    "%load_ext autoreload\n",
    "%autoreload 2"
   ]
  },
  {
   "cell_type": "code",
   "execution_count": 6,
   "metadata": {},
   "outputs": [],
   "source": [
    "from importlib import reload\n",
    "import lib"
   ]
  },
  {
   "cell_type": "code",
   "execution_count": 7,
   "metadata": {},
   "outputs": [],
   "source": [
    "from lib.svg_generator import svg,line,path_template,line_from_path,Grid\n",
    "from lib.html_viewer import view_components,view_questions\n",
    "from lib.local_database import Question,Collection,Database,Series\n",
    "import json"
   ]
  },
  {
   "cell_type": "code",
   "execution_count": 8,
   "metadata": {},
   "outputs": [],
   "source": [
    "db = Database(load = True)"
   ]
  },
  {
   "cell_type": "code",
   "execution_count": 10,
   "metadata": {},
   "outputs": [],
   "source": [
    "col = db.get_collection()"
   ]
  },
  {
   "cell_type": "code",
   "execution_count": 11,
   "metadata": {},
   "outputs": [
    {
     "data": {
      "text/plain": [
       "<Collection math_C 32 types>"
      ]
     },
     "execution_count": 11,
     "metadata": {},
     "output_type": "execute_result"
    }
   ],
   "source": [
    "col"
   ]
  },
  {
   "cell_type": "code",
   "execution_count": 12,
   "metadata": {},
   "outputs": [
    {
     "name": "stdout",
     "output_type": "stream",
     "text": [
      "sname: Wertetafel rstep: 0.5\n",
      "sname: Große Nachbarzahlen rstep: 0.5\n",
      "sname: Zahlen vergleichen rstep: 0.09999999999999964\n",
      "sname: zahlenstrahl rstep: 1.0\n",
      "sname: zahlenreihe rstep: 0.7142857142857153\n",
      "sname: Runden rstep: 0.4800000000000004\n",
      "sname: überschlag rstep: 0.25\n",
      "sname: schriftliche addition rstep: 0.29999999999999716\n",
      "sname: schriftliche addition ergänzen rstep: 0.20000000000000284\n",
      "sname: schriftliche subtraktion rstep: 0.29999999999999716\n",
      "sname: schriftliche subtraktion ergänzen rstep: 0.20000000000000284\n",
      "sname: große multiplikation rstep: 0.028571428571424917\n",
      "sname: große division rstep: 0.057142857142864045\n",
      "sname: schriftliche multiplikation rstep: 0.29999999999999716\n",
      "sname: schriftliche multiplikation zweistellig rstep: 0.20000000000000284\n",
      "sname: runden bei mulitiplikation rstep: 0.09999999999999432\n",
      "sname: schrifltiche division rstep: 0.30000000000001137\n",
      "sname: runden bei division rstep: 0.12000000000000455\n",
      "sname: schriftliche division mit rest rstep: 0.19999999999998863\n",
      "sname: teilbarkeit rstep: 0.25\n",
      "sname: zeitangaben vergleichen rstep: 1.0\n",
      "sname: zeitangaben umwandeln rstep: 0.1666666666666572\n",
      "sname: geldangaben vergleichen rstep: 0.4444444444444571\n",
      "sname: längenangaben schätzen rstep: 0.5\n",
      "sname: längen umwandeln rstep: 0.4166666666666572\n",
      "sname: diagram lesen rstep: 0.8000000000000114\n",
      "sname: fläche bestimmen rstep: 1.0\n",
      "sname: fläche bestimmen 2 rstep: 0.22222222222222854\n",
      "sname: umfang bestimmen rstep: 0.5\n",
      "sname: achsensymmetrie rstep: 0.25\n",
      "sname: rotations symmetrie rstep: 0.30000000000001137\n",
      "sname: perspektivische ansichten rstep: 0.2608695652174049\n"
     ]
    }
   ],
   "source": [
    "db.save()"
   ]
  },
  {
   "cell_type": "code",
   "execution_count": 16,
   "metadata": {},
   "outputs": [
    {
     "name": "stdout",
     "output_type": "stream",
     "text": [
      "math_C\n"
     ]
    },
    {
     "data": {
      "text/plain": [
       "{'version': '0.0.1',\n",
       " 'courses': {'math': {'C': ['Wertetafel',\n",
       "    'Große Nachbarzahlen',\n",
       "    'Zahlen vergleichen',\n",
       "    'zahlenstrahl',\n",
       "    'zahlenreihe',\n",
       "    'Runden',\n",
       "    'überschlag',\n",
       "    'schriftliche addition',\n",
       "    'schriftliche addition ergänzen',\n",
       "    'schriftliche subtraktion',\n",
       "    'schriftliche subtraktion ergänzen',\n",
       "    'große multiplikation',\n",
       "    'große division',\n",
       "    'schriftliche multiplikation',\n",
       "    'schriftliche multiplikation zweistellig',\n",
       "    'runden bei mulitiplikation',\n",
       "    'schrifltiche division',\n",
       "    'runden bei division',\n",
       "    'schriftliche division mit rest',\n",
       "    'teilbarkeit',\n",
       "    'zeitangaben vergleichen',\n",
       "    'zeitangaben umwandeln',\n",
       "    'geldangaben vergleichen',\n",
       "    'längenangaben schätzen',\n",
       "    'längen umwandeln',\n",
       "    'diagram lesen',\n",
       "    'fläche bestimmen',\n",
       "    'fläche bestimmen 2',\n",
       "    'umfang bestimmen',\n",
       "    'achsensymmetrie',\n",
       "    'rotations symmetrie',\n",
       "    'perspektivische ansichten']}}}"
      ]
     },
     "execution_count": 16,
     "metadata": {},
     "output_type": "execute_result"
    }
   ],
   "source": [
    "db.get_info()"
   ]
  },
  {
   "cell_type": "code",
   "execution_count": 17,
   "metadata": {},
   "outputs": [
    {
     "name": "stdout",
     "output_type": "stream",
     "text": [
      "math_C\n",
      "sname: Wertetafel rstep: 0.5\n",
      "sname: Große Nachbarzahlen rstep: 0.5\n",
      "sname: Zahlen vergleichen rstep: 0.09999999999999964\n",
      "sname: zahlenstrahl rstep: 1.0\n",
      "sname: zahlenreihe rstep: 0.7142857142857153\n",
      "sname: Runden rstep: 0.4800000000000004\n",
      "sname: überschlag rstep: 0.25\n",
      "sname: schriftliche addition rstep: 0.29999999999999716\n",
      "sname: schriftliche addition ergänzen rstep: 0.20000000000000284\n",
      "sname: schriftliche subtraktion rstep: 0.29999999999999716\n",
      "sname: schriftliche subtraktion ergänzen rstep: 0.20000000000000284\n",
      "sname: große multiplikation rstep: 0.028571428571424917\n",
      "sname: große division rstep: 0.057142857142864045\n",
      "sname: schriftliche multiplikation rstep: 0.29999999999999716\n",
      "sname: schriftliche multiplikation zweistellig rstep: 0.20000000000000284\n",
      "sname: runden bei mulitiplikation rstep: 0.09999999999999432\n",
      "sname: schrifltiche division rstep: 0.30000000000001137\n",
      "sname: runden bei division rstep: 0.12000000000000455\n",
      "sname: schriftliche division mit rest rstep: 0.19999999999998863\n",
      "sname: teilbarkeit rstep: 0.25\n",
      "sname: zeitangaben vergleichen rstep: 1.0\n",
      "sname: zeitangaben umwandeln rstep: 0.1666666666666572\n",
      "sname: geldangaben vergleichen rstep: 0.4444444444444571\n",
      "sname: längenangaben schätzen rstep: 0.5\n",
      "sname: längen umwandeln rstep: 0.4166666666666572\n",
      "sname: diagram lesen rstep: 0.8000000000000114\n",
      "sname: fläche bestimmen rstep: 1.0\n",
      "sname: fläche bestimmen 2 rstep: 0.22222222222222854\n",
      "sname: umfang bestimmen rstep: 0.5\n",
      "sname: achsensymmetrie rstep: 0.25\n",
      "sname: rotations symmetrie rstep: 0.30000000000001137\n",
      "sname: perspektivische ansichten rstep: 0.2608695652174049\n"
     ]
    }
   ],
   "source": [
    "db.save()"
   ]
  },
  {
   "cell_type": "code",
   "execution_count": null,
   "metadata": {},
   "outputs": [],
   "source": [
    "data = {\n",
    "    \"math\":{\n",
    "        \"niveaus\":\n",
    "    }\n",
    "}"
   ]
  }
 ],
 "metadata": {
  "kernelspec": {
   "display_name": "Python 3 (ipykernel)",
   "language": "python",
   "name": "python3"
  },
  "language_info": {
   "codemirror_mode": {
    "name": "ipython",
    "version": 3
   },
   "file_extension": ".py",
   "mimetype": "text/x-python",
   "name": "python",
   "nbconvert_exporter": "python",
   "pygments_lexer": "ipython3",
   "version": "3.10.9"
  },
  "vscode": {
   "interpreter": {
    "hash": "b0fa6594d8f4cbf19f97940f81e996739fb7646882a419484c72d19e05852a7e"
   }
  }
 },
 "nbformat": 4,
 "nbformat_minor": 2
}
