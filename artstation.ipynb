{
 "cells": [
  {
   "cell_type": "code",
   "execution_count": 1,
   "metadata": {},
   "outputs": [],
   "source": [
    "from lib.svg_generator import svg, line\n",
    "from lib.html_viewer import view_components"
   ]
  },
  {
   "cell_type": "code",
   "execution_count": 2,
   "metadata": {},
   "outputs": [
    {
     "name": "stdout",
     "output_type": "stream",
     "text": [
      "view file:///Users/peergynt/fun/svelte/monsun/factory/views/index.html in browser\n"
     ]
    }
   ],
   "source": [
    "grad = '''\n",
    "<defs>\n",
    "    <linearGradient id=\"Gradient2\" gradientUnits='userSpaceOnUse' x2=\"600\" y2=\"0\" x1=\"400\" y1=\"1000\">\n",
    "      <stop offset=\" 5%\" stop-color= \"#00c\" />\n",
    "      <stop offset=\"95%\" stop-color= \"#4af\" />\n",
    "    </linearGradient>\n",
    "</defs>'''\n",
    "w = .19\n",
    "a = .95\n",
    "\n",
    "a-=w\n",
    "\n",
    "s = (1 - a)*500\n",
    "l = 500*(1+ a)\n",
    "sq = 2 ** 0.5\n",
    "s_d = (1-a/sq)*500\n",
    "l_d = (1+a/sq)*500\n",
    "\n",
    "color = 'url(#Gradient2)'\n",
    "black = 'url(#Gradient2)'\n",
    "\n",
    "html = svg(\n",
    "    grad,\n",
    "\n",
    "    line((l,500),(s,500),stroke_width=w*1000,color = color),\n",
    "    line((500,l),(500,s),stroke_width=w*1000,color = color),\n",
    "\n",
    "\n",
    "    line((s_d,s_d),(l_d,l_d),stroke_width=w*1000,color = color),\n",
    "    line((s_d,l_d),(l_d,s_d),stroke_width=w*1000,color = color),\n",
    "    background_color='transparent'\n",
    ")\n",
    "view_components(html)"
   ]
  },
  {
   "cell_type": "code",
   "execution_count": 40,
   "metadata": {},
   "outputs": [],
   "source": [
    "with open(\"./vector_files/icon.svg\",'w') as f:\n",
    "    f.write(html)"
   ]
  },
  {
   "cell_type": "code",
   "execution_count": 81,
   "metadata": {},
   "outputs": [
    {
     "name": "stdout",
     "output_type": "stream",
     "text": [
      "view file:///Users/peergynt/fun/svelte/monsun/factory/views/index.html in browser\n"
     ]
    }
   ],
   "source": [
    "w = .2\n",
    "a = .95\n",
    "\n",
    "a-=w\n",
    "\n",
    "s = (1 - a)*500\n",
    "l = 500*(1+ a)\n",
    "sq = 2 ** 0.5\n",
    "s_d = (1-a/sq)*500\n",
    "l_d = (1+a/sq)*500\n",
    "\n",
    "color = 'url(#Gradient2)'\n",
    "black = 'url(#Gradient2)'\n",
    "\n",
    "html = svg(\n",
    "    grad,\n",
    "\n",
    "    line((l,500),(s,500),stroke_width=w*1000,color = color),\n",
    "    line((500,l),(500,s),stroke_width=w*1000,color = color),\n",
    "\n",
    "\n",
    "    line((s_d,s_d),(l_d,l_d),stroke_width=w*1000,color = color),\n",
    "    line((s_d,l_d),(l_d,s_d),stroke_width=w*1000,color = color),\n",
    ")\n",
    "view_components(html)"
   ]
  }
 ],
 "metadata": {
  "kernelspec": {
   "display_name": "Python 3",
   "language": "python",
   "name": "python3"
  },
  "language_info": {
   "codemirror_mode": {
    "name": "ipython",
    "version": 3
   },
   "file_extension": ".py",
   "mimetype": "text/x-python",
   "name": "python",
   "nbconvert_exporter": "python",
   "pygments_lexer": "ipython3",
   "version": "3.10.9"
  },
  "orig_nbformat": 4,
  "vscode": {
   "interpreter": {
    "hash": "b0fa6594d8f4cbf19f97940f81e996739fb7646882a419484c72d19e05852a7e"
   }
  }
 },
 "nbformat": 4,
 "nbformat_minor": 2
}
